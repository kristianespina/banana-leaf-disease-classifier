{
  "nbformat": 4,
  "nbformat_minor": 0,
  "metadata": {
    "colab": {
      "provenance": [],
      "gpuType": "T4"
    },
    "kernelspec": {
      "name": "python3",
      "display_name": "Python 3"
    },
    "language_info": {
      "name": "python"
    },
    "accelerator": "TPU"
  },
  "cells": [
    {
      "cell_type": "code",
      "source": [
        "from google.colab import drive\n",
        "drive.mount('/content/gdrive')\n",
        "\n",
        "BASE_DIR = \"/content/gdrive/My Drive/CS282/\""
      ],
      "metadata": {
        "colab": {
          "base_uri": "https://localhost:8080/"
        },
        "id": "_5saOagyJElG",
        "outputId": "186ab25b-5d08-4069-e18c-06cc309dce9e"
      },
      "execution_count": null,
      "outputs": [
        {
          "output_type": "stream",
          "name": "stdout",
          "text": [
            "Drive already mounted at /content/gdrive; to attempt to forcibly remount, call drive.mount(\"/content/gdrive\", force_remount=True).\n"
          ]
        }
      ]
    },
    {
      "cell_type": "code",
      "source": [
        "!pip install einops"
      ],
      "metadata": {
        "colab": {
          "base_uri": "https://localhost:8080/"
        },
        "id": "5GNZ9rDiAs9D",
        "outputId": "b08c6432-bc2b-4e67-e8fe-366d77a8caf2"
      },
      "execution_count": null,
      "outputs": [
        {
          "output_type": "stream",
          "name": "stdout",
          "text": [
            "Looking in indexes: https://pypi.org/simple, https://us-python.pkg.dev/colab-wheels/public/simple/\n",
            "Collecting einops\n",
            "  Downloading einops-0.6.1-py3-none-any.whl (42 kB)\n",
            "\u001b[2K     \u001b[90m━━━━━━━━━━━━━━━━━━━━━━━━━━━━━━━━━━━━━━━━\u001b[0m \u001b[32m42.2/42.2 kB\u001b[0m \u001b[31m2.7 MB/s\u001b[0m eta \u001b[36m0:00:00\u001b[0m\n",
            "\u001b[?25hInstalling collected packages: einops\n",
            "Successfully installed einops-0.6.1\n"
          ]
        }
      ]
    },
    {
      "cell_type": "code",
      "execution_count": null,
      "metadata": {
        "colab": {
          "base_uri": "https://localhost:8080/"
        },
        "id": "magVbz1alOrc",
        "outputId": "b562f707-f9ab-43d3-a684-8d9978a2c013"
      },
      "outputs": [
        {
          "output_type": "stream",
          "name": "stdout",
          "text": [
            "Downloading...\n",
            "From: https://drive.google.com/uc?id=1E_htEdSsltrC_OX7RY62vLkIa8eAoX5b\n",
            "To: /content/processed.zip\n",
            "100% 7.03M/7.03M [00:00<00:00, 18.6MB/s]\n"
          ]
        }
      ],
      "source": [
        "!gdown 1E_htEdSsltrC_OX7RY62vLkIa8eAoX5b"
      ]
    },
    {
      "cell_type": "code",
      "source": [
        "!unzip -q -o processed.zip"
      ],
      "metadata": {
        "id": "lzuq6U3elV6O"
      },
      "execution_count": null,
      "outputs": []
    },
    {
      "cell_type": "code",
      "source": [
        "from torch.utils.data import Dataset, DataLoader\n",
        "import torch\n",
        "import torchvision\n",
        "from torchvision import transforms\n",
        "from PIL import Image\n",
        "\n",
        "import os\n",
        "import copy\n",
        "from pathlib import Path\n",
        "import matplotlib.pyplot as plt"
      ],
      "metadata": {
        "id": "j0I1hIvUlY7v"
      },
      "execution_count": null,
      "outputs": []
    },
    {
      "cell_type": "code",
      "source": [
        "USE_GPU = False\n",
        "EPOCHS = 150"
      ],
      "metadata": {
        "id": "Zn5itnXMlaiU"
      },
      "execution_count": null,
      "outputs": []
    },
    {
      "cell_type": "code",
      "source": [
        "# Config device\n",
        "device = torch.device('cuda' if torch.cuda.is_available() else 'cpu')\n",
        "device"
      ],
      "metadata": {
        "colab": {
          "base_uri": "https://localhost:8080/"
        },
        "id": "SOLh_VGjlbmW",
        "outputId": "0d095df5-74b5-4a09-a639-580a4ad5cafd"
      },
      "execution_count": null,
      "outputs": [
        {
          "output_type": "execute_result",
          "data": {
            "text/plain": [
              "device(type='cuda')"
            ]
          },
          "metadata": {},
          "execution_count": 7
        }
      ]
    },
    {
      "cell_type": "code",
      "source": [],
      "metadata": {
        "id": "tjyvIg8rBQrR"
      },
      "execution_count": null,
      "outputs": []
    },
    {
      "cell_type": "code",
      "source": [
        "class BananaLeafDiseaseDataset(Dataset):\n",
        "    def __init__(self, target_dir: str, transform=None):\n",
        "        self.transform = transform\n",
        "\n",
        "        # Load image paths\n",
        "        self.image_paths = list(Path(target_dir).glob('*/*.jpg'))\n",
        "        self.classes, self.class_to_idx = self.load_classes(target_dir)\n",
        "\n",
        "    def load_image(self, idx: int):\n",
        "        return Image.open(self.image_paths[idx])\n",
        "\n",
        "    def __len__(self):\n",
        "        return len(self.image_paths)\n",
        "\n",
        "    def __getitem__(self, idx):\n",
        "        img = self.load_image(idx)\n",
        "        class_name = self.image_paths[idx].parent.name\n",
        "        class_idx = self.class_to_idx[class_name]\n",
        "\n",
        "        if self.transform:\n",
        "            return self.transform(img), class_idx\n",
        "        else:\n",
        "            return img, class_idx\n",
        "\n",
        "\n",
        "    def load_classes(self, target_dir):\n",
        "        \"\"\"\n",
        "            Returns:\n",
        "                classes[]\n",
        "                class_to_idx{}\n",
        "        \"\"\"\n",
        "        classes = sorted(entry.name for entry in os.scandir(target_dir) if entry.is_dir())\n",
        "        class_to_idx = {cls_name: i for i, cls_name in enumerate(classes)}\n",
        "        return classes, class_to_idx"
      ],
      "metadata": {
        "id": "4VzEEv0clcyW"
      },
      "execution_count": null,
      "outputs": []
    },
    {
      "cell_type": "code",
      "source": [
        "def train_one_epoch(train_loader, model, criterion, optimizer, scheduler):\n",
        "    # Train mode\n",
        "    model.train()\n",
        "\n",
        "    # Track metrics\n",
        "    loss_epoch = 0\n",
        "    accuracy_epoch = 0\n",
        "\n",
        "    # Loop over minibatches\n",
        "    for inputs, labels in train_loader:\n",
        "        # Send to device\n",
        "        inputs = inputs.to(device)\n",
        "        labels = labels.to(device)\n",
        "\n",
        "        # Forward pass\n",
        "        outputs = model(inputs)\n",
        "        loss = criterion(outputs, labels)\n",
        "\n",
        "        # Backprop\n",
        "        loss.backward()\n",
        "\n",
        "        # Update parameters\n",
        "        optimizer.step()\n",
        "\n",
        "        # Zero gradients\n",
        "        optimizer.zero_grad()\n",
        "\n",
        "        # Track loss\n",
        "        loss_epoch += loss.detach().item()\n",
        "\n",
        "        # Accuracy\n",
        "        _, preds = torch.max(outputs, 1)\n",
        "        accuracy_epoch += torch.sum(preds == labels)/inputs.shape[0]\n",
        "\n",
        "    # Update learning rate\n",
        "    scheduler.step()\n",
        "\n",
        "    return loss_epoch/len(train_loader), accuracy_epoch.item()/len(train_loader)"
      ],
      "metadata": {
        "id": "tWDrU3p6ldlV"
      },
      "execution_count": null,
      "outputs": []
    },
    {
      "cell_type": "code",
      "source": [
        "def evaluate_one_epoch(test_loader, model, criterion):\n",
        "    # Eval mode\n",
        "    model.eval()\n",
        "\n",
        "    # Track metrics\n",
        "    loss_epoch = 0\n",
        "    accuracy_epoch = 0\n",
        "\n",
        "    # Don't update weights\n",
        "    with torch.no_grad():\n",
        "        # Loop over minibatches\n",
        "        for inputs, labels in test_loader:\n",
        "            # Send to device\n",
        "            inputs = inputs.to(device)\n",
        "            labels = labels.to(device)\n",
        "\n",
        "            # Forward pass\n",
        "            outputs = model(inputs)\n",
        "            loss = criterion(outputs, labels)\n",
        "\n",
        "            # Track loss\n",
        "            loss_epoch += loss.detach().item()\n",
        "\n",
        "            # Accuracy\n",
        "            _, preds = torch.max(outputs, 1)\n",
        "            accuracy_epoch += torch.sum(preds == labels)/inputs.shape[0]\n",
        "\n",
        "    return loss_epoch/len(test_loader), accuracy_epoch.item()/len(test_loader)"
      ],
      "metadata": {
        "id": "Z16nyA1YlfFY"
      },
      "execution_count": null,
      "outputs": []
    },
    {
      "cell_type": "code",
      "source": [
        "# Plot history\n",
        "def plot_hist(train_loss_hist, test_loss_hist, train_acc_hist, test_acc_hist):\n",
        "    plt.figure(figsize=(15,4))\n",
        "    plt.subplot(1,2,1)\n",
        "    plt.plot(train_loss_hist, label='Train_Loss')\n",
        "    plt.plot(test_loss_hist, label='Test_loss')\n",
        "    plt.title('Cross Entropy Loss')\n",
        "    plt.legend()\n",
        "\n",
        "    plt.subplot(1,2,2)\n",
        "    plt.plot(train_acc_hist, label='Train_Accuracy')\n",
        "    plt.plot(test_acc_hist, label='Val_Accuracy')\n",
        "    plt.title('Accuracy')\n",
        "    plt.legend()\n",
        "    plt.show()"
      ],
      "metadata": {
        "id": "KpGEo5xIlf8z"
      },
      "execution_count": null,
      "outputs": []
    },
    {
      "cell_type": "code",
      "source": [
        "def train_model(model, criterion, optimizer, scheduler, train_loader, test_loader, verbose=True, best_weight_file_name='model.h5'):\n",
        "    # Initialise outputs\n",
        "    train_loss_hist = []\n",
        "    test_loss_hist = []\n",
        "    train_acc_hist = []\n",
        "    test_acc_hist = []\n",
        "\n",
        "    max_test_acc = 0.0\n",
        "    best_model_weights = copy.deepcopy(model.state_dict())\n",
        "\n",
        "    # Loop over epochs\n",
        "    for epoch in range(EPOCHS):\n",
        "        # Train\n",
        "        train_loss, train_accuracy = train_one_epoch(train_loader, model, criterion, optimizer, scheduler)\n",
        "\n",
        "        # Evaluate\n",
        "        test_loss, test_accuracy = evaluate_one_epoch(test_loader, model, criterion)\n",
        "\n",
        "        # Track metrics\n",
        "        train_loss_hist.append(train_loss)\n",
        "        test_loss_hist.append(test_loss)\n",
        "        train_acc_hist.append(train_accuracy)\n",
        "        test_acc_hist.append(test_accuracy)\n",
        "\n",
        "        # Print loss\n",
        "        if verbose:\n",
        "            if (epoch+1)%1==0:\n",
        "                print(f'Epoch {epoch+1}/{EPOCHS}, loss {train_loss:.5f}, test_loss {test_loss:.5f}, accuracy {train_accuracy:.5f}, test_accuracy {test_accuracy:.5f}')\n",
        "\n",
        "        # Save best weight\n",
        "        if test_accuracy > max_test_acc:\n",
        "          max_test_acc = test_accuracy\n",
        "          best_model_weights = copy.deepcopy(model.state_dict())\n",
        "\n",
        "    # Save best weight to file\n",
        "    torch.save(best_model_weights, BASE_DIR + best_weight_file_name)\n",
        "\n",
        "    return train_loss_hist, test_loss_hist, train_acc_hist, test_acc_hist"
      ],
      "metadata": {
        "id": "YVxVi-GFlguP"
      },
      "execution_count": null,
      "outputs": []
    },
    {
      "cell_type": "code",
      "source": [
        "basic_transforms = transforms.Compose([\n",
        "    transforms.Resize((224,224)),\n",
        "    transforms.ToTensor(),\n",
        "    transforms.Normalize((0.485, 0.456, 0.406), (0.229, 0.224, 0.225)),\n",
        "])\n",
        "\n",
        "train_transforms = transforms.Compose([\n",
        "    transforms.RandomVerticalFlip(p = 0.5),\n",
        "    transforms.RandomHorizontalFlip(p = 0.5),\n",
        "    transforms.Resize((224,224)),\n",
        "    transforms.ToTensor(),\n",
        "    transforms.Normalize((0.485, 0.456, 0.406), (0.229, 0.224, 0.225)),\n",
        "])"
      ],
      "metadata": {
        "id": "oOzWZ5_Klh00"
      },
      "execution_count": null,
      "outputs": []
    },
    {
      "cell_type": "code",
      "source": [
        "train_dataset = BananaLeafDiseaseDataset('./processed/train', transform=train_transforms)\n",
        "test_dataset = BananaLeafDiseaseDataset('./processed/test', transform=basic_transforms)"
      ],
      "metadata": {
        "id": "292vBk3DlkMZ"
      },
      "execution_count": null,
      "outputs": []
    },
    {
      "cell_type": "code",
      "source": [
        "# Address class imbalance\n",
        "classes = sorted(entry.name for entry in os.scandir('./processed/train') if entry.is_dir())\n",
        "class_to_idx = {cls_name: i for i, cls_name in enumerate(classes)}\n",
        "\n",
        "def get_weights(images):\n",
        "    num_images = len(images)\n",
        "    count_per_class = [0] * len(classes)\n",
        "\n",
        "    for img in images:\n",
        "        img_class = img.parent.name\n",
        "        class_idx = class_to_idx[img_class]\n",
        "        count_per_class[class_idx] += 1\n",
        "\n",
        "    weight_per_class = [0.0] * len(classes)\n",
        "\n",
        "    for i in range(len(classes)):\n",
        "        weight_per_class[i] = float(num_images) / float(count_per_class[i])\n",
        "\n",
        "    weights = [0] * num_images\n",
        "\n",
        "    for i, img in enumerate(images):\n",
        "        img_class = img.parent.name\n",
        "        class_idx = class_to_idx[img_class]\n",
        "        weights[i] = weight_per_class[class_idx]\n",
        "\n",
        "    return weights"
      ],
      "metadata": {
        "id": "i0cKNSFy0UkL"
      },
      "execution_count": null,
      "outputs": []
    },
    {
      "cell_type": "code",
      "source": [
        "weights = get_weights(train_dataset.image_paths)\n",
        "sampler = torch.utils.data.sampler.WeightedRandomSampler(weights, len(weights))"
      ],
      "metadata": {
        "id": "mkvFpf2h23gJ"
      },
      "execution_count": null,
      "outputs": []
    },
    {
      "cell_type": "code",
      "source": [
        "train_loader = DataLoader(train_dataset, batch_size=20, sampler=sampler)\n",
        "test_loader = DataLoader(test_dataset, batch_size=20, shuffle=True)"
      ],
      "metadata": {
        "id": "1KhSLsjYlk20"
      },
      "execution_count": null,
      "outputs": []
    },
    {
      "cell_type": "code",
      "source": [
        "model = torchvision.models.resnet50()\n",
        "model.fc = torch.nn.Sequential(\n",
        "    torch.nn.Linear(\n",
        "        in_features=2048,\n",
        "        out_features=3\n",
        "    ),\n",
        "    torch.nn.Sigmoid()\n",
        ")\n",
        "model.to(device)\n",
        "optimizer = torch.optim.AdamW(model.parameters(), lr=1e-6)\n",
        "criterion = torch.nn.CrossEntropyLoss(label_smoothing=0.1)\n",
        "scheduler = torch.optim.lr_scheduler.CyclicLR(\n",
        "            optimizer, base_lr=1e-6, max_lr=1e-4, cycle_momentum=False\n",
        "        )\n",
        "\n",
        "best_model_wts = copy.deepcopy(model.state_dict())\n",
        "best_acc = 0.0\n"
      ],
      "metadata": {
        "id": "URL6RNxJlljn"
      },
      "execution_count": null,
      "outputs": []
    },
    {
      "cell_type": "code",
      "source": [
        "train_loss_hist, test_loss_hist, train_acc_hist, test_acc_hist = train_model(model, criterion, optimizer, scheduler, train_loader, test_loader)"
      ],
      "metadata": {
        "colab": {
          "base_uri": "https://localhost:8080/"
        },
        "id": "1IWJGZN3lqX_",
        "outputId": "e3fce955-3e2c-41f3-c153-797632a119cc"
      },
      "execution_count": null,
      "outputs": [
        {
          "output_type": "stream",
          "name": "stdout",
          "text": [
            "Epoch 1/150, loss 1.09746, test_loss 1.08326, accuracy 0.31776, test_accuracy 0.34000\n",
            "Epoch 2/150, loss 1.07971, test_loss 1.06080, accuracy 0.37289, test_accuracy 0.40000\n",
            "Epoch 3/150, loss 1.07049, test_loss 1.05392, accuracy 0.46215, test_accuracy 0.47000\n",
            "Epoch 4/150, loss 1.05658, test_loss 1.04521, accuracy 0.49377, test_accuracy 0.54000\n",
            "Epoch 5/150, loss 1.04590, test_loss 1.04145, accuracy 0.50618, test_accuracy 0.51000\n",
            "Epoch 6/150, loss 1.03665, test_loss 1.01801, accuracy 0.51211, test_accuracy 0.53000\n",
            "Epoch 7/150, loss 1.03739, test_loss 1.01294, accuracy 0.50553, test_accuracy 0.57000\n",
            "Epoch 8/150, loss 1.03149, test_loss 1.01539, accuracy 0.51368, test_accuracy 0.54000\n",
            "Epoch 9/150, loss 1.02052, test_loss 1.00585, accuracy 0.53443, test_accuracy 0.58000\n",
            "Epoch 10/150, loss 1.01725, test_loss 1.00723, accuracy 0.54465, test_accuracy 0.55000\n",
            "Epoch 11/150, loss 1.01904, test_loss 1.00226, accuracy 0.53456, test_accuracy 0.53000\n",
            "Epoch 12/150, loss 1.02036, test_loss 1.00986, accuracy 0.51868, test_accuracy 0.53000\n",
            "Epoch 13/150, loss 1.01298, test_loss 0.98740, accuracy 0.52952, test_accuracy 0.58000\n",
            "Epoch 14/150, loss 1.01319, test_loss 0.97519, accuracy 0.53794, test_accuracy 0.62000\n",
            "Epoch 15/150, loss 1.00341, test_loss 0.96629, accuracy 0.53531, test_accuracy 0.63000\n",
            "Epoch 16/150, loss 0.99642, test_loss 0.97014, accuracy 0.55228, test_accuracy 0.65000\n",
            "Epoch 17/150, loss 1.00840, test_loss 0.96484, accuracy 0.53548, test_accuracy 0.62000\n",
            "Epoch 18/150, loss 1.00214, test_loss 0.96121, accuracy 0.54215, test_accuracy 0.65000\n",
            "Epoch 19/150, loss 1.00475, test_loss 0.95994, accuracy 0.55044, test_accuracy 0.67000\n",
            "Epoch 20/150, loss 0.97705, test_loss 0.95046, accuracy 0.58386, test_accuracy 0.65000\n",
            "Epoch 21/150, loss 0.97221, test_loss 0.94403, accuracy 0.58557, test_accuracy 0.67000\n",
            "Epoch 22/150, loss 0.97171, test_loss 0.94109, accuracy 0.59303, test_accuracy 0.61000\n",
            "Epoch 23/150, loss 0.98294, test_loss 0.92678, accuracy 0.56469, test_accuracy 0.66000\n",
            "Epoch 24/150, loss 0.96028, test_loss 0.93114, accuracy 0.60557, test_accuracy 0.62000\n",
            "Epoch 25/150, loss 0.96134, test_loss 0.93295, accuracy 0.59140, test_accuracy 0.63000\n",
            "Epoch 26/150, loss 0.95648, test_loss 0.91198, accuracy 0.60132, test_accuracy 0.63000\n",
            "Epoch 27/150, loss 0.93979, test_loss 0.91617, accuracy 0.63636, test_accuracy 0.64000\n",
            "Epoch 28/150, loss 0.94409, test_loss 0.91419, accuracy 0.61890, test_accuracy 0.66000\n",
            "Epoch 29/150, loss 0.93310, test_loss 0.90090, accuracy 0.63737, test_accuracy 0.67000\n",
            "Epoch 30/150, loss 0.93517, test_loss 0.89268, accuracy 0.62544, test_accuracy 0.67000\n",
            "Epoch 31/150, loss 0.92101, test_loss 0.90483, accuracy 0.65715, test_accuracy 0.69000\n",
            "Epoch 32/150, loss 0.90277, test_loss 0.89699, accuracy 0.68882, test_accuracy 0.69000\n",
            "Epoch 33/150, loss 0.90445, test_loss 0.89718, accuracy 0.68219, test_accuracy 0.66000\n",
            "Epoch 34/150, loss 0.90938, test_loss 0.90488, accuracy 0.67456, test_accuracy 0.66000\n",
            "Epoch 35/150, loss 0.90318, test_loss 0.90180, accuracy 0.67070, test_accuracy 0.65000\n",
            "Epoch 36/150, loss 0.91003, test_loss 0.89473, accuracy 0.66553, test_accuracy 0.68000\n",
            "Epoch 37/150, loss 0.90210, test_loss 0.89234, accuracy 0.67057, test_accuracy 0.69000\n",
            "Epoch 38/150, loss 0.90809, test_loss 0.90273, accuracy 0.66969, test_accuracy 0.69000\n",
            "Epoch 39/150, loss 0.90668, test_loss 0.89080, accuracy 0.65728, test_accuracy 0.70000\n",
            "Epoch 40/150, loss 0.87747, test_loss 0.87876, accuracy 0.71232, test_accuracy 0.70000\n",
            "Epoch 41/150, loss 0.90966, test_loss 0.89590, accuracy 0.66237, test_accuracy 0.66000\n",
            "Epoch 42/150, loss 0.88696, test_loss 0.90177, accuracy 0.68649, test_accuracy 0.67000\n",
            "Epoch 43/150, loss 0.87686, test_loss 0.89979, accuracy 0.69136, test_accuracy 0.66000\n",
            "Epoch 44/150, loss 0.88217, test_loss 0.88836, accuracy 0.69482, test_accuracy 0.68000\n",
            "Epoch 45/150, loss 0.88180, test_loss 0.87370, accuracy 0.68982, test_accuracy 0.73000\n",
            "Epoch 46/150, loss 0.86995, test_loss 0.87224, accuracy 0.71886, test_accuracy 0.71000\n",
            "Epoch 47/150, loss 0.87315, test_loss 0.89053, accuracy 0.71640, test_accuracy 0.67000\n",
            "Epoch 48/150, loss 0.87669, test_loss 0.88050, accuracy 0.69053, test_accuracy 0.69000\n",
            "Epoch 49/150, loss 0.87813, test_loss 0.89128, accuracy 0.69636, test_accuracy 0.72000\n",
            "Epoch 50/150, loss 0.87839, test_loss 0.89795, accuracy 0.70386, test_accuracy 0.65000\n",
            "Epoch 51/150, loss 0.86522, test_loss 0.88003, accuracy 0.72728, test_accuracy 0.70000\n",
            "Epoch 52/150, loss 0.85318, test_loss 0.86334, accuracy 0.72732, test_accuracy 0.74000\n",
            "Epoch 53/150, loss 0.85451, test_loss 0.85288, accuracy 0.72478, test_accuracy 0.75000\n",
            "Epoch 54/150, loss 0.86831, test_loss 0.85502, accuracy 0.71070, test_accuracy 0.75000\n",
            "Epoch 55/150, loss 0.85237, test_loss 0.89463, accuracy 0.73478, test_accuracy 0.72000\n",
            "Epoch 56/150, loss 0.85166, test_loss 0.87297, accuracy 0.73136, test_accuracy 0.73000\n",
            "Epoch 57/150, loss 0.85459, test_loss 0.87514, accuracy 0.71807, test_accuracy 0.70000\n",
            "Epoch 58/150, loss 0.86280, test_loss 0.86403, accuracy 0.71645, test_accuracy 0.73000\n",
            "Epoch 59/150, loss 0.84203, test_loss 0.85678, accuracy 0.75066, test_accuracy 0.73000\n",
            "Epoch 60/150, loss 0.84720, test_loss 0.84981, accuracy 0.73456, test_accuracy 0.73000\n",
            "Epoch 61/150, loss 0.84068, test_loss 0.85172, accuracy 0.74228, test_accuracy 0.75000\n",
            "Epoch 62/150, loss 0.85779, test_loss 0.84657, accuracy 0.70640, test_accuracy 0.76000\n",
            "Epoch 63/150, loss 0.84597, test_loss 0.85971, accuracy 0.73316, test_accuracy 0.75000\n",
            "Epoch 64/150, loss 0.85913, test_loss 0.84095, accuracy 0.70978, test_accuracy 0.76000\n",
            "Epoch 65/150, loss 0.83380, test_loss 0.83412, accuracy 0.75061, test_accuracy 0.79000\n",
            "Epoch 66/150, loss 0.83671, test_loss 0.86865, accuracy 0.74575, test_accuracy 0.69000\n",
            "Epoch 67/150, loss 0.83998, test_loss 0.84224, accuracy 0.74561, test_accuracy 0.75000\n",
            "Epoch 68/150, loss 0.83446, test_loss 0.86278, accuracy 0.74741, test_accuracy 0.68000\n",
            "Epoch 69/150, loss 0.82717, test_loss 0.84364, accuracy 0.76079, test_accuracy 0.72000\n",
            "Epoch 70/150, loss 0.83468, test_loss 0.85156, accuracy 0.74487, test_accuracy 0.74000\n",
            "Epoch 71/150, loss 0.81810, test_loss 0.85177, accuracy 0.76732, test_accuracy 0.71000\n",
            "Epoch 72/150, loss 0.82733, test_loss 0.84696, accuracy 0.75066, test_accuracy 0.73000\n",
            "Epoch 73/150, loss 0.81485, test_loss 0.86243, accuracy 0.76732, test_accuracy 0.75000\n",
            "Epoch 74/150, loss 0.83234, test_loss 0.85195, accuracy 0.74649, test_accuracy 0.73000\n",
            "Epoch 75/150, loss 0.81294, test_loss 0.86251, accuracy 0.78298, test_accuracy 0.73000\n",
            "Epoch 76/150, loss 0.82404, test_loss 0.84268, accuracy 0.76728, test_accuracy 0.73000\n",
            "Epoch 77/150, loss 0.82107, test_loss 0.84035, accuracy 0.75728, test_accuracy 0.71000\n",
            "Epoch 78/150, loss 0.80684, test_loss 0.83719, accuracy 0.78232, test_accuracy 0.73000\n",
            "Epoch 79/150, loss 0.79932, test_loss 0.82802, accuracy 0.78654, test_accuracy 0.75000\n",
            "Epoch 80/150, loss 0.82286, test_loss 0.83384, accuracy 0.76662, test_accuracy 0.73000\n",
            "Epoch 81/150, loss 0.80468, test_loss 0.82586, accuracy 0.77320, test_accuracy 0.77000\n",
            "Epoch 82/150, loss 0.80293, test_loss 0.84516, accuracy 0.79566, test_accuracy 0.74000\n",
            "Epoch 83/150, loss 0.79814, test_loss 0.82176, accuracy 0.79728, test_accuracy 0.78000\n",
            "Epoch 84/150, loss 0.79395, test_loss 0.85789, accuracy 0.79654, test_accuracy 0.75000\n",
            "Epoch 85/150, loss 0.79943, test_loss 0.85774, accuracy 0.79553, test_accuracy 0.69000\n",
            "Epoch 86/150, loss 0.79620, test_loss 0.84084, accuracy 0.79645, test_accuracy 0.74000\n",
            "Epoch 87/150, loss 0.78703, test_loss 0.82231, accuracy 0.80136, test_accuracy 0.76000\n",
            "Epoch 88/150, loss 0.80446, test_loss 0.82817, accuracy 0.78237, test_accuracy 0.74000\n",
            "Epoch 89/150, loss 0.77965, test_loss 0.81814, accuracy 0.81895, test_accuracy 0.73000\n",
            "Epoch 90/150, loss 0.79455, test_loss 0.83165, accuracy 0.79153, test_accuracy 0.72000\n",
            "Epoch 91/150, loss 0.77973, test_loss 0.84258, accuracy 0.81991, test_accuracy 0.76000\n",
            "Epoch 92/150, loss 0.78736, test_loss 0.86705, accuracy 0.81232, test_accuracy 0.67000\n",
            "Epoch 93/150, loss 0.77148, test_loss 0.85514, accuracy 0.82316, test_accuracy 0.71000\n",
            "Epoch 94/150, loss 0.78096, test_loss 0.82621, accuracy 0.80908, test_accuracy 0.74000\n",
            "Epoch 95/150, loss 0.79360, test_loss 0.83047, accuracy 0.79561, test_accuracy 0.75000\n",
            "Epoch 96/150, loss 0.77403, test_loss 0.81589, accuracy 0.82820, test_accuracy 0.77000\n",
            "Epoch 97/150, loss 0.76463, test_loss 0.84391, accuracy 0.83816, test_accuracy 0.74000\n",
            "Epoch 98/150, loss 0.78664, test_loss 0.85664, accuracy 0.79996, test_accuracy 0.74000\n",
            "Epoch 99/150, loss 0.78165, test_loss 0.85789, accuracy 0.81241, test_accuracy 0.73000\n",
            "Epoch 100/150, loss 0.77016, test_loss 0.84009, accuracy 0.83075, test_accuracy 0.75000\n",
            "Epoch 101/150, loss 0.77033, test_loss 0.83322, accuracy 0.81991, test_accuracy 0.73000\n",
            "Epoch 102/150, loss 0.76652, test_loss 0.81421, accuracy 0.83325, test_accuracy 0.75000\n",
            "Epoch 103/150, loss 0.75929, test_loss 0.81344, accuracy 0.84487, test_accuracy 0.76000\n",
            "Epoch 104/150, loss 0.77385, test_loss 0.85142, accuracy 0.81899, test_accuracy 0.70000\n",
            "Epoch 105/150, loss 0.76495, test_loss 0.88697, accuracy 0.83820, test_accuracy 0.66000\n",
            "Epoch 106/150, loss 0.77499, test_loss 0.83652, accuracy 0.81987, test_accuracy 0.71000\n",
            "Epoch 107/150, loss 0.75329, test_loss 0.84601, accuracy 0.84645, test_accuracy 0.72000\n",
            "Epoch 108/150, loss 0.75504, test_loss 0.85990, accuracy 0.84167, test_accuracy 0.72000\n",
            "Epoch 109/150, loss 0.75727, test_loss 0.81078, accuracy 0.83162, test_accuracy 0.76000\n",
            "Epoch 110/150, loss 0.76486, test_loss 0.83146, accuracy 0.83482, test_accuracy 0.71000\n",
            "Epoch 111/150, loss 0.77897, test_loss 0.79833, accuracy 0.81237, test_accuracy 0.78000\n",
            "Epoch 112/150, loss 0.76961, test_loss 0.82767, accuracy 0.82075, test_accuracy 0.74000\n",
            "Epoch 113/150, loss 0.74723, test_loss 0.83420, accuracy 0.85237, test_accuracy 0.72000\n",
            "Epoch 114/150, loss 0.75880, test_loss 0.82723, accuracy 0.83649, test_accuracy 0.77000\n",
            "Epoch 115/150, loss 0.77449, test_loss 0.84868, accuracy 0.80991, test_accuracy 0.70000\n",
            "Epoch 116/150, loss 0.75889, test_loss 0.83958, accuracy 0.83232, test_accuracy 0.71000\n",
            "Epoch 117/150, loss 0.76104, test_loss 0.85863, accuracy 0.83732, test_accuracy 0.68000\n",
            "Epoch 118/150, loss 0.76140, test_loss 0.81762, accuracy 0.82658, test_accuracy 0.78000\n",
            "Epoch 119/150, loss 0.75335, test_loss 0.87750, accuracy 0.84820, test_accuracy 0.71000\n",
            "Epoch 120/150, loss 0.76088, test_loss 0.84247, accuracy 0.82746, test_accuracy 0.70000\n",
            "Epoch 121/150, loss 0.74762, test_loss 0.82773, accuracy 0.84487, test_accuracy 0.78000\n",
            "Epoch 122/150, loss 0.76025, test_loss 0.83493, accuracy 0.83307, test_accuracy 0.74000\n",
            "Epoch 123/150, loss 0.75364, test_loss 0.83131, accuracy 0.84417, test_accuracy 0.69000\n",
            "Epoch 124/150, loss 0.74202, test_loss 0.83646, accuracy 0.85719, test_accuracy 0.69000\n",
            "Epoch 125/150, loss 0.74544, test_loss 0.86329, accuracy 0.84908, test_accuracy 0.70000\n",
            "Epoch 126/150, loss 0.74746, test_loss 0.86299, accuracy 0.85329, test_accuracy 0.69000\n",
            "Epoch 127/150, loss 0.75606, test_loss 0.81742, accuracy 0.83500, test_accuracy 0.75000\n",
            "Epoch 128/150, loss 0.75181, test_loss 0.83538, accuracy 0.84325, test_accuracy 0.73000\n",
            "Epoch 129/150, loss 0.73752, test_loss 0.84298, accuracy 0.86162, test_accuracy 0.76000\n",
            "Epoch 130/150, loss 0.74150, test_loss 0.85029, accuracy 0.85662, test_accuracy 0.71000\n",
            "Epoch 131/150, loss 0.74871, test_loss 0.90973, accuracy 0.85890, test_accuracy 0.67000\n",
            "Epoch 132/150, loss 0.75281, test_loss 0.87134, accuracy 0.84904, test_accuracy 0.70000\n",
            "Epoch 133/150, loss 0.74375, test_loss 0.86133, accuracy 0.85658, test_accuracy 0.69000\n",
            "Epoch 134/150, loss 0.73547, test_loss 0.86705, accuracy 0.87158, test_accuracy 0.67000\n",
            "Epoch 135/150, loss 0.75073, test_loss 0.85586, accuracy 0.83667, test_accuracy 0.71000\n",
            "Epoch 136/150, loss 0.74213, test_loss 0.84969, accuracy 0.85816, test_accuracy 0.71000\n",
            "Epoch 137/150, loss 0.75394, test_loss 0.83132, accuracy 0.84320, test_accuracy 0.75000\n",
            "Epoch 138/150, loss 0.74116, test_loss 0.88196, accuracy 0.86070, test_accuracy 0.67000\n",
            "Epoch 139/150, loss 0.73978, test_loss 0.82501, accuracy 0.85566, test_accuracy 0.76000\n",
            "Epoch 140/150, loss 0.74437, test_loss 0.87696, accuracy 0.85570, test_accuracy 0.68000\n",
            "Epoch 141/150, loss 0.73827, test_loss 0.85753, accuracy 0.86154, test_accuracy 0.72000\n",
            "Epoch 142/150, loss 0.74698, test_loss 0.85085, accuracy 0.84732, test_accuracy 0.71000\n",
            "Epoch 143/150, loss 0.75291, test_loss 0.86187, accuracy 0.83982, test_accuracy 0.69000\n",
            "Epoch 144/150, loss 0.73914, test_loss 0.89501, accuracy 0.85899, test_accuracy 0.67000\n",
            "Epoch 145/150, loss 0.74416, test_loss 0.83628, accuracy 0.84820, test_accuracy 0.74000\n",
            "Epoch 146/150, loss 0.73866, test_loss 0.84694, accuracy 0.86079, test_accuracy 0.74000\n",
            "Epoch 147/150, loss 0.74037, test_loss 0.88130, accuracy 0.85816, test_accuracy 0.68000\n",
            "Epoch 148/150, loss 0.74729, test_loss 0.88743, accuracy 0.84982, test_accuracy 0.67000\n",
            "Epoch 149/150, loss 0.73231, test_loss 0.87260, accuracy 0.86487, test_accuracy 0.72000\n",
            "Epoch 150/150, loss 0.74234, test_loss 0.85137, accuracy 0.85149, test_accuracy 0.72000\n"
          ]
        }
      ]
    },
    {
      "cell_type": "code",
      "source": [
        "torch.save(model.state_dict(), 'resnet.h5')"
      ],
      "metadata": {
        "id": "5wlqScbKlrYg"
      },
      "execution_count": null,
      "outputs": []
    },
    {
      "cell_type": "code",
      "source": [],
      "metadata": {
        "id": "bKOFkU1bAQ7o"
      },
      "execution_count": null,
      "outputs": []
    },
    {
      "cell_type": "code",
      "source": [],
      "metadata": {
        "id": "Sbn37GhFAU-D"
      },
      "execution_count": null,
      "outputs": []
    },
    {
      "cell_type": "code",
      "source": [
        "# Define MLP Mixer"
      ],
      "metadata": {
        "id": "wQH2y0QMAVBP"
      },
      "execution_count": null,
      "outputs": []
    },
    {
      "cell_type": "code",
      "source": [
        "from torch import nn\n",
        "from einops.layers.torch import Rearrange\n",
        "\n",
        "class FeedForward(nn.Module):\n",
        "    def __init__(self, dim, hidden_dim, dropout = 0.):\n",
        "        super().__init__()\n",
        "        self.net = nn.Sequential(\n",
        "            nn.Linear(dim, hidden_dim),\n",
        "            nn.GELU(),\n",
        "            nn.Dropout(dropout),\n",
        "            nn.Linear(hidden_dim, dim),\n",
        "            nn.Dropout(dropout)\n",
        "        )\n",
        "    def forward(self, x):\n",
        "        return self.net(x)\n",
        "\n",
        "class MixerBlock(nn.Module):\n",
        "    def __init__(self, dim, num_patch, token_dim, channel_dim, dropout = 0.):\n",
        "        super().__init__()\n",
        "\n",
        "        self.token_mix = nn.Sequential(\n",
        "            nn.LayerNorm(dim),\n",
        "            Rearrange('b n d -> b d n'),\n",
        "            FeedForward(num_patch, token_dim, dropout),\n",
        "            Rearrange('b d n -> b n d')\n",
        "        )\n",
        "\n",
        "        self.channel_mix = nn.Sequential(\n",
        "            nn.LayerNorm(dim),\n",
        "            FeedForward(dim, channel_dim, dropout),\n",
        "        )\n",
        "\n",
        "    def forward(self, x):\n",
        "        x = x + self.token_mix(x)\n",
        "        x = x + self.channel_mix(x)\n",
        "        return x\n",
        "\n",
        "class MLPMixer(nn.Module):\n",
        "    def __init__(\n",
        "        self,\n",
        "        in_channels,\n",
        "        dim,\n",
        "        num_classes,\n",
        "        patch_size,\n",
        "        image_size,\n",
        "        depth,\n",
        "        token_dim,\n",
        "        channel_dim\n",
        "    ):\n",
        "        super().__init__()\n",
        "\n",
        "        assert image_size % patch_size == 0, 'Image dimensions must be divisible by the patch size.'\n",
        "        self.num_patch =  (image_size// patch_size) ** 2\n",
        "        self.to_patch_embedding = nn.Sequential(\n",
        "            nn.Conv2d(in_channels, dim, patch_size, patch_size),\n",
        "            Rearrange('b c h w -> b (h w) c'),\n",
        "        )\n",
        "\n",
        "        self.mixer_blocks = nn.ModuleList([])\n",
        "\n",
        "        for _ in range(depth):\n",
        "            self.mixer_blocks.append(MixerBlock(dim, self.num_patch, token_dim, channel_dim))\n",
        "\n",
        "        self.layer_norm = nn.LayerNorm(dim)\n",
        "\n",
        "        self.mlp_head = nn.Sequential(\n",
        "            nn.Linear(dim, num_classes)\n",
        "        )\n",
        "\n",
        "    def forward(self, x):\n",
        "        x = self.to_patch_embedding(x)\n",
        "        for mixer_block in self.mixer_blocks:\n",
        "            x = mixer_block(x)\n",
        "\n",
        "        x = self.layer_norm(x)\n",
        "        x = x.mean(dim=1)\n",
        "        return self.mlp_head(x)"
      ],
      "metadata": {
        "id": "qMuFuF2aAVES"
      },
      "execution_count": null,
      "outputs": []
    },
    {
      "cell_type": "code",
      "source": [
        "model_mixer = MLPMixer(in_channels=3, image_size=224, patch_size=16, num_classes=3,\n",
        "                     dim=512, depth=12, token_dim=256, channel_dim=2048)\n",
        "model_mixer.to(device)\n",
        "optimizer = torch.optim.AdamW(model_mixer.parameters(), lr=1e-6)\n",
        "criterion = torch.nn.CrossEntropyLoss(label_smoothing=0.1)\n",
        "scheduler = torch.optim.lr_scheduler.CyclicLR(\n",
        "            optimizer, base_lr=1e-6, max_lr=1e-4, cycle_momentum=False\n",
        "            )"
      ],
      "metadata": {
        "id": "ff1YOZqiAVHI"
      },
      "execution_count": null,
      "outputs": []
    },
    {
      "cell_type": "code",
      "source": [
        "train_loss_hist_mixer, test_loss_hist_mixer, train_acc_hist_mixer, test_acc_hist_mixer = train_model(model_mixer, criterion, optimizer, scheduler, train_loader, test_loader)"
      ],
      "metadata": {
        "colab": {
          "base_uri": "https://localhost:8080/"
        },
        "id": "5AnmITFHA8Kg",
        "outputId": "758591ef-5713-4195-afff-2eeb870a7acb"
      },
      "execution_count": null,
      "outputs": [
        {
          "output_type": "stream",
          "name": "stdout",
          "text": [
            "Epoch 1/150, loss 1.05475, test_loss 1.01187, accuracy 0.45228, test_accuracy 0.50000\n",
            "Epoch 2/150, loss 0.96983, test_loss 0.94141, accuracy 0.59816, test_accuracy 0.58000\n",
            "Epoch 3/150, loss 0.93117, test_loss 0.89046, accuracy 0.58368, test_accuracy 0.63000\n",
            "Epoch 4/150, loss 0.88537, test_loss 0.87485, accuracy 0.63798, test_accuracy 0.68000\n",
            "Epoch 5/150, loss 0.87912, test_loss 0.86208, accuracy 0.63224, test_accuracy 0.63000\n",
            "Epoch 6/150, loss 0.87642, test_loss 0.86569, accuracy 0.62228, test_accuracy 0.65000\n",
            "Epoch 7/150, loss 0.86321, test_loss 0.89678, accuracy 0.63890, test_accuracy 0.60000\n",
            "Epoch 8/150, loss 0.83914, test_loss 0.87071, accuracy 0.64640, test_accuracy 0.67000\n",
            "Epoch 9/150, loss 0.83672, test_loss 0.86247, accuracy 0.64303, test_accuracy 0.64000\n",
            "Epoch 10/150, loss 0.82091, test_loss 0.87328, accuracy 0.67724, test_accuracy 0.64000\n",
            "Epoch 11/150, loss 0.82607, test_loss 0.81730, accuracy 0.67057, test_accuracy 0.68000\n",
            "Epoch 12/150, loss 0.80398, test_loss 0.86159, accuracy 0.68649, test_accuracy 0.66000\n",
            "Epoch 13/150, loss 0.80385, test_loss 0.85151, accuracy 0.68285, test_accuracy 0.64000\n",
            "Epoch 14/150, loss 0.79083, test_loss 0.84272, accuracy 0.68158, test_accuracy 0.66000\n",
            "Epoch 15/150, loss 0.79081, test_loss 0.84339, accuracy 0.70224, test_accuracy 0.68000\n",
            "Epoch 16/150, loss 0.80479, test_loss 0.83662, accuracy 0.68228, test_accuracy 0.65000\n",
            "Epoch 17/150, loss 0.74328, test_loss 0.83862, accuracy 0.74895, test_accuracy 0.68000\n",
            "Epoch 18/150, loss 0.75996, test_loss 0.81586, accuracy 0.72057, test_accuracy 0.68000\n",
            "Epoch 19/150, loss 0.77264, test_loss 0.85419, accuracy 0.70803, test_accuracy 0.69000\n",
            "Epoch 20/150, loss 0.78973, test_loss 0.82666, accuracy 0.69386, test_accuracy 0.67000\n",
            "Epoch 21/150, loss 0.75844, test_loss 0.79871, accuracy 0.72654, test_accuracy 0.73000\n",
            "Epoch 22/150, loss 0.75407, test_loss 0.82885, accuracy 0.71461, test_accuracy 0.71000\n",
            "Epoch 23/150, loss 0.74991, test_loss 0.80409, accuracy 0.72632, test_accuracy 0.69000\n",
            "Epoch 24/150, loss 0.74492, test_loss 0.83687, accuracy 0.73075, test_accuracy 0.66000\n",
            "Epoch 25/150, loss 0.73713, test_loss 0.83505, accuracy 0.73737, test_accuracy 0.68000\n",
            "Epoch 26/150, loss 0.74310, test_loss 0.82238, accuracy 0.73395, test_accuracy 0.69000\n",
            "Epoch 27/150, loss 0.73996, test_loss 0.80090, accuracy 0.72890, test_accuracy 0.70000\n",
            "Epoch 28/150, loss 0.73612, test_loss 0.78940, accuracy 0.74469, test_accuracy 0.71000\n",
            "Epoch 29/150, loss 0.73402, test_loss 0.78279, accuracy 0.72798, test_accuracy 0.73000\n",
            "Epoch 30/150, loss 0.74062, test_loss 0.81332, accuracy 0.74140, test_accuracy 0.69000\n",
            "Epoch 31/150, loss 0.70788, test_loss 0.80287, accuracy 0.75487, test_accuracy 0.71000\n",
            "Epoch 32/150, loss 0.70981, test_loss 0.80352, accuracy 0.74149, test_accuracy 0.72000\n",
            "Epoch 33/150, loss 0.70026, test_loss 0.79946, accuracy 0.76575, test_accuracy 0.70000\n",
            "Epoch 34/150, loss 0.70627, test_loss 0.78218, accuracy 0.76991, test_accuracy 0.74000\n",
            "Epoch 35/150, loss 0.70523, test_loss 0.80071, accuracy 0.74886, test_accuracy 0.69000\n",
            "Epoch 36/150, loss 0.70004, test_loss 0.78399, accuracy 0.75978, test_accuracy 0.72000\n",
            "Epoch 37/150, loss 0.70384, test_loss 0.77468, accuracy 0.75557, test_accuracy 0.69000\n",
            "Epoch 38/150, loss 0.67447, test_loss 0.79457, accuracy 0.79140, test_accuracy 0.68000\n",
            "Epoch 39/150, loss 0.67759, test_loss 0.82061, accuracy 0.77246, test_accuracy 0.71000\n",
            "Epoch 40/150, loss 0.68589, test_loss 0.78583, accuracy 0.77987, test_accuracy 0.71000\n",
            "Epoch 41/150, loss 0.67326, test_loss 0.74021, accuracy 0.78412, test_accuracy 0.73000\n",
            "Epoch 42/150, loss 0.67567, test_loss 0.81815, accuracy 0.77882, test_accuracy 0.72000\n",
            "Epoch 43/150, loss 0.65647, test_loss 0.78854, accuracy 0.79570, test_accuracy 0.71000\n",
            "Epoch 44/150, loss 0.63386, test_loss 0.79528, accuracy 0.81662, test_accuracy 0.74000\n",
            "Epoch 45/150, loss 0.66545, test_loss 0.81066, accuracy 0.78395, test_accuracy 0.73000\n",
            "Epoch 46/150, loss 0.63451, test_loss 0.86181, accuracy 0.81149, test_accuracy 0.69000\n",
            "Epoch 47/150, loss 0.63113, test_loss 0.76315, accuracy 0.81982, test_accuracy 0.76000\n",
            "Epoch 48/150, loss 0.61014, test_loss 0.86931, accuracy 0.83566, test_accuracy 0.66000\n",
            "Epoch 49/150, loss 0.62298, test_loss 0.83741, accuracy 0.81982, test_accuracy 0.66000\n",
            "Epoch 50/150, loss 0.60146, test_loss 0.88567, accuracy 0.83719, test_accuracy 0.68000\n",
            "Epoch 51/150, loss 0.62307, test_loss 0.77796, accuracy 0.83162, test_accuracy 0.77000\n",
            "Epoch 52/150, loss 0.58524, test_loss 0.82130, accuracy 0.84908, test_accuracy 0.69000\n",
            "Epoch 53/150, loss 0.58466, test_loss 0.75509, accuracy 0.85232, test_accuracy 0.78000\n",
            "Epoch 54/150, loss 0.59514, test_loss 0.75729, accuracy 0.85066, test_accuracy 0.75000\n",
            "Epoch 55/150, loss 0.55567, test_loss 0.80202, accuracy 0.87662, test_accuracy 0.73000\n",
            "Epoch 56/150, loss 0.57345, test_loss 0.78387, accuracy 0.85070, test_accuracy 0.73000\n",
            "Epoch 57/150, loss 0.56717, test_loss 0.78247, accuracy 0.86658, test_accuracy 0.73000\n",
            "Epoch 58/150, loss 0.54687, test_loss 0.77794, accuracy 0.87912, test_accuracy 0.76000\n",
            "Epoch 59/150, loss 0.54885, test_loss 0.81464, accuracy 0.86241, test_accuracy 0.74000\n",
            "Epoch 60/150, loss 0.54433, test_loss 0.74505, accuracy 0.88162, test_accuracy 0.79000\n",
            "Epoch 61/150, loss 0.53078, test_loss 0.78499, accuracy 0.88075, test_accuracy 0.75000\n",
            "Epoch 62/150, loss 0.52949, test_loss 0.81409, accuracy 0.88079, test_accuracy 0.75000\n",
            "Epoch 63/150, loss 0.51844, test_loss 0.77904, accuracy 0.88829, test_accuracy 0.75000\n",
            "Epoch 64/150, loss 0.50202, test_loss 0.78408, accuracy 0.89583, test_accuracy 0.70000\n",
            "Epoch 65/150, loss 0.48735, test_loss 0.85260, accuracy 0.91237, test_accuracy 0.70000\n",
            "Epoch 66/150, loss 0.49274, test_loss 0.95555, accuracy 0.91500, test_accuracy 0.67000\n",
            "Epoch 67/150, loss 0.48298, test_loss 0.83387, accuracy 0.92325, test_accuracy 0.74000\n",
            "Epoch 68/150, loss 0.49323, test_loss 0.83913, accuracy 0.91149, test_accuracy 0.72000\n",
            "Epoch 69/150, loss 0.49388, test_loss 0.81015, accuracy 0.90158, test_accuracy 0.74000\n",
            "Epoch 70/150, loss 0.47562, test_loss 0.92966, accuracy 0.92158, test_accuracy 0.65000\n",
            "Epoch 71/150, loss 0.46867, test_loss 0.75314, accuracy 0.92491, test_accuracy 0.75000\n",
            "Epoch 72/150, loss 0.43693, test_loss 0.80165, accuracy 0.94246, test_accuracy 0.74000\n",
            "Epoch 73/150, loss 0.43619, test_loss 0.88866, accuracy 0.94162, test_accuracy 0.67000\n",
            "Epoch 74/150, loss 0.43557, test_loss 0.85563, accuracy 0.93750, test_accuracy 0.74000\n",
            "Epoch 75/150, loss 0.42044, test_loss 0.83699, accuracy 0.95667, test_accuracy 0.73000\n",
            "Epoch 76/150, loss 0.41851, test_loss 0.89534, accuracy 0.95417, test_accuracy 0.68000\n",
            "Epoch 77/150, loss 0.41223, test_loss 1.03207, accuracy 0.95329, test_accuracy 0.68000\n",
            "Epoch 78/150, loss 0.40292, test_loss 0.90749, accuracy 0.96246, test_accuracy 0.73000\n",
            "Epoch 79/150, loss 0.40423, test_loss 0.88312, accuracy 0.96250, test_accuracy 0.70000\n",
            "Epoch 80/150, loss 0.41524, test_loss 0.88108, accuracy 0.94750, test_accuracy 0.70000\n",
            "Epoch 81/150, loss 0.40020, test_loss 0.86857, accuracy 0.96746, test_accuracy 0.73000\n",
            "Epoch 82/150, loss 0.38411, test_loss 0.95120, accuracy 0.97083, test_accuracy 0.71000\n",
            "Epoch 83/150, loss 0.37599, test_loss 0.98198, accuracy 0.97667, test_accuracy 0.70000\n",
            "Epoch 84/150, loss 0.38683, test_loss 0.97025, accuracy 0.96750, test_accuracy 0.67000\n",
            "Epoch 85/150, loss 0.37550, test_loss 0.97069, accuracy 0.97333, test_accuracy 0.71000\n",
            "Epoch 86/150, loss 0.37228, test_loss 1.00528, accuracy 0.97825, test_accuracy 0.64000\n",
            "Epoch 87/150, loss 0.38382, test_loss 1.00434, accuracy 0.97000, test_accuracy 0.70000\n",
            "Epoch 88/150, loss 0.36758, test_loss 1.02205, accuracy 0.98083, test_accuracy 0.69000\n",
            "Epoch 89/150, loss 0.35560, test_loss 1.17865, accuracy 0.98329, test_accuracy 0.67000\n",
            "Epoch 90/150, loss 0.35870, test_loss 0.91239, accuracy 0.98417, test_accuracy 0.74000\n",
            "Epoch 91/150, loss 0.35624, test_loss 0.87739, accuracy 0.98500, test_accuracy 0.71000\n",
            "Epoch 92/150, loss 0.34732, test_loss 1.02196, accuracy 0.98917, test_accuracy 0.71000\n",
            "Epoch 93/150, loss 0.35970, test_loss 1.02546, accuracy 0.98167, test_accuracy 0.68000\n",
            "Epoch 94/150, loss 0.34990, test_loss 0.92738, accuracy 0.98667, test_accuracy 0.69000\n",
            "Epoch 95/150, loss 0.35867, test_loss 1.06740, accuracy 0.98746, test_accuracy 0.69000\n",
            "Epoch 96/150, loss 0.33285, test_loss 1.03876, accuracy 0.99167, test_accuracy 0.69000\n",
            "Epoch 97/150, loss 0.33749, test_loss 0.97701, accuracy 0.99167, test_accuracy 0.68000\n",
            "Epoch 98/150, loss 0.34001, test_loss 0.90769, accuracy 0.99250, test_accuracy 0.72000\n",
            "Epoch 99/150, loss 0.32814, test_loss 0.95989, accuracy 0.99583, test_accuracy 0.70000\n",
            "Epoch 100/150, loss 0.33126, test_loss 1.02532, accuracy 0.99246, test_accuracy 0.69000\n",
            "Epoch 101/150, loss 0.33726, test_loss 1.00717, accuracy 0.99246, test_accuracy 0.67000\n",
            "Epoch 102/150, loss 0.33650, test_loss 1.03894, accuracy 0.99583, test_accuracy 0.67000\n",
            "Epoch 103/150, loss 0.32744, test_loss 0.99770, accuracy 0.99583, test_accuracy 0.67000\n",
            "Epoch 104/150, loss 0.32294, test_loss 0.95092, accuracy 0.99750, test_accuracy 0.69000\n",
            "Epoch 105/150, loss 0.32531, test_loss 1.02791, accuracy 0.99667, test_accuracy 0.67000\n",
            "Epoch 106/150, loss 0.31964, test_loss 1.07709, accuracy 0.99833, test_accuracy 0.67000\n",
            "Epoch 107/150, loss 0.31943, test_loss 0.98209, accuracy 0.99750, test_accuracy 0.70000\n",
            "Epoch 108/150, loss 0.31777, test_loss 1.01414, accuracy 0.99917, test_accuracy 0.71000\n",
            "Epoch 109/150, loss 0.31547, test_loss 0.95088, accuracy 0.99750, test_accuracy 0.70000\n",
            "Epoch 110/150, loss 0.31604, test_loss 1.03741, accuracy 0.99833, test_accuracy 0.65000\n",
            "Epoch 111/150, loss 0.31771, test_loss 1.03826, accuracy 0.99750, test_accuracy 0.67000\n",
            "Epoch 112/150, loss 0.31301, test_loss 1.05797, accuracy 0.99917, test_accuracy 0.65000\n",
            "Epoch 113/150, loss 0.31089, test_loss 1.04773, accuracy 1.00000, test_accuracy 0.67000\n",
            "Epoch 114/150, loss 0.30962, test_loss 0.97701, accuracy 1.00000, test_accuracy 0.68000\n",
            "Epoch 115/150, loss 0.30853, test_loss 1.01488, accuracy 1.00000, test_accuracy 0.70000\n",
            "Epoch 116/150, loss 0.30799, test_loss 0.99194, accuracy 1.00000, test_accuracy 0.68000\n",
            "Epoch 117/150, loss 0.30494, test_loss 1.02673, accuracy 0.99917, test_accuracy 0.69000\n",
            "Epoch 118/150, loss 0.30955, test_loss 1.04751, accuracy 1.00000, test_accuracy 0.67000\n",
            "Epoch 119/150, loss 0.31077, test_loss 1.03203, accuracy 0.99833, test_accuracy 0.66000\n",
            "Epoch 120/150, loss 0.30534, test_loss 0.99512, accuracy 1.00000, test_accuracy 0.68000\n",
            "Epoch 121/150, loss 0.31712, test_loss 0.97563, accuracy 0.99833, test_accuracy 0.66000\n",
            "Epoch 122/150, loss 0.30834, test_loss 0.94973, accuracy 1.00000, test_accuracy 0.69000\n",
            "Epoch 123/150, loss 0.30546, test_loss 0.99129, accuracy 0.99917, test_accuracy 0.67000\n",
            "Epoch 124/150, loss 0.30447, test_loss 0.97566, accuracy 0.99917, test_accuracy 0.68000\n",
            "Epoch 125/150, loss 0.30358, test_loss 0.96993, accuracy 1.00000, test_accuracy 0.70000\n",
            "Epoch 126/150, loss 0.30298, test_loss 0.95375, accuracy 1.00000, test_accuracy 0.69000\n",
            "Epoch 127/150, loss 0.30955, test_loss 1.00253, accuracy 0.99917, test_accuracy 0.62000\n",
            "Epoch 128/150, loss 0.30256, test_loss 0.96706, accuracy 1.00000, test_accuracy 0.65000\n",
            "Epoch 129/150, loss 0.30156, test_loss 0.97055, accuracy 1.00000, test_accuracy 0.68000\n",
            "Epoch 130/150, loss 0.30178, test_loss 1.05746, accuracy 1.00000, test_accuracy 0.66000\n",
            "Epoch 131/150, loss 0.29992, test_loss 0.96968, accuracy 1.00000, test_accuracy 0.70000\n",
            "Epoch 132/150, loss 0.29888, test_loss 1.03514, accuracy 1.00000, test_accuracy 0.68000\n",
            "Epoch 133/150, loss 0.29812, test_loss 1.01127, accuracy 1.00000, test_accuracy 0.65000\n",
            "Epoch 134/150, loss 0.29796, test_loss 0.92511, accuracy 1.00000, test_accuracy 0.71000\n",
            "Epoch 135/150, loss 0.29830, test_loss 0.94838, accuracy 1.00000, test_accuracy 0.68000\n",
            "Epoch 136/150, loss 0.29776, test_loss 0.97763, accuracy 1.00000, test_accuracy 0.65000\n",
            "Epoch 137/150, loss 0.29709, test_loss 0.97639, accuracy 1.00000, test_accuracy 0.68000\n",
            "Epoch 138/150, loss 0.29601, test_loss 0.95887, accuracy 1.00000, test_accuracy 0.67000\n",
            "Epoch 139/150, loss 0.29761, test_loss 0.99433, accuracy 1.00000, test_accuracy 0.67000\n",
            "Epoch 140/150, loss 0.29699, test_loss 0.98128, accuracy 1.00000, test_accuracy 0.68000\n",
            "Epoch 141/150, loss 0.29672, test_loss 0.92176, accuracy 1.00000, test_accuracy 0.67000\n",
            "Epoch 142/150, loss 0.29633, test_loss 0.91816, accuracy 1.00000, test_accuracy 0.70000\n",
            "Epoch 143/150, loss 0.29662, test_loss 1.03920, accuracy 1.00000, test_accuracy 0.66000\n",
            "Epoch 144/150, loss 0.29655, test_loss 1.02866, accuracy 1.00000, test_accuracy 0.67000\n",
            "Epoch 145/150, loss 0.29585, test_loss 0.99387, accuracy 1.00000, test_accuracy 0.68000\n",
            "Epoch 146/150, loss 0.29535, test_loss 0.97985, accuracy 1.00000, test_accuracy 0.67000\n",
            "Epoch 147/150, loss 0.29586, test_loss 0.99589, accuracy 1.00000, test_accuracy 0.64000\n",
            "Epoch 148/150, loss 0.29524, test_loss 0.97098, accuracy 1.00000, test_accuracy 0.69000\n",
            "Epoch 149/150, loss 0.29636, test_loss 1.02412, accuracy 1.00000, test_accuracy 0.67000\n",
            "Epoch 150/150, loss 0.29644, test_loss 0.98067, accuracy 1.00000, test_accuracy 0.68000\n"
          ]
        }
      ]
    },
    {
      "cell_type": "code",
      "source": [
        "torch.save(model_mixer.state_dict(), BASE_DIR + 'Mixer-S.h5')"
      ],
      "metadata": {
        "id": "eRGrgNQdBF1u"
      },
      "execution_count": null,
      "outputs": []
    },
    {
      "cell_type": "code",
      "source": [],
      "metadata": {
        "id": "gwbckowpJDdG"
      },
      "execution_count": null,
      "outputs": []
    },
    {
      "cell_type": "code",
      "source": [],
      "metadata": {
        "id": "q5WUYxluJsXx"
      },
      "execution_count": null,
      "outputs": []
    },
    {
      "cell_type": "code",
      "source": [
        "model_mixer_2 = MLPMixer(in_channels=3, image_size=224, patch_size=16, num_classes=3,\n",
        "                     dim=512, depth=8, token_dim=256, channel_dim=1024)\n",
        "model_mixer_2.to(device)\n",
        "optimizer = torch.optim.AdamW(model_mixer_2.parameters(), lr=1e-6)\n",
        "criterion = torch.nn.CrossEntropyLoss(label_smoothing=0.1)\n",
        "scheduler = torch.optim.lr_scheduler.CyclicLR(\n",
        "            optimizer, base_lr=1e-6, max_lr=1e-4, cycle_momentum=False\n",
        "            )"
      ],
      "metadata": {
        "id": "02u-wMjYJsaH"
      },
      "execution_count": null,
      "outputs": []
    },
    {
      "cell_type": "code",
      "source": [
        "train_loss_hist_mixer_2, test_loss_hist_mixer_2, train_acc_hist_mixer_2, test_acc_hist_mixer_2 = train_model(model_mixer_2, criterion, optimizer, scheduler, train_loader, test_loader)"
      ],
      "metadata": {
        "colab": {
          "base_uri": "https://localhost:8080/"
        },
        "id": "ohCEgvflJ7ER",
        "outputId": "6925cade-5b6c-4d50-cbb0-23b095ef2588"
      },
      "execution_count": null,
      "outputs": [
        {
          "output_type": "stream",
          "name": "stdout",
          "text": [
            "Epoch 1/150, loss 1.11812, test_loss 1.06697, accuracy 0.31759, test_accuracy 0.48000\n",
            "Epoch 2/150, loss 1.04904, test_loss 1.01247, accuracy 0.45202, test_accuracy 0.49000\n",
            "Epoch 3/150, loss 1.00278, test_loss 0.95891, accuracy 0.53886, test_accuracy 0.58000\n",
            "Epoch 4/150, loss 0.97786, test_loss 0.94875, accuracy 0.55719, test_accuracy 0.59000\n",
            "Epoch 5/150, loss 0.95095, test_loss 0.91719, accuracy 0.57053, test_accuracy 0.64000\n",
            "Epoch 6/150, loss 0.90986, test_loss 0.92849, accuracy 0.64386, test_accuracy 0.62000\n",
            "Epoch 7/150, loss 0.86408, test_loss 0.87620, accuracy 0.67228, test_accuracy 0.66000\n",
            "Epoch 8/150, loss 0.89397, test_loss 0.86905, accuracy 0.62219, test_accuracy 0.65000\n",
            "Epoch 9/150, loss 0.88254, test_loss 0.86106, accuracy 0.63136, test_accuracy 0.63000\n",
            "Epoch 10/150, loss 0.85677, test_loss 0.89821, accuracy 0.66149, test_accuracy 0.64000\n",
            "Epoch 11/150, loss 0.83868, test_loss 0.86436, accuracy 0.65140, test_accuracy 0.69000\n",
            "Epoch 12/150, loss 0.85440, test_loss 0.83730, accuracy 0.63154, test_accuracy 0.72000\n",
            "Epoch 13/150, loss 0.82354, test_loss 0.85200, accuracy 0.67311, test_accuracy 0.68000\n",
            "Epoch 14/150, loss 0.85423, test_loss 0.84147, accuracy 0.64053, test_accuracy 0.69000\n",
            "Epoch 15/150, loss 0.82699, test_loss 0.82917, accuracy 0.66623, test_accuracy 0.71000\n",
            "Epoch 16/150, loss 0.79693, test_loss 0.83232, accuracy 0.69232, test_accuracy 0.71000\n",
            "Epoch 17/150, loss 0.82124, test_loss 0.82109, accuracy 0.67232, test_accuracy 0.69000\n",
            "Epoch 18/150, loss 0.81838, test_loss 0.80358, accuracy 0.67982, test_accuracy 0.71000\n",
            "Epoch 19/150, loss 0.80703, test_loss 0.80402, accuracy 0.68307, test_accuracy 0.72000\n",
            "Epoch 20/150, loss 0.81599, test_loss 0.78264, accuracy 0.67741, test_accuracy 0.75000\n",
            "Epoch 21/150, loss 0.78693, test_loss 0.78628, accuracy 0.70794, test_accuracy 0.75000\n",
            "Epoch 22/150, loss 0.78194, test_loss 0.79450, accuracy 0.69816, test_accuracy 0.75000\n",
            "Epoch 23/150, loss 0.78639, test_loss 0.80465, accuracy 0.70890, test_accuracy 0.68000\n",
            "Epoch 24/150, loss 0.78025, test_loss 0.81095, accuracy 0.70636, test_accuracy 0.72000\n",
            "Epoch 25/150, loss 0.76293, test_loss 0.81311, accuracy 0.71904, test_accuracy 0.72000\n",
            "Epoch 26/150, loss 0.78518, test_loss 0.83191, accuracy 0.71956, test_accuracy 0.71000\n",
            "Epoch 27/150, loss 0.77517, test_loss 0.77574, accuracy 0.72132, test_accuracy 0.73000\n",
            "Epoch 28/150, loss 0.76432, test_loss 0.83318, accuracy 0.71895, test_accuracy 0.69000\n",
            "Epoch 29/150, loss 0.76267, test_loss 0.84481, accuracy 0.70890, test_accuracy 0.68000\n",
            "Epoch 30/150, loss 0.76373, test_loss 0.78137, accuracy 0.71982, test_accuracy 0.68000\n",
            "Epoch 31/150, loss 0.74685, test_loss 0.79145, accuracy 0.72386, test_accuracy 0.68000\n",
            "Epoch 32/150, loss 0.76305, test_loss 0.79088, accuracy 0.72241, test_accuracy 0.69000\n",
            "Epoch 33/150, loss 0.77553, test_loss 0.79308, accuracy 0.70987, test_accuracy 0.68000\n",
            "Epoch 34/150, loss 0.75627, test_loss 0.75547, accuracy 0.71474, test_accuracy 0.74000\n",
            "Epoch 35/150, loss 0.76205, test_loss 0.76665, accuracy 0.72211, test_accuracy 0.73000\n",
            "Epoch 36/150, loss 0.70986, test_loss 0.77058, accuracy 0.75649, test_accuracy 0.71000\n",
            "Epoch 37/150, loss 0.73931, test_loss 0.77289, accuracy 0.73895, test_accuracy 0.73000\n",
            "Epoch 38/150, loss 0.72811, test_loss 0.80570, accuracy 0.73890, test_accuracy 0.70000\n",
            "Epoch 39/150, loss 0.71762, test_loss 0.80567, accuracy 0.75899, test_accuracy 0.68000\n",
            "Epoch 40/150, loss 0.72784, test_loss 0.76147, accuracy 0.74886, test_accuracy 0.73000\n",
            "Epoch 41/150, loss 0.69825, test_loss 0.76405, accuracy 0.75978, test_accuracy 0.72000\n",
            "Epoch 42/150, loss 0.70355, test_loss 0.74454, accuracy 0.77136, test_accuracy 0.75000\n",
            "Epoch 43/150, loss 0.72835, test_loss 0.79045, accuracy 0.73382, test_accuracy 0.70000\n",
            "Epoch 44/150, loss 0.73130, test_loss 0.78220, accuracy 0.72829, test_accuracy 0.71000\n",
            "Epoch 45/150, loss 0.71462, test_loss 0.73104, accuracy 0.74303, test_accuracy 0.73000\n",
            "Epoch 46/150, loss 0.70143, test_loss 0.75003, accuracy 0.75149, test_accuracy 0.72000\n",
            "Epoch 47/150, loss 0.68953, test_loss 0.73821, accuracy 0.75732, test_accuracy 0.74000\n",
            "Epoch 48/150, loss 0.68552, test_loss 0.76586, accuracy 0.77154, test_accuracy 0.74000\n",
            "Epoch 49/150, loss 0.68216, test_loss 0.72625, accuracy 0.76057, test_accuracy 0.74000\n",
            "Epoch 50/150, loss 0.68560, test_loss 0.78543, accuracy 0.76987, test_accuracy 0.71000\n",
            "Epoch 51/150, loss 0.68514, test_loss 0.75423, accuracy 0.75399, test_accuracy 0.72000\n",
            "Epoch 52/150, loss 0.68443, test_loss 0.74883, accuracy 0.77325, test_accuracy 0.72000\n",
            "Epoch 53/150, loss 0.66747, test_loss 0.75960, accuracy 0.78496, test_accuracy 0.74000\n",
            "Epoch 54/150, loss 0.69841, test_loss 0.73213, accuracy 0.73728, test_accuracy 0.73000\n",
            "Epoch 55/150, loss 0.67248, test_loss 0.72916, accuracy 0.77553, test_accuracy 0.74000\n",
            "Epoch 56/150, loss 0.69342, test_loss 0.72765, accuracy 0.75895, test_accuracy 0.74000\n",
            "Epoch 57/150, loss 0.65810, test_loss 0.71407, accuracy 0.79316, test_accuracy 0.75000\n",
            "Epoch 58/150, loss 0.65845, test_loss 0.70879, accuracy 0.79662, test_accuracy 0.76000\n",
            "Epoch 59/150, loss 0.65316, test_loss 0.72386, accuracy 0.79399, test_accuracy 0.76000\n",
            "Epoch 60/150, loss 0.64584, test_loss 0.75759, accuracy 0.79724, test_accuracy 0.74000\n",
            "Epoch 61/150, loss 0.63724, test_loss 0.70575, accuracy 0.80075, test_accuracy 0.77000\n",
            "Epoch 62/150, loss 0.62811, test_loss 0.68420, accuracy 0.81816, test_accuracy 0.79000\n",
            "Epoch 63/150, loss 0.62970, test_loss 0.71136, accuracy 0.80895, test_accuracy 0.74000\n",
            "Epoch 64/150, loss 0.62492, test_loss 0.67049, accuracy 0.82320, test_accuracy 0.80000\n",
            "Epoch 65/150, loss 0.62443, test_loss 0.69135, accuracy 0.81982, test_accuracy 0.78000\n",
            "Epoch 66/150, loss 0.63270, test_loss 0.72507, accuracy 0.81246, test_accuracy 0.73000\n",
            "Epoch 67/150, loss 0.60954, test_loss 0.71058, accuracy 0.82570, test_accuracy 0.76000\n",
            "Epoch 68/150, loss 0.59553, test_loss 0.68135, accuracy 0.83649, test_accuracy 0.80000\n",
            "Epoch 69/150, loss 0.58921, test_loss 0.73832, accuracy 0.84320, test_accuracy 0.75000\n",
            "Epoch 70/150, loss 0.57393, test_loss 0.68792, accuracy 0.85746, test_accuracy 0.78000\n",
            "Epoch 71/150, loss 0.60433, test_loss 0.67278, accuracy 0.82886, test_accuracy 0.78000\n",
            "Epoch 72/150, loss 0.58101, test_loss 0.68460, accuracy 0.84404, test_accuracy 0.76000\n",
            "Epoch 73/150, loss 0.57891, test_loss 0.68547, accuracy 0.85487, test_accuracy 0.75000\n",
            "Epoch 74/150, loss 0.57556, test_loss 0.74669, accuracy 0.86149, test_accuracy 0.72000\n",
            "Epoch 75/150, loss 0.56135, test_loss 0.77006, accuracy 0.86154, test_accuracy 0.70000\n",
            "Epoch 76/150, loss 0.57394, test_loss 0.67023, accuracy 0.85996, test_accuracy 0.79000\n",
            "Epoch 77/150, loss 0.56908, test_loss 0.72666, accuracy 0.85728, test_accuracy 0.69000\n",
            "Epoch 78/150, loss 0.55763, test_loss 0.64559, accuracy 0.87991, test_accuracy 0.83000\n",
            "Epoch 79/150, loss 0.54922, test_loss 0.70407, accuracy 0.87307, test_accuracy 0.73000\n",
            "Epoch 80/150, loss 0.52372, test_loss 0.69560, accuracy 0.89908, test_accuracy 0.79000\n",
            "Epoch 81/150, loss 0.52336, test_loss 0.71753, accuracy 0.88570, test_accuracy 0.75000\n",
            "Epoch 82/150, loss 0.53011, test_loss 0.67015, accuracy 0.88408, test_accuracy 0.80000\n",
            "Epoch 83/150, loss 0.52569, test_loss 0.68925, accuracy 0.88478, test_accuracy 0.76000\n",
            "Epoch 84/150, loss 0.50304, test_loss 0.74391, accuracy 0.90246, test_accuracy 0.73000\n",
            "Epoch 85/150, loss 0.52034, test_loss 0.71012, accuracy 0.89825, test_accuracy 0.74000\n",
            "Epoch 86/150, loss 0.50313, test_loss 0.71441, accuracy 0.90662, test_accuracy 0.74000\n",
            "Epoch 87/150, loss 0.47379, test_loss 0.73566, accuracy 0.93000, test_accuracy 0.77000\n",
            "Epoch 88/150, loss 0.52753, test_loss 0.70788, accuracy 0.88996, test_accuracy 0.77000\n",
            "Epoch 89/150, loss 0.49821, test_loss 0.68745, accuracy 0.90991, test_accuracy 0.81000\n",
            "Epoch 90/150, loss 0.48344, test_loss 0.76483, accuracy 0.91908, test_accuracy 0.70000\n",
            "Epoch 91/150, loss 0.47806, test_loss 0.85757, accuracy 0.92083, test_accuracy 0.67000\n",
            "Epoch 92/150, loss 0.47004, test_loss 0.75361, accuracy 0.92491, test_accuracy 0.73000\n",
            "Epoch 93/150, loss 0.46851, test_loss 0.81226, accuracy 0.92996, test_accuracy 0.70000\n",
            "Epoch 94/150, loss 0.46856, test_loss 0.75194, accuracy 0.92333, test_accuracy 0.76000\n",
            "Epoch 95/150, loss 0.44437, test_loss 0.73683, accuracy 0.93917, test_accuracy 0.75000\n",
            "Epoch 96/150, loss 0.44899, test_loss 0.80915, accuracy 0.93750, test_accuracy 0.71000\n",
            "Epoch 97/150, loss 0.43668, test_loss 0.79349, accuracy 0.94496, test_accuracy 0.69000\n",
            "Epoch 98/150, loss 0.44956, test_loss 0.74668, accuracy 0.93079, test_accuracy 0.74000\n",
            "Epoch 99/150, loss 0.44012, test_loss 0.85025, accuracy 0.94496, test_accuracy 0.73000\n",
            "Epoch 100/150, loss 0.42324, test_loss 0.72991, accuracy 0.94829, test_accuracy 0.74000\n",
            "Epoch 101/150, loss 0.42002, test_loss 0.74065, accuracy 0.96333, test_accuracy 0.74000\n",
            "Epoch 102/150, loss 0.41047, test_loss 0.75809, accuracy 0.95746, test_accuracy 0.75000\n",
            "Epoch 103/150, loss 0.41817, test_loss 0.77146, accuracy 0.94579, test_accuracy 0.75000\n",
            "Epoch 104/150, loss 0.40169, test_loss 0.80424, accuracy 0.96662, test_accuracy 0.71000\n",
            "Epoch 105/150, loss 0.41343, test_loss 0.78973, accuracy 0.95583, test_accuracy 0.69000\n",
            "Epoch 106/150, loss 0.39565, test_loss 0.82653, accuracy 0.96417, test_accuracy 0.69000\n",
            "Epoch 107/150, loss 0.39387, test_loss 0.79295, accuracy 0.97167, test_accuracy 0.75000\n",
            "Epoch 108/150, loss 0.39730, test_loss 0.85859, accuracy 0.97083, test_accuracy 0.71000\n",
            "Epoch 109/150, loss 0.38552, test_loss 0.83011, accuracy 0.96987, test_accuracy 0.68000\n",
            "Epoch 110/150, loss 0.38871, test_loss 0.80767, accuracy 0.96987, test_accuracy 0.72000\n",
            "Epoch 111/150, loss 0.38468, test_loss 0.86693, accuracy 0.96829, test_accuracy 0.73000\n",
            "Epoch 112/150, loss 0.39728, test_loss 0.85316, accuracy 0.95917, test_accuracy 0.66000\n",
            "Epoch 113/150, loss 0.38162, test_loss 0.75488, accuracy 0.98250, test_accuracy 0.78000\n",
            "Epoch 114/150, loss 0.36811, test_loss 0.84813, accuracy 0.98000, test_accuracy 0.68000\n",
            "Epoch 115/150, loss 0.37879, test_loss 0.79547, accuracy 0.97417, test_accuracy 0.71000\n",
            "Epoch 116/150, loss 0.37926, test_loss 0.84602, accuracy 0.97750, test_accuracy 0.73000\n",
            "Epoch 117/150, loss 0.35914, test_loss 0.87415, accuracy 0.98500, test_accuracy 0.69000\n",
            "Epoch 118/150, loss 0.35344, test_loss 0.90321, accuracy 0.99250, test_accuracy 0.70000\n",
            "Epoch 119/150, loss 0.35073, test_loss 0.89169, accuracy 0.98500, test_accuracy 0.69000\n",
            "Epoch 120/150, loss 0.34888, test_loss 0.91054, accuracy 0.99250, test_accuracy 0.69000\n",
            "Epoch 121/150, loss 0.34692, test_loss 0.86370, accuracy 0.99167, test_accuracy 0.75000\n",
            "Epoch 122/150, loss 0.34664, test_loss 0.92996, accuracy 0.99000, test_accuracy 0.65000\n",
            "Epoch 123/150, loss 0.34551, test_loss 0.91209, accuracy 0.98912, test_accuracy 0.71000\n",
            "Epoch 124/150, loss 0.35086, test_loss 0.84231, accuracy 0.99083, test_accuracy 0.70000\n",
            "Epoch 125/150, loss 0.34549, test_loss 0.99054, accuracy 0.98833, test_accuracy 0.68000\n",
            "Epoch 126/150, loss 0.34000, test_loss 0.87230, accuracy 0.99167, test_accuracy 0.69000\n",
            "Epoch 127/150, loss 0.33354, test_loss 0.87739, accuracy 0.99333, test_accuracy 0.70000\n",
            "Epoch 128/150, loss 0.33278, test_loss 0.86990, accuracy 0.99417, test_accuracy 0.74000\n",
            "Epoch 129/150, loss 0.33313, test_loss 0.85982, accuracy 0.99750, test_accuracy 0.69000\n",
            "Epoch 130/150, loss 0.32703, test_loss 0.89324, accuracy 0.99667, test_accuracy 0.67000\n",
            "Epoch 131/150, loss 0.33461, test_loss 0.86454, accuracy 0.99500, test_accuracy 0.73000\n",
            "Epoch 132/150, loss 0.32661, test_loss 0.88680, accuracy 0.99667, test_accuracy 0.69000\n",
            "Epoch 133/150, loss 0.33317, test_loss 0.94390, accuracy 0.99500, test_accuracy 0.66000\n",
            "Epoch 134/150, loss 0.32398, test_loss 0.95428, accuracy 0.99667, test_accuracy 0.68000\n",
            "Epoch 135/150, loss 0.32792, test_loss 0.98060, accuracy 0.99500, test_accuracy 0.66000\n",
            "Epoch 136/150, loss 0.33173, test_loss 0.91133, accuracy 0.99583, test_accuracy 0.67000\n",
            "Epoch 137/150, loss 0.31965, test_loss 0.86725, accuracy 0.99750, test_accuracy 0.70000\n",
            "Epoch 138/150, loss 0.32429, test_loss 0.98565, accuracy 0.99667, test_accuracy 0.64000\n",
            "Epoch 139/150, loss 0.31936, test_loss 0.96179, accuracy 0.99750, test_accuracy 0.69000\n",
            "Epoch 140/150, loss 0.31615, test_loss 1.01375, accuracy 0.99833, test_accuracy 0.68000\n",
            "Epoch 141/150, loss 0.31907, test_loss 0.94728, accuracy 0.99833, test_accuracy 0.69000\n",
            "Epoch 142/150, loss 0.31488, test_loss 0.97942, accuracy 0.99833, test_accuracy 0.67000\n",
            "Epoch 143/150, loss 0.31545, test_loss 0.91070, accuracy 1.00000, test_accuracy 0.66000\n",
            "Epoch 144/150, loss 0.31161, test_loss 0.90818, accuracy 0.99833, test_accuracy 0.63000\n",
            "Epoch 145/150, loss 0.31314, test_loss 0.95581, accuracy 0.99917, test_accuracy 0.66000\n",
            "Epoch 146/150, loss 0.31598, test_loss 0.89148, accuracy 0.99833, test_accuracy 0.65000\n",
            "Epoch 147/150, loss 0.31381, test_loss 1.02141, accuracy 0.99833, test_accuracy 0.64000\n",
            "Epoch 148/150, loss 0.30859, test_loss 0.94730, accuracy 0.99917, test_accuracy 0.69000\n",
            "Epoch 149/150, loss 0.30709, test_loss 0.97569, accuracy 1.00000, test_accuracy 0.66000\n",
            "Epoch 150/150, loss 0.31097, test_loss 0.91945, accuracy 0.99833, test_accuracy 0.69000\n"
          ]
        }
      ]
    },
    {
      "cell_type": "code",
      "source": [
        "plot_hist(train_loss_hist_mixer_2, test_loss_hist_mixer_2, train_acc_hist_mixer_2, test_acc_hist_mixer_2)"
      ],
      "metadata": {
        "colab": {
          "base_uri": "https://localhost:8080/",
          "height": 352
        },
        "id": "jV6VYZiwKRjn",
        "outputId": "f7425b1a-5e5f-4a63-824e-21367c248399"
      },
      "execution_count": null,
      "outputs": [
        {
          "output_type": "display_data",
          "data": {
            "text/plain": [
              "<Figure size 1500x400 with 2 Axes>"
            ],
            "image/png": "[encoded data removed]"
          },
          "metadata": {}
        }
      ]
    },
    {
      "cell_type": "code",
      "source": [
        "torch.save(model_mixer_2.state_dict(), BASE_DIR + 'Mixer-XS.h5')"
      ],
      "metadata": {
        "id": "Gpotg82MKfKL"
      },
      "execution_count": null,
      "outputs": []
    },
    {
      "cell_type": "code",
      "source": [],
      "metadata": {
        "id": "RNhHPee-KiP6"
      },
      "execution_count": null,
      "outputs": []
    },
    {
      "cell_type": "code",
      "source": [
        "model_mixer_3 = MLPMixer(in_channels=3, image_size=224, patch_size=16, num_classes=3,\n",
        "                     dim=256, depth=4, token_dim=128, channel_dim=1024)\n",
        "model_mixer_3.to(device)\n",
        "optimizer = torch.optim.AdamW(model_mixer_3.parameters(), lr=1e-6)\n",
        "criterion = torch.nn.CrossEntropyLoss(label_smoothing=0.1)\n",
        "scheduler = torch.optim.lr_scheduler.CyclicLR(\n",
        "            optimizer, base_lr=1e-6, max_lr=1e-4, cycle_momentum=False\n",
        "            )"
      ],
      "metadata": {
        "id": "f45ecZQ3SREW"
      },
      "execution_count": null,
      "outputs": []
    },
    {
      "cell_type": "code",
      "source": [
        "train_loss_hist_mixer_3, test_loss_hist_mixer_3, train_acc_hist_mixer_3, test_acc_hist_mixer_3 = train_model(model_mixer_3, criterion, optimizer, scheduler, train_loader, test_loader)"
      ],
      "metadata": {
        "colab": {
          "base_uri": "https://localhost:8080/"
        },
        "id": "0VuqPjkOSWKb",
        "outputId": "08638d94-f40f-4797-8f9b-de4d180ea27a"
      },
      "execution_count": null,
      "outputs": [
        {
          "output_type": "stream",
          "name": "stdout",
          "text": [
            "Epoch 1/150, loss 1.09117, test_loss 1.06650, accuracy 0.34364, test_accuracy 0.39000\n",
            "Epoch 2/150, loss 1.03821, test_loss 1.02764, accuracy 0.53386, test_accuracy 0.51000\n",
            "Epoch 3/150, loss 1.01326, test_loss 0.99992, accuracy 0.54465, test_accuracy 0.49000\n",
            "Epoch 4/150, loss 0.99375, test_loss 0.97839, accuracy 0.55544, test_accuracy 0.54000\n",
            "Epoch 5/150, loss 0.95950, test_loss 0.94270, accuracy 0.59219, test_accuracy 0.55000\n",
            "Epoch 6/150, loss 0.95092, test_loss 0.95152, accuracy 0.55132, test_accuracy 0.58000\n",
            "Epoch 7/150, loss 0.92720, test_loss 0.92795, accuracy 0.59794, test_accuracy 0.63000\n",
            "Epoch 8/150, loss 0.92460, test_loss 0.92452, accuracy 0.59789, test_accuracy 0.59000\n",
            "Epoch 9/150, loss 0.91291, test_loss 0.91284, accuracy 0.60289, test_accuracy 0.59000\n",
            "Epoch 10/150, loss 0.91291, test_loss 0.90091, accuracy 0.59145, test_accuracy 0.62000\n",
            "Epoch 11/150, loss 0.88774, test_loss 0.91323, accuracy 0.60224, test_accuracy 0.59000\n",
            "Epoch 12/150, loss 0.89332, test_loss 0.87375, accuracy 0.59632, test_accuracy 0.60000\n",
            "Epoch 13/150, loss 0.89980, test_loss 0.87774, accuracy 0.58395, test_accuracy 0.62000\n",
            "Epoch 14/150, loss 0.88634, test_loss 0.87820, accuracy 0.59561, test_accuracy 0.67000\n",
            "Epoch 15/150, loss 0.88627, test_loss 0.86603, accuracy 0.58961, test_accuracy 0.63000\n",
            "Epoch 16/150, loss 0.85567, test_loss 0.86305, accuracy 0.65228, test_accuracy 0.66000\n",
            "Epoch 17/150, loss 0.85969, test_loss 0.86514, accuracy 0.64469, test_accuracy 0.63000\n",
            "Epoch 18/150, loss 0.83557, test_loss 0.86519, accuracy 0.64890, test_accuracy 0.65000\n",
            "Epoch 19/150, loss 0.86090, test_loss 0.86964, accuracy 0.64044, test_accuracy 0.64000\n",
            "Epoch 20/150, loss 0.85423, test_loss 0.83383, accuracy 0.62811, test_accuracy 0.67000\n",
            "Epoch 21/150, loss 0.87208, test_loss 0.87756, accuracy 0.62482, test_accuracy 0.60000\n",
            "Epoch 22/150, loss 0.83755, test_loss 0.84320, accuracy 0.61645, test_accuracy 0.67000\n",
            "Epoch 23/150, loss 0.81561, test_loss 0.85951, accuracy 0.66373, test_accuracy 0.68000\n",
            "Epoch 24/150, loss 0.82550, test_loss 0.82208, accuracy 0.66811, test_accuracy 0.67000\n",
            "Epoch 25/150, loss 0.85293, test_loss 0.84054, accuracy 0.63544, test_accuracy 0.67000\n",
            "Epoch 26/150, loss 0.83555, test_loss 0.84235, accuracy 0.63724, test_accuracy 0.65000\n",
            "Epoch 27/150, loss 0.83399, test_loss 0.82149, accuracy 0.65886, test_accuracy 0.67000\n",
            "Epoch 28/150, loss 0.81976, test_loss 0.83346, accuracy 0.67969, test_accuracy 0.63000\n",
            "Epoch 29/150, loss 0.82786, test_loss 0.83354, accuracy 0.64627, test_accuracy 0.68000\n",
            "Epoch 30/150, loss 0.80251, test_loss 0.82840, accuracy 0.67820, test_accuracy 0.66000\n",
            "Epoch 31/150, loss 0.81474, test_loss 0.83275, accuracy 0.67311, test_accuracy 0.71000\n",
            "Epoch 32/150, loss 0.80636, test_loss 0.83505, accuracy 0.70232, test_accuracy 0.69000\n",
            "Epoch 33/150, loss 0.83600, test_loss 0.81909, accuracy 0.65557, test_accuracy 0.69000\n",
            "Epoch 34/150, loss 0.80003, test_loss 0.81015, accuracy 0.69132, test_accuracy 0.70000\n",
            "Epoch 35/150, loss 0.80488, test_loss 0.82055, accuracy 0.68640, test_accuracy 0.69000\n",
            "Epoch 36/150, loss 0.80633, test_loss 0.80544, accuracy 0.70149, test_accuracy 0.72000\n",
            "Epoch 37/150, loss 0.79711, test_loss 0.78401, accuracy 0.70474, test_accuracy 0.70000\n",
            "Epoch 38/150, loss 0.80246, test_loss 0.80329, accuracy 0.69816, test_accuracy 0.67000\n",
            "Epoch 39/150, loss 0.79668, test_loss 0.81352, accuracy 0.69316, test_accuracy 0.68000\n",
            "Epoch 40/150, loss 0.81683, test_loss 0.84332, accuracy 0.67478, test_accuracy 0.68000\n",
            "Epoch 41/150, loss 0.77374, test_loss 0.81389, accuracy 0.70798, test_accuracy 0.66000\n",
            "Epoch 42/150, loss 0.77342, test_loss 0.79759, accuracy 0.71658, test_accuracy 0.66000\n",
            "Epoch 43/150, loss 0.77461, test_loss 0.80871, accuracy 0.72075, test_accuracy 0.67000\n",
            "Epoch 44/150, loss 0.77883, test_loss 0.80100, accuracy 0.70627, test_accuracy 0.67000\n",
            "Epoch 45/150, loss 0.78491, test_loss 0.83032, accuracy 0.70237, test_accuracy 0.65000\n",
            "Epoch 46/150, loss 0.76650, test_loss 0.85150, accuracy 0.70811, test_accuracy 0.64000\n",
            "Epoch 47/150, loss 0.76553, test_loss 0.80518, accuracy 0.71965, test_accuracy 0.65000\n",
            "Epoch 48/150, loss 0.76343, test_loss 0.80200, accuracy 0.71724, test_accuracy 0.68000\n",
            "Epoch 49/150, loss 0.76171, test_loss 0.78362, accuracy 0.71886, test_accuracy 0.68000\n",
            "Epoch 50/150, loss 0.78452, test_loss 0.80356, accuracy 0.71132, test_accuracy 0.69000\n",
            "Epoch 51/150, loss 0.77460, test_loss 0.82532, accuracy 0.70789, test_accuracy 0.64000\n",
            "Epoch 52/150, loss 0.76220, test_loss 0.79276, accuracy 0.71803, test_accuracy 0.72000\n",
            "Epoch 53/150, loss 0.75384, test_loss 0.81739, accuracy 0.72732, test_accuracy 0.65000\n",
            "Epoch 54/150, loss 0.75608, test_loss 0.81296, accuracy 0.72061, test_accuracy 0.65000\n",
            "Epoch 55/150, loss 0.76055, test_loss 0.81341, accuracy 0.71048, test_accuracy 0.64000\n",
            "Epoch 56/150, loss 0.75998, test_loss 0.79488, accuracy 0.72386, test_accuracy 0.70000\n",
            "Epoch 57/150, loss 0.77203, test_loss 0.76997, accuracy 0.71969, test_accuracy 0.76000\n",
            "Epoch 58/150, loss 0.75816, test_loss 0.78869, accuracy 0.72224, test_accuracy 0.69000\n",
            "Epoch 59/150, loss 0.76093, test_loss 0.78068, accuracy 0.71228, test_accuracy 0.69000\n",
            "Epoch 60/150, loss 0.74327, test_loss 0.76396, accuracy 0.74061, test_accuracy 0.70000\n",
            "Epoch 61/150, loss 0.72409, test_loss 0.79831, accuracy 0.75145, test_accuracy 0.70000\n",
            "Epoch 62/150, loss 0.72392, test_loss 0.79020, accuracy 0.75654, test_accuracy 0.68000\n",
            "Epoch 63/150, loss 0.74153, test_loss 0.81264, accuracy 0.73382, test_accuracy 0.66000\n",
            "Epoch 64/150, loss 0.73491, test_loss 0.79882, accuracy 0.73232, test_accuracy 0.69000\n",
            "Epoch 65/150, loss 0.73036, test_loss 0.78285, accuracy 0.74732, test_accuracy 0.72000\n",
            "Epoch 66/150, loss 0.76492, test_loss 0.79774, accuracy 0.72149, test_accuracy 0.70000\n",
            "Epoch 67/150, loss 0.72843, test_loss 0.79309, accuracy 0.73224, test_accuracy 0.67000\n",
            "Epoch 68/150, loss 0.73736, test_loss 0.76297, accuracy 0.72057, test_accuracy 0.71000\n",
            "Epoch 69/150, loss 0.71998, test_loss 0.78403, accuracy 0.75145, test_accuracy 0.71000\n",
            "Epoch 70/150, loss 0.72261, test_loss 0.77416, accuracy 0.74491, test_accuracy 0.68000\n",
            "Epoch 71/150, loss 0.73057, test_loss 0.76446, accuracy 0.73070, test_accuracy 0.72000\n",
            "Epoch 72/150, loss 0.71984, test_loss 0.77840, accuracy 0.74390, test_accuracy 0.70000\n",
            "Epoch 73/150, loss 0.73636, test_loss 0.78199, accuracy 0.72478, test_accuracy 0.73000\n",
            "Epoch 74/150, loss 0.71991, test_loss 0.77541, accuracy 0.74996, test_accuracy 0.70000\n",
            "Epoch 75/150, loss 0.73169, test_loss 0.77524, accuracy 0.72715, test_accuracy 0.72000\n",
            "Epoch 76/150, loss 0.71098, test_loss 0.76386, accuracy 0.75658, test_accuracy 0.71000\n",
            "Epoch 77/150, loss 0.71069, test_loss 0.75723, accuracy 0.74811, test_accuracy 0.73000\n",
            "Epoch 78/150, loss 0.69607, test_loss 0.73902, accuracy 0.76228, test_accuracy 0.73000\n",
            "Epoch 79/150, loss 0.71152, test_loss 0.75440, accuracy 0.74395, test_accuracy 0.71000\n",
            "Epoch 80/150, loss 0.72540, test_loss 0.76803, accuracy 0.73145, test_accuracy 0.72000\n",
            "Epoch 81/150, loss 0.70953, test_loss 0.76446, accuracy 0.73895, test_accuracy 0.72000\n",
            "Epoch 82/150, loss 0.71024, test_loss 0.74009, accuracy 0.75482, test_accuracy 0.73000\n",
            "Epoch 83/150, loss 0.69874, test_loss 0.74823, accuracy 0.76149, test_accuracy 0.72000\n",
            "Epoch 84/150, loss 0.66906, test_loss 0.74464, accuracy 0.79566, test_accuracy 0.73000\n",
            "Epoch 85/150, loss 0.68451, test_loss 0.81380, accuracy 0.77640, test_accuracy 0.68000\n",
            "Epoch 86/150, loss 0.69636, test_loss 0.77757, accuracy 0.76899, test_accuracy 0.70000\n",
            "Epoch 87/150, loss 0.67706, test_loss 0.80301, accuracy 0.77241, test_accuracy 0.70000\n",
            "Epoch 88/150, loss 0.66749, test_loss 0.74348, accuracy 0.78820, test_accuracy 0.73000\n",
            "Epoch 89/150, loss 0.67515, test_loss 0.75934, accuracy 0.76241, test_accuracy 0.70000\n",
            "Epoch 90/150, loss 0.66582, test_loss 0.74971, accuracy 0.78228, test_accuracy 0.73000\n",
            "Epoch 91/150, loss 0.66617, test_loss 0.76516, accuracy 0.79732, test_accuracy 0.70000\n",
            "Epoch 92/150, loss 0.66574, test_loss 0.73928, accuracy 0.78395, test_accuracy 0.71000\n",
            "Epoch 93/150, loss 0.67467, test_loss 0.75134, accuracy 0.76640, test_accuracy 0.70000\n",
            "Epoch 94/150, loss 0.67044, test_loss 0.75857, accuracy 0.78320, test_accuracy 0.72000\n",
            "Epoch 95/150, loss 0.65008, test_loss 0.75800, accuracy 0.79732, test_accuracy 0.70000\n",
            "Epoch 96/150, loss 0.64850, test_loss 0.79009, accuracy 0.79070, test_accuracy 0.71000\n",
            "Epoch 97/150, loss 0.62936, test_loss 0.72446, accuracy 0.80224, test_accuracy 0.72000\n",
            "Epoch 98/150, loss 0.62748, test_loss 0.77296, accuracy 0.80728, test_accuracy 0.68000\n",
            "Epoch 99/150, loss 0.65043, test_loss 0.72724, accuracy 0.80232, test_accuracy 0.71000\n",
            "Epoch 100/150, loss 0.63759, test_loss 0.75078, accuracy 0.78737, test_accuracy 0.73000\n",
            "Epoch 101/150, loss 0.63131, test_loss 0.76937, accuracy 0.81746, test_accuracy 0.69000\n",
            "Epoch 102/150, loss 0.61077, test_loss 0.79054, accuracy 0.83250, test_accuracy 0.71000\n",
            "Epoch 103/150, loss 0.63175, test_loss 0.77720, accuracy 0.81566, test_accuracy 0.69000\n",
            "Epoch 104/150, loss 0.65368, test_loss 0.77966, accuracy 0.79561, test_accuracy 0.71000\n",
            "Epoch 105/150, loss 0.62986, test_loss 0.72177, accuracy 0.81307, test_accuracy 0.72000\n",
            "Epoch 106/150, loss 0.62845, test_loss 0.73750, accuracy 0.80570, test_accuracy 0.72000\n",
            "Epoch 107/150, loss 0.62804, test_loss 0.74560, accuracy 0.80408, test_accuracy 0.72000\n",
            "Epoch 108/150, loss 0.58944, test_loss 0.76724, accuracy 0.83320, test_accuracy 0.68000\n",
            "Epoch 109/150, loss 0.61195, test_loss 0.71523, accuracy 0.82908, test_accuracy 0.75000\n",
            "Epoch 110/150, loss 0.60074, test_loss 0.71905, accuracy 0.84145, test_accuracy 0.72000\n",
            "Epoch 111/150, loss 0.61635, test_loss 0.77955, accuracy 0.82737, test_accuracy 0.72000\n",
            "Epoch 112/150, loss 0.59522, test_loss 0.79306, accuracy 0.83829, test_accuracy 0.69000\n",
            "Epoch 113/150, loss 0.61696, test_loss 0.75705, accuracy 0.81496, test_accuracy 0.73000\n",
            "Epoch 114/150, loss 0.59267, test_loss 0.73736, accuracy 0.85066, test_accuracy 0.70000\n",
            "Epoch 115/150, loss 0.59333, test_loss 0.74385, accuracy 0.85237, test_accuracy 0.71000\n",
            "Epoch 116/150, loss 0.58067, test_loss 0.73604, accuracy 0.85412, test_accuracy 0.73000\n",
            "Epoch 117/150, loss 0.58965, test_loss 0.72422, accuracy 0.84662, test_accuracy 0.71000\n",
            "Epoch 118/150, loss 0.57411, test_loss 0.72810, accuracy 0.84996, test_accuracy 0.74000\n",
            "Epoch 119/150, loss 0.57644, test_loss 0.74726, accuracy 0.85320, test_accuracy 0.69000\n",
            "Epoch 120/150, loss 0.57141, test_loss 0.72776, accuracy 0.86996, test_accuracy 0.73000\n",
            "Epoch 121/150, loss 0.57006, test_loss 0.74685, accuracy 0.85566, test_accuracy 0.70000\n",
            "Epoch 122/150, loss 0.58759, test_loss 0.74384, accuracy 0.83417, test_accuracy 0.72000\n",
            "Epoch 123/150, loss 0.55380, test_loss 0.75237, accuracy 0.87403, test_accuracy 0.71000\n",
            "Epoch 124/150, loss 0.56132, test_loss 0.72076, accuracy 0.85232, test_accuracy 0.74000\n",
            "Epoch 125/150, loss 0.55314, test_loss 0.73955, accuracy 0.87145, test_accuracy 0.74000\n",
            "Epoch 126/150, loss 0.56342, test_loss 0.77973, accuracy 0.85000, test_accuracy 0.73000\n",
            "Epoch 127/150, loss 0.56427, test_loss 0.73820, accuracy 0.85741, test_accuracy 0.75000\n",
            "Epoch 128/150, loss 0.55862, test_loss 0.75845, accuracy 0.86482, test_accuracy 0.73000\n",
            "Epoch 129/150, loss 0.55442, test_loss 0.74405, accuracy 0.86408, test_accuracy 0.70000\n",
            "Epoch 130/150, loss 0.55518, test_loss 0.78677, accuracy 0.86991, test_accuracy 0.73000\n",
            "Epoch 131/150, loss 0.54473, test_loss 0.74395, accuracy 0.87825, test_accuracy 0.73000\n",
            "Epoch 132/150, loss 0.52635, test_loss 0.77915, accuracy 0.89412, test_accuracy 0.75000\n",
            "Epoch 133/150, loss 0.53415, test_loss 0.75071, accuracy 0.88246, test_accuracy 0.75000\n",
            "Epoch 134/150, loss 0.54155, test_loss 0.73363, accuracy 0.87833, test_accuracy 0.75000\n",
            "Epoch 135/150, loss 0.52137, test_loss 0.74573, accuracy 0.89829, test_accuracy 0.76000\n",
            "Epoch 136/150, loss 0.52926, test_loss 0.81538, accuracy 0.88496, test_accuracy 0.73000\n",
            "Epoch 137/150, loss 0.54508, test_loss 0.79329, accuracy 0.87895, test_accuracy 0.74000\n",
            "Epoch 138/150, loss 0.54092, test_loss 0.76315, accuracy 0.88412, test_accuracy 0.75000\n",
            "Epoch 139/150, loss 0.53139, test_loss 0.72398, accuracy 0.88491, test_accuracy 0.77000\n",
            "Epoch 140/150, loss 0.51788, test_loss 0.72926, accuracy 0.89333, test_accuracy 0.77000\n",
            "Epoch 141/150, loss 0.50864, test_loss 0.72354, accuracy 0.90154, test_accuracy 0.78000\n",
            "Epoch 142/150, loss 0.50400, test_loss 0.78991, accuracy 0.90145, test_accuracy 0.74000\n",
            "Epoch 143/150, loss 0.50835, test_loss 0.74282, accuracy 0.90158, test_accuracy 0.76000\n",
            "Epoch 144/150, loss 0.50361, test_loss 0.83818, accuracy 0.90066, test_accuracy 0.70000\n",
            "Epoch 145/150, loss 0.50787, test_loss 0.80048, accuracy 0.89399, test_accuracy 0.73000\n",
            "Epoch 146/150, loss 0.48969, test_loss 0.71413, accuracy 0.91154, test_accuracy 0.78000\n",
            "Epoch 147/150, loss 0.47172, test_loss 0.74362, accuracy 0.92899, test_accuracy 0.76000\n",
            "Epoch 148/150, loss 0.48692, test_loss 0.74946, accuracy 0.91654, test_accuracy 0.76000\n",
            "Epoch 149/150, loss 0.47554, test_loss 0.77465, accuracy 0.91917, test_accuracy 0.75000\n",
            "Epoch 150/150, loss 0.46863, test_loss 0.77871, accuracy 0.92825, test_accuracy 0.72000\n"
          ]
        }
      ]
    },
    {
      "cell_type": "code",
      "source": [
        "plot_hist(train_loss_hist_mixer_3, test_loss_hist_mixer_3, train_acc_hist_mixer_3, test_acc_hist_mixer_3)"
      ],
      "metadata": {
        "colab": {
          "base_uri": "https://localhost:8080/",
          "height": 352
        },
        "id": "Kf613SaRSdRk",
        "outputId": "e5f16147-76a6-4f42-f341-9ea8c7b6631b"
      },
      "execution_count": null,
      "outputs": [
        {
          "output_type": "display_data",
          "data": {
            "text/plain": [
              "<Figure size 1500x400 with 2 Axes>"
            ],
            "image/png": "[encoded data removed]"
          },
          "metadata": {}
        }
      ]
    },
    {
      "cell_type": "code",
      "source": [
        "torch.save(model_mixer_3.state_dict(), BASE_DIR + 'Mixer-XXS.h5')"
      ],
      "metadata": {
        "id": "cqRW6ZivUrL4"
      },
      "execution_count": null,
      "outputs": []
    },
    {
      "cell_type": "code",
      "source": [],
      "metadata": {
        "id": "V8B3sySsUspa"
      },
      "execution_count": null,
      "outputs": []
    },
    {
      "cell_type": "code",
      "source": [
        "model_mixer_4 = MLPMixer(in_channels=3, image_size=224, patch_size=16, num_classes=3,\n",
        "                     dim=256, depth=4, token_dim=128, channel_dim=512)\n",
        "model_mixer_4.to(device)\n",
        "optimizer = torch.optim.AdamW(model_mixer_4.parameters(), lr=1e-6)\n",
        "criterion = torch.nn.CrossEntropyLoss(label_smoothing=0.1)\n",
        "scheduler = torch.optim.lr_scheduler.CyclicLR(\n",
        "            optimizer, base_lr=1e-6, max_lr=1e-4, cycle_momentum=False\n",
        "            )"
      ],
      "metadata": {
        "id": "LYAMMTNUUrOZ"
      },
      "execution_count": null,
      "outputs": []
    },
    {
      "cell_type": "code",
      "source": [
        "train_loss_hist_mixer_4, test_loss_hist_mixer_4, train_acc_hist_mixer_4, test_acc_hist_mixer_4 = train_model(model_mixer_4, criterion, optimizer, scheduler, train_loader, test_loader)"
      ],
      "metadata": {
        "colab": {
          "base_uri": "https://localhost:8080/"
        },
        "id": "Apgfg9HMWlbF",
        "outputId": "ccdf96cf-2e03-4574-94df-3305fdad17c1"
      },
      "execution_count": null,
      "outputs": [
        {
          "output_type": "stream",
          "name": "stdout",
          "text": [
            "Epoch 1/150, loss 1.05206, test_loss 1.04540, accuracy 0.45114, test_accuracy 0.48000\n",
            "Epoch 2/150, loss 1.03236, test_loss 1.02528, accuracy 0.46382, test_accuracy 0.48000\n",
            "Epoch 3/150, loss 1.01385, test_loss 0.99799, accuracy 0.53632, test_accuracy 0.56000\n",
            "Epoch 4/150, loss 0.98581, test_loss 0.98429, accuracy 0.58544, test_accuracy 0.54000\n",
            "Epoch 5/150, loss 0.98008, test_loss 0.97081, accuracy 0.59566, test_accuracy 0.57000\n",
            "Epoch 6/150, loss 0.97514, test_loss 0.95834, accuracy 0.55228, test_accuracy 0.53000\n",
            "Epoch 7/150, loss 0.95274, test_loss 0.95199, accuracy 0.58732, test_accuracy 0.55000\n",
            "Epoch 8/150, loss 0.93825, test_loss 0.94322, accuracy 0.60136, test_accuracy 0.56000\n",
            "Epoch 9/150, loss 0.92624, test_loss 0.94856, accuracy 0.63469, test_accuracy 0.61000\n",
            "Epoch 10/150, loss 0.92614, test_loss 0.91581, accuracy 0.60719, test_accuracy 0.62000\n",
            "Epoch 11/150, loss 0.92203, test_loss 0.90291, accuracy 0.60053, test_accuracy 0.63000\n",
            "Epoch 12/150, loss 0.91157, test_loss 0.91379, accuracy 0.60965, test_accuracy 0.62000\n",
            "Epoch 13/150, loss 0.89886, test_loss 0.89257, accuracy 0.63294, test_accuracy 0.63000\n",
            "Epoch 14/150, loss 0.90220, test_loss 0.90032, accuracy 0.59715, test_accuracy 0.61000\n",
            "Epoch 15/150, loss 0.89194, test_loss 0.89680, accuracy 0.60803, test_accuracy 0.61000\n",
            "Epoch 16/150, loss 0.89428, test_loss 0.88484, accuracy 0.61127, test_accuracy 0.63000\n",
            "Epoch 17/150, loss 0.88340, test_loss 0.90353, accuracy 0.63228, test_accuracy 0.62000\n",
            "Epoch 18/150, loss 0.88143, test_loss 0.89562, accuracy 0.60553, test_accuracy 0.62000\n",
            "Epoch 19/150, loss 0.86752, test_loss 0.86285, accuracy 0.63974, test_accuracy 0.65000\n",
            "Epoch 20/150, loss 0.86781, test_loss 0.85678, accuracy 0.63807, test_accuracy 0.65000\n",
            "Epoch 21/150, loss 0.87042, test_loss 0.87026, accuracy 0.61803, test_accuracy 0.64000\n",
            "Epoch 22/150, loss 0.84283, test_loss 0.86370, accuracy 0.66149, test_accuracy 0.66000\n",
            "Epoch 23/150, loss 0.86022, test_loss 0.85170, accuracy 0.64373, test_accuracy 0.67000\n",
            "Epoch 24/150, loss 0.85204, test_loss 0.83553, accuracy 0.63974, test_accuracy 0.68000\n",
            "Epoch 25/150, loss 0.84622, test_loss 0.85366, accuracy 0.65798, test_accuracy 0.64000\n",
            "Epoch 26/150, loss 0.84308, test_loss 0.84159, accuracy 0.65053, test_accuracy 0.67000\n",
            "Epoch 27/150, loss 0.81910, test_loss 0.85567, accuracy 0.67969, test_accuracy 0.67000\n",
            "Epoch 28/150, loss 0.84096, test_loss 0.83737, accuracy 0.65561, test_accuracy 0.68000\n",
            "Epoch 29/150, loss 0.83657, test_loss 0.83376, accuracy 0.66320, test_accuracy 0.70000\n",
            "Epoch 30/150, loss 0.83497, test_loss 0.84109, accuracy 0.65886, test_accuracy 0.68000\n",
            "Epoch 31/150, loss 0.82612, test_loss 0.83957, accuracy 0.67232, test_accuracy 0.68000\n",
            "Epoch 32/150, loss 0.83273, test_loss 0.80594, accuracy 0.65956, test_accuracy 0.72000\n",
            "Epoch 33/150, loss 0.81331, test_loss 0.84702, accuracy 0.67215, test_accuracy 0.68000\n",
            "Epoch 34/150, loss 0.82067, test_loss 0.81963, accuracy 0.67298, test_accuracy 0.69000\n",
            "Epoch 35/150, loss 0.80588, test_loss 0.81789, accuracy 0.69048, test_accuracy 0.72000\n",
            "Epoch 36/150, loss 0.83250, test_loss 0.81641, accuracy 0.65311, test_accuracy 0.70000\n",
            "Epoch 37/150, loss 0.81330, test_loss 0.83735, accuracy 0.69899, test_accuracy 0.66000\n",
            "Epoch 38/150, loss 0.81004, test_loss 0.80860, accuracy 0.68377, test_accuracy 0.71000\n",
            "Epoch 39/150, loss 0.79384, test_loss 0.79860, accuracy 0.69640, test_accuracy 0.71000\n",
            "Epoch 40/150, loss 0.77570, test_loss 0.81420, accuracy 0.71724, test_accuracy 0.68000\n",
            "Epoch 41/150, loss 0.78840, test_loss 0.79782, accuracy 0.69048, test_accuracy 0.71000\n",
            "Epoch 42/150, loss 0.78417, test_loss 0.80960, accuracy 0.69303, test_accuracy 0.67000\n",
            "Epoch 43/150, loss 0.77005, test_loss 0.82165, accuracy 0.71478, test_accuracy 0.69000\n",
            "Epoch 44/150, loss 0.78132, test_loss 0.79433, accuracy 0.71158, test_accuracy 0.70000\n",
            "Epoch 45/150, loss 0.79873, test_loss 0.79927, accuracy 0.68654, test_accuracy 0.71000\n",
            "Epoch 46/150, loss 0.77576, test_loss 0.78163, accuracy 0.70649, test_accuracy 0.71000\n",
            "Epoch 47/150, loss 0.76146, test_loss 0.77538, accuracy 0.72316, test_accuracy 0.73000\n",
            "Epoch 48/150, loss 0.78338, test_loss 0.79150, accuracy 0.70211, test_accuracy 0.71000\n",
            "Epoch 49/150, loss 0.75439, test_loss 0.81138, accuracy 0.71724, test_accuracy 0.69000\n",
            "Epoch 50/150, loss 0.76575, test_loss 0.79207, accuracy 0.70645, test_accuracy 0.69000\n",
            "Epoch 51/150, loss 0.77284, test_loss 0.79086, accuracy 0.70728, test_accuracy 0.72000\n",
            "Epoch 52/150, loss 0.76798, test_loss 0.77231, accuracy 0.71154, test_accuracy 0.69000\n",
            "Epoch 53/150, loss 0.74516, test_loss 0.78704, accuracy 0.72149, test_accuracy 0.75000\n",
            "Epoch 54/150, loss 0.76483, test_loss 0.75188, accuracy 0.69969, test_accuracy 0.73000\n",
            "Epoch 55/150, loss 0.72677, test_loss 0.79718, accuracy 0.74553, test_accuracy 0.72000\n",
            "Epoch 56/150, loss 0.74861, test_loss 0.77273, accuracy 0.72048, test_accuracy 0.71000\n",
            "Epoch 57/150, loss 0.74398, test_loss 0.77051, accuracy 0.72215, test_accuracy 0.71000\n",
            "Epoch 58/150, loss 0.74187, test_loss 0.79000, accuracy 0.72882, test_accuracy 0.68000\n",
            "Epoch 59/150, loss 0.74944, test_loss 0.77043, accuracy 0.72811, test_accuracy 0.70000\n",
            "Epoch 60/150, loss 0.74007, test_loss 0.79290, accuracy 0.74728, test_accuracy 0.67000\n",
            "Epoch 61/150, loss 0.71740, test_loss 0.78463, accuracy 0.75724, test_accuracy 0.68000\n",
            "Epoch 62/150, loss 0.73367, test_loss 0.76829, accuracy 0.72899, test_accuracy 0.72000\n",
            "Epoch 63/150, loss 0.72355, test_loss 0.77125, accuracy 0.73057, test_accuracy 0.69000\n",
            "Epoch 64/150, loss 0.72780, test_loss 0.79323, accuracy 0.72399, test_accuracy 0.66000\n",
            "Epoch 65/150, loss 0.73617, test_loss 0.74254, accuracy 0.73491, test_accuracy 0.74000\n",
            "Epoch 66/150, loss 0.75356, test_loss 0.79685, accuracy 0.71474, test_accuracy 0.68000\n",
            "Epoch 67/150, loss 0.73314, test_loss 0.76589, accuracy 0.73303, test_accuracy 0.71000\n",
            "Epoch 68/150, loss 0.74175, test_loss 0.78245, accuracy 0.72039, test_accuracy 0.68000\n",
            "Epoch 69/150, loss 0.73807, test_loss 0.77765, accuracy 0.73136, test_accuracy 0.65000\n",
            "Epoch 70/150, loss 0.71430, test_loss 0.80134, accuracy 0.75390, test_accuracy 0.66000\n",
            "Epoch 71/150, loss 0.73750, test_loss 0.81039, accuracy 0.72640, test_accuracy 0.67000\n",
            "Epoch 72/150, loss 0.73405, test_loss 0.76410, accuracy 0.73289, test_accuracy 0.71000\n",
            "Epoch 73/150, loss 0.74551, test_loss 0.75836, accuracy 0.71399, test_accuracy 0.70000\n",
            "Epoch 74/150, loss 0.71831, test_loss 0.76594, accuracy 0.74311, test_accuracy 0.71000\n",
            "Epoch 75/150, loss 0.72103, test_loss 0.79775, accuracy 0.74474, test_accuracy 0.74000\n",
            "Epoch 76/150, loss 0.70785, test_loss 0.77034, accuracy 0.73978, test_accuracy 0.72000\n",
            "Epoch 77/150, loss 0.74332, test_loss 0.80536, accuracy 0.71895, test_accuracy 0.70000\n",
            "Epoch 78/150, loss 0.72530, test_loss 0.77294, accuracy 0.73811, test_accuracy 0.74000\n",
            "Epoch 79/150, loss 0.72986, test_loss 0.78542, accuracy 0.73404, test_accuracy 0.70000\n",
            "Epoch 80/150, loss 0.68548, test_loss 0.79881, accuracy 0.76978, test_accuracy 0.69000\n",
            "Epoch 81/150, loss 0.71278, test_loss 0.80595, accuracy 0.75149, test_accuracy 0.67000\n",
            "Epoch 82/150, loss 0.70046, test_loss 0.79600, accuracy 0.75895, test_accuracy 0.69000\n",
            "Epoch 83/150, loss 0.70739, test_loss 0.77308, accuracy 0.74649, test_accuracy 0.71000\n",
            "Epoch 84/150, loss 0.68849, test_loss 0.73382, accuracy 0.76140, test_accuracy 0.75000\n",
            "Epoch 85/150, loss 0.71114, test_loss 0.80119, accuracy 0.73798, test_accuracy 0.70000\n",
            "Epoch 86/150, loss 0.68052, test_loss 0.78987, accuracy 0.77211, test_accuracy 0.71000\n",
            "Epoch 87/150, loss 0.69279, test_loss 0.75255, accuracy 0.76728, test_accuracy 0.74000\n",
            "Epoch 88/150, loss 0.69489, test_loss 0.77058, accuracy 0.76162, test_accuracy 0.73000\n",
            "Epoch 89/150, loss 0.67907, test_loss 0.77890, accuracy 0.77070, test_accuracy 0.72000\n",
            "Epoch 90/150, loss 0.69719, test_loss 0.74177, accuracy 0.75741, test_accuracy 0.74000\n",
            "Epoch 91/150, loss 0.68422, test_loss 0.76904, accuracy 0.77070, test_accuracy 0.71000\n",
            "Epoch 92/150, loss 0.68800, test_loss 0.74764, accuracy 0.76645, test_accuracy 0.73000\n",
            "Epoch 93/150, loss 0.67894, test_loss 0.75787, accuracy 0.77149, test_accuracy 0.73000\n",
            "Epoch 94/150, loss 0.67606, test_loss 0.78551, accuracy 0.77061, test_accuracy 0.73000\n",
            "Epoch 95/150, loss 0.70115, test_loss 0.78201, accuracy 0.73974, test_accuracy 0.72000\n",
            "Epoch 96/150, loss 0.67977, test_loss 0.77681, accuracy 0.78149, test_accuracy 0.70000\n",
            "Epoch 97/150, loss 0.66935, test_loss 0.74574, accuracy 0.77737, test_accuracy 0.73000\n",
            "Epoch 98/150, loss 0.64897, test_loss 0.74817, accuracy 0.79325, test_accuracy 0.73000\n",
            "Epoch 99/150, loss 0.67978, test_loss 0.76167, accuracy 0.76978, test_accuracy 0.72000\n",
            "Epoch 100/150, loss 0.68536, test_loss 0.77562, accuracy 0.76649, test_accuracy 0.72000\n",
            "Epoch 101/150, loss 0.68035, test_loss 0.82572, accuracy 0.76570, test_accuracy 0.71000\n",
            "Epoch 102/150, loss 0.65499, test_loss 0.75130, accuracy 0.80724, test_accuracy 0.73000\n",
            "Epoch 103/150, loss 0.63244, test_loss 0.74594, accuracy 0.80829, test_accuracy 0.73000\n",
            "Epoch 104/150, loss 0.63248, test_loss 0.77081, accuracy 0.81496, test_accuracy 0.71000\n",
            "Epoch 105/150, loss 0.65199, test_loss 0.78293, accuracy 0.78649, test_accuracy 0.70000\n",
            "Epoch 106/150, loss 0.63949, test_loss 0.79761, accuracy 0.81316, test_accuracy 0.71000\n",
            "Epoch 107/150, loss 0.63670, test_loss 0.74804, accuracy 0.81561, test_accuracy 0.74000\n",
            "Epoch 108/150, loss 0.65220, test_loss 0.73672, accuracy 0.79395, test_accuracy 0.75000\n",
            "Epoch 109/150, loss 0.64153, test_loss 0.74792, accuracy 0.82583, test_accuracy 0.73000\n",
            "Epoch 110/150, loss 0.64603, test_loss 0.77498, accuracy 0.80070, test_accuracy 0.71000\n",
            "Epoch 111/150, loss 0.64461, test_loss 0.75438, accuracy 0.81057, test_accuracy 0.72000\n",
            "Epoch 112/150, loss 0.64806, test_loss 0.73081, accuracy 0.79899, test_accuracy 0.71000\n",
            "Epoch 113/150, loss 0.63129, test_loss 0.73744, accuracy 0.82408, test_accuracy 0.72000\n",
            "Epoch 114/150, loss 0.61510, test_loss 0.76696, accuracy 0.81561, test_accuracy 0.70000\n",
            "Epoch 115/150, loss 0.62480, test_loss 0.75065, accuracy 0.83149, test_accuracy 0.73000\n",
            "Epoch 116/150, loss 0.64480, test_loss 0.72626, accuracy 0.81237, test_accuracy 0.74000\n",
            "Epoch 117/150, loss 0.62366, test_loss 0.78980, accuracy 0.82991, test_accuracy 0.70000\n",
            "Epoch 118/150, loss 0.63192, test_loss 0.80085, accuracy 0.80395, test_accuracy 0.70000\n",
            "Epoch 119/150, loss 0.60152, test_loss 0.75175, accuracy 0.84408, test_accuracy 0.73000\n",
            "Epoch 120/150, loss 0.59218, test_loss 0.73663, accuracy 0.84737, test_accuracy 0.72000\n",
            "Epoch 121/150, loss 0.60769, test_loss 0.75039, accuracy 0.83746, test_accuracy 0.71000\n",
            "Epoch 122/150, loss 0.59198, test_loss 0.72463, accuracy 0.84496, test_accuracy 0.76000\n",
            "Epoch 123/150, loss 0.58314, test_loss 0.79139, accuracy 0.85079, test_accuracy 0.71000\n",
            "Epoch 124/150, loss 0.60337, test_loss 0.72401, accuracy 0.82153, test_accuracy 0.76000\n",
            "Epoch 125/150, loss 0.59653, test_loss 0.72649, accuracy 0.84079, test_accuracy 0.74000\n",
            "Epoch 126/150, loss 0.59242, test_loss 0.74275, accuracy 0.84307, test_accuracy 0.72000\n",
            "Epoch 127/150, loss 0.57587, test_loss 0.74903, accuracy 0.86241, test_accuracy 0.72000\n"
          ]
        }
      ]
    },
    {
      "cell_type": "code",
      "source": [
        "torch.save(model_mixer_4.state_dict(), BASE_DIR + 'Mixer-tiny.h5')"
      ],
      "metadata": {
        "id": "Jj5tLuwNWqir"
      },
      "execution_count": null,
      "outputs": []
    },
    {
      "cell_type": "code",
      "source": [],
      "metadata": {
        "id": "Nf49begbUrQt"
      },
      "execution_count": null,
      "outputs": []
    },
    {
      "cell_type": "code",
      "source": [],
      "metadata": {
        "id": "qmADUe50UrS-"
      },
      "execution_count": null,
      "outputs": []
    }
  ]
}