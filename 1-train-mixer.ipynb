{
  "nbformat": 4,
  "nbformat_minor": 0,
  "metadata": {
    "colab": {
      "provenance": [],
      "gpuType": "T4"
    },
    "kernelspec": {
      "name": "python3",
      "display_name": "Python 3"
    },
    "language_info": {
      "name": "python"
    },
    "accelerator": "GPU"
  },
  "cells": [
    {
      "cell_type": "code",
      "source": [
        "from google.colab import drive\n",
        "drive.mount('/content/gdrive')\n",
        "\n",
        "BASE_DIR = \"/content/gdrive/My Drive/CS282/\""
      ],
      "metadata": {
        "colab": {
          "base_uri": "https://localhost:8080/"
        },
        "id": "_5saOagyJElG",
        "outputId": "81997774-f338-4177-90c8-0b25f950a1f7"
      },
      "execution_count": 1,
      "outputs": [
        {
          "output_type": "stream",
          "name": "stdout",
          "text": [
            "Drive already mounted at /content/gdrive; to attempt to forcibly remount, call drive.mount(\"/content/gdrive\", force_remount=True).\n"
          ]
        }
      ]
    },
    {
      "cell_type": "code",
      "source": [
        "!pip install torcheval"
      ],
      "metadata": {
        "colab": {
          "base_uri": "https://localhost:8080/"
        },
        "id": "5zzYBvSHfRWR",
        "outputId": "182c21b2-dcd8-4bb9-c2dc-cdea40469114"
      },
      "execution_count": 2,
      "outputs": [
        {
          "output_type": "stream",
          "name": "stdout",
          "text": [
            "Looking in indexes: https://pypi.org/simple, https://us-python.pkg.dev/colab-wheels/public/simple/\n",
            "Requirement already satisfied: torcheval in /usr/local/lib/python3.10/dist-packages (0.0.6)\n",
            "Requirement already satisfied: torchtnt>=0.0.5 in /usr/local/lib/python3.10/dist-packages (from torcheval) (0.1.0)\n",
            "Requirement already satisfied: typing-extensions in /usr/local/lib/python3.10/dist-packages (from torcheval) (4.5.0)\n",
            "Requirement already satisfied: torch in /usr/local/lib/python3.10/dist-packages (from torchtnt>=0.0.5->torcheval) (2.0.1+cu118)\n",
            "Requirement already satisfied: numpy in /usr/local/lib/python3.10/dist-packages (from torchtnt>=0.0.5->torcheval) (1.22.4)\n",
            "Requirement already satisfied: fsspec in /usr/local/lib/python3.10/dist-packages (from torchtnt>=0.0.5->torcheval) (2023.4.0)\n",
            "Requirement already satisfied: tensorboard in /usr/local/lib/python3.10/dist-packages (from torchtnt>=0.0.5->torcheval) (2.12.2)\n",
            "Requirement already satisfied: packaging in /usr/local/lib/python3.10/dist-packages (from torchtnt>=0.0.5->torcheval) (23.1)\n",
            "Requirement already satisfied: psutil in /usr/local/lib/python3.10/dist-packages (from torchtnt>=0.0.5->torcheval) (5.9.5)\n",
            "Requirement already satisfied: pyre-extensions in /usr/local/lib/python3.10/dist-packages (from torchtnt>=0.0.5->torcheval) (0.0.30)\n",
            "Requirement already satisfied: setuptools in /usr/local/lib/python3.10/dist-packages (from torchtnt>=0.0.5->torcheval) (67.7.2)\n",
            "Requirement already satisfied: tqdm in /usr/local/lib/python3.10/dist-packages (from torchtnt>=0.0.5->torcheval) (4.65.0)\n",
            "Requirement already satisfied: typing-inspect in /usr/local/lib/python3.10/dist-packages (from pyre-extensions->torchtnt>=0.0.5->torcheval) (0.9.0)\n",
            "Requirement already satisfied: absl-py>=0.4 in /usr/local/lib/python3.10/dist-packages (from tensorboard->torchtnt>=0.0.5->torcheval) (1.4.0)\n",
            "Requirement already satisfied: grpcio>=1.48.2 in /usr/local/lib/python3.10/dist-packages (from tensorboard->torchtnt>=0.0.5->torcheval) (1.54.0)\n",
            "Requirement already satisfied: google-auth<3,>=1.6.3 in /usr/local/lib/python3.10/dist-packages (from tensorboard->torchtnt>=0.0.5->torcheval) (2.17.3)\n",
            "Requirement already satisfied: google-auth-oauthlib<1.1,>=0.5 in /usr/local/lib/python3.10/dist-packages (from tensorboard->torchtnt>=0.0.5->torcheval) (1.0.0)\n",
            "Requirement already satisfied: markdown>=2.6.8 in /usr/local/lib/python3.10/dist-packages (from tensorboard->torchtnt>=0.0.5->torcheval) (3.4.3)\n",
            "Requirement already satisfied: protobuf>=3.19.6 in /usr/local/lib/python3.10/dist-packages (from tensorboard->torchtnt>=0.0.5->torcheval) (3.20.3)\n",
            "Requirement already satisfied: requests<3,>=2.21.0 in /usr/local/lib/python3.10/dist-packages (from tensorboard->torchtnt>=0.0.5->torcheval) (2.27.1)\n",
            "Requirement already satisfied: tensorboard-data-server<0.8.0,>=0.7.0 in /usr/local/lib/python3.10/dist-packages (from tensorboard->torchtnt>=0.0.5->torcheval) (0.7.0)\n",
            "Requirement already satisfied: tensorboard-plugin-wit>=1.6.0 in /usr/local/lib/python3.10/dist-packages (from tensorboard->torchtnt>=0.0.5->torcheval) (1.8.1)\n",
            "Requirement already satisfied: werkzeug>=1.0.1 in /usr/local/lib/python3.10/dist-packages (from tensorboard->torchtnt>=0.0.5->torcheval) (2.3.0)\n",
            "Requirement already satisfied: wheel>=0.26 in /usr/local/lib/python3.10/dist-packages (from tensorboard->torchtnt>=0.0.5->torcheval) (0.40.0)\n",
            "Requirement already satisfied: filelock in /usr/local/lib/python3.10/dist-packages (from torch->torchtnt>=0.0.5->torcheval) (3.12.0)\n",
            "Requirement already satisfied: sympy in /usr/local/lib/python3.10/dist-packages (from torch->torchtnt>=0.0.5->torcheval) (1.11.1)\n",
            "Requirement already satisfied: networkx in /usr/local/lib/python3.10/dist-packages (from torch->torchtnt>=0.0.5->torcheval) (3.1)\n",
            "Requirement already satisfied: jinja2 in /usr/local/lib/python3.10/dist-packages (from torch->torchtnt>=0.0.5->torcheval) (3.1.2)\n",
            "Requirement already satisfied: triton==2.0.0 in /usr/local/lib/python3.10/dist-packages (from torch->torchtnt>=0.0.5->torcheval) (2.0.0)\n",
            "Requirement already satisfied: cmake in /usr/local/lib/python3.10/dist-packages (from triton==2.0.0->torch->torchtnt>=0.0.5->torcheval) (3.25.2)\n",
            "Requirement already satisfied: lit in /usr/local/lib/python3.10/dist-packages (from triton==2.0.0->torch->torchtnt>=0.0.5->torcheval) (16.0.5)\n",
            "Requirement already satisfied: cachetools<6.0,>=2.0.0 in /usr/local/lib/python3.10/dist-packages (from google-auth<3,>=1.6.3->tensorboard->torchtnt>=0.0.5->torcheval) (5.3.0)\n",
            "Requirement already satisfied: pyasn1-modules>=0.2.1 in /usr/local/lib/python3.10/dist-packages (from google-auth<3,>=1.6.3->tensorboard->torchtnt>=0.0.5->torcheval) (0.3.0)\n",
            "Requirement already satisfied: six>=1.9.0 in /usr/local/lib/python3.10/dist-packages (from google-auth<3,>=1.6.3->tensorboard->torchtnt>=0.0.5->torcheval) (1.16.0)\n",
            "Requirement already satisfied: rsa<5,>=3.1.4 in /usr/local/lib/python3.10/dist-packages (from google-auth<3,>=1.6.3->tensorboard->torchtnt>=0.0.5->torcheval) (4.9)\n",
            "Requirement already satisfied: requests-oauthlib>=0.7.0 in /usr/local/lib/python3.10/dist-packages (from google-auth-oauthlib<1.1,>=0.5->tensorboard->torchtnt>=0.0.5->torcheval) (1.3.1)\n",
            "Requirement already satisfied: urllib3<1.27,>=1.21.1 in /usr/local/lib/python3.10/dist-packages (from requests<3,>=2.21.0->tensorboard->torchtnt>=0.0.5->torcheval) (1.26.15)\n",
            "Requirement already satisfied: certifi>=2017.4.17 in /usr/local/lib/python3.10/dist-packages (from requests<3,>=2.21.0->tensorboard->torchtnt>=0.0.5->torcheval) (2022.12.7)\n",
            "Requirement already satisfied: charset-normalizer~=2.0.0 in /usr/local/lib/python3.10/dist-packages (from requests<3,>=2.21.0->tensorboard->torchtnt>=0.0.5->torcheval) (2.0.12)\n",
            "Requirement already satisfied: idna<4,>=2.5 in /usr/local/lib/python3.10/dist-packages (from requests<3,>=2.21.0->tensorboard->torchtnt>=0.0.5->torcheval) (3.4)\n",
            "Requirement already satisfied: MarkupSafe>=2.1.1 in /usr/local/lib/python3.10/dist-packages (from werkzeug>=1.0.1->tensorboard->torchtnt>=0.0.5->torcheval) (2.1.2)\n",
            "Requirement already satisfied: mpmath>=0.19 in /usr/local/lib/python3.10/dist-packages (from sympy->torch->torchtnt>=0.0.5->torcheval) (1.3.0)\n",
            "Requirement already satisfied: mypy-extensions>=0.3.0 in /usr/local/lib/python3.10/dist-packages (from typing-inspect->pyre-extensions->torchtnt>=0.0.5->torcheval) (1.0.0)\n",
            "Requirement already satisfied: pyasn1<0.6.0,>=0.4.6 in /usr/local/lib/python3.10/dist-packages (from pyasn1-modules>=0.2.1->google-auth<3,>=1.6.3->tensorboard->torchtnt>=0.0.5->torcheval) (0.5.0)\n",
            "Requirement already satisfied: oauthlib>=3.0.0 in /usr/local/lib/python3.10/dist-packages (from requests-oauthlib>=0.7.0->google-auth-oauthlib<1.1,>=0.5->tensorboard->torchtnt>=0.0.5->torcheval) (3.2.2)\n"
          ]
        }
      ]
    },
    {
      "cell_type": "code",
      "source": [
        "!pip install einops"
      ],
      "metadata": {
        "colab": {
          "base_uri": "https://localhost:8080/"
        },
        "id": "5GNZ9rDiAs9D",
        "outputId": "f57e4f69-b1f8-485e-f91a-0ddf10b369fe"
      },
      "execution_count": 3,
      "outputs": [
        {
          "output_type": "stream",
          "name": "stdout",
          "text": [
            "Looking in indexes: https://pypi.org/simple, https://us-python.pkg.dev/colab-wheels/public/simple/\n",
            "Requirement already satisfied: einops in /usr/local/lib/python3.10/dist-packages (0.6.1)\n"
          ]
        }
      ]
    },
    {
      "cell_type": "code",
      "execution_count": 4,
      "metadata": {
        "colab": {
          "base_uri": "https://localhost:8080/"
        },
        "id": "magVbz1alOrc",
        "outputId": "75173926-7361-49d9-cb5b-48d9007225e0"
      },
      "outputs": [
        {
          "output_type": "stream",
          "name": "stdout",
          "text": [
            "Downloading...\n",
            "From: https://drive.google.com/uc?id=1igdG6vjTxfdKmyb6bKF2QDus5e9ViJjc\n",
            "To: /content/processed.zip\n",
            "100% 7.03M/7.03M [00:00<00:00, 21.0MB/s]\n"
          ]
        }
      ],
      "source": [
        "!gdown 1igdG6vjTxfdKmyb6bKF2QDus5e9ViJjc"
      ]
    },
    {
      "cell_type": "code",
      "source": [
        "!unzip -q -o processed.zip"
      ],
      "metadata": {
        "id": "lzuq6U3elV6O"
      },
      "execution_count": 5,
      "outputs": []
    },
    {
      "cell_type": "code",
      "source": [
        "from torch.utils.data import Dataset, DataLoader\n",
        "import torch\n",
        "import torchvision\n",
        "from torchvision.ops import focal_loss\n",
        "from torchvision import transforms\n",
        "from PIL import Image\n",
        "\n",
        "import os\n",
        "import copy\n",
        "from pathlib import Path\n",
        "import matplotlib.pyplot as plt"
      ],
      "metadata": {
        "id": "j0I1hIvUlY7v"
      },
      "execution_count": 28,
      "outputs": []
    },
    {
      "cell_type": "code",
      "source": [
        "EPOCHS = 200"
      ],
      "metadata": {
        "id": "Zn5itnXMlaiU"
      },
      "execution_count": 39,
      "outputs": []
    },
    {
      "cell_type": "code",
      "source": [
        "# Config device\n",
        "device = torch.device('cuda' if torch.cuda.is_available() else 'cpu')\n",
        "device"
      ],
      "metadata": {
        "colab": {
          "base_uri": "https://localhost:8080/"
        },
        "id": "SOLh_VGjlbmW",
        "outputId": "544b4c01-4c89-4367-e8f2-14fd5adfc657"
      },
      "execution_count": 9,
      "outputs": [
        {
          "output_type": "execute_result",
          "data": {
            "text/plain": [
              "device(type='cuda')"
            ]
          },
          "metadata": {},
          "execution_count": 9
        }
      ]
    },
    {
      "cell_type": "code",
      "source": [],
      "metadata": {
        "id": "tjyvIg8rBQrR"
      },
      "execution_count": 7,
      "outputs": []
    },
    {
      "cell_type": "code",
      "source": [
        "class BananaLeafDiseaseDataset(Dataset):\n",
        "    def __init__(self, target_dir: str, transform=None):\n",
        "        self.transform = transform\n",
        "\n",
        "        # Load image paths\n",
        "        self.image_paths = list(Path(target_dir).glob('*/*.jpg'))\n",
        "        self.classes, self.class_to_idx = self.load_classes(target_dir)\n",
        "\n",
        "    def load_image(self, idx: int):\n",
        "        return Image.open(self.image_paths[idx])\n",
        "\n",
        "    def __len__(self):\n",
        "        return len(self.image_paths)\n",
        "\n",
        "    def __getitem__(self, idx):\n",
        "        img = self.load_image(idx)\n",
        "        class_name = self.image_paths[idx].parent.name\n",
        "        class_idx = self.class_to_idx[class_name]\n",
        "\n",
        "        if self.transform:\n",
        "            return self.transform(img), class_idx\n",
        "        else:\n",
        "            return img, class_idx\n",
        "\n",
        "\n",
        "    def load_classes(self, target_dir):\n",
        "        \"\"\"\n",
        "            Returns:\n",
        "                classes[]\n",
        "                class_to_idx{}\n",
        "        \"\"\"\n",
        "        classes = sorted(entry.name for entry in os.scandir(target_dir) if entry.is_dir())\n",
        "        class_to_idx = {cls_name: i for i, cls_name in enumerate(classes)}\n",
        "        return classes, class_to_idx"
      ],
      "metadata": {
        "id": "4VzEEv0clcyW"
      },
      "execution_count": 10,
      "outputs": []
    },
    {
      "cell_type": "code",
      "source": [
        "def train_one_epoch(train_loader, model, criterion, optimizer, scheduler):\n",
        "    # Train mode\n",
        "    model.train()\n",
        "\n",
        "    # Track metrics\n",
        "    loss_epoch = 0\n",
        "    accuracy_epoch = 0\n",
        "\n",
        "    # Loop over minibatches\n",
        "    for inputs, labels in train_loader:\n",
        "        # Send to device\n",
        "        inputs = inputs.to(device)\n",
        "        labels = labels.to(device)\n",
        "\n",
        "        # Forward pass\n",
        "        outputs = model(inputs)\n",
        "        loss = criterion(outputs, labels)\n",
        "\n",
        "        # Backprop\n",
        "        loss.backward()\n",
        "\n",
        "        # Update parameters\n",
        "        optimizer.step()\n",
        "\n",
        "        # Zero gradients\n",
        "        optimizer.zero_grad()\n",
        "\n",
        "        # Track loss\n",
        "        loss_epoch += loss.detach().item()\n",
        "\n",
        "        # Accuracy\n",
        "        _, preds = torch.max(outputs, 1)\n",
        "        accuracy_epoch += torch.sum(preds == labels)/inputs.shape[0]\n",
        "\n",
        "    # Update learning rate\n",
        "    scheduler.step()\n",
        "\n",
        "    return loss_epoch/len(train_loader), accuracy_epoch.item()/len(train_loader)"
      ],
      "metadata": {
        "id": "tWDrU3p6ldlV"
      },
      "execution_count": 11,
      "outputs": []
    },
    {
      "cell_type": "code",
      "source": [
        "def evaluate_one_epoch(test_loader, model, criterion):\n",
        "    # Eval mode\n",
        "    model.eval()\n",
        "\n",
        "    # Track metrics\n",
        "    loss_epoch = 0\n",
        "    accuracy_epoch = 0\n",
        "\n",
        "    # Don't update weights\n",
        "    with torch.no_grad():\n",
        "        # Loop over minibatches\n",
        "        for inputs, labels in test_loader:\n",
        "            # Send to device\n",
        "            inputs = inputs.to(device)\n",
        "            labels = labels.to(device)\n",
        "\n",
        "            # Forward pass\n",
        "            outputs = model(inputs)\n",
        "            loss = criterion(outputs, labels)\n",
        "\n",
        "            # Track loss\n",
        "            loss_epoch += loss.detach().item()\n",
        "\n",
        "            # Accuracy\n",
        "            _, preds = torch.max(outputs, 1)\n",
        "            accuracy_epoch += torch.sum(preds == labels)/inputs.shape[0]\n",
        "\n",
        "    return loss_epoch/len(test_loader), accuracy_epoch.item()/len(test_loader)"
      ],
      "metadata": {
        "id": "Z16nyA1YlfFY"
      },
      "execution_count": 12,
      "outputs": []
    },
    {
      "cell_type": "code",
      "source": [
        "# Plot history\n",
        "def plot_hist(train_loss_hist, test_loss_hist, train_acc_hist, test_acc_hist):\n",
        "    plt.figure(figsize=(15,4))\n",
        "    plt.subplot(1,2,1)\n",
        "    plt.plot(train_loss_hist, label='Train_Loss')\n",
        "    plt.plot(test_loss_hist, label='Val_loss')\n",
        "    plt.title('Cross Entropy Loss')\n",
        "    plt.legend()\n",
        "\n",
        "    plt.subplot(1,2,2)\n",
        "    plt.plot(train_acc_hist, label='Train_Accuracy')\n",
        "    plt.plot(test_acc_hist, label='Val_Accuracy')\n",
        "    plt.title('Accuracy')\n",
        "    plt.legend()\n",
        "    plt.show()"
      ],
      "metadata": {
        "id": "KpGEo5xIlf8z"
      },
      "execution_count": 14,
      "outputs": []
    },
    {
      "cell_type": "code",
      "source": [
        "def train_model(model, criterion, optimizer, scheduler, train_loader, val_loader, verbose=True, best_weight_file_name='model.h5'):\n",
        "    # Initialise outputs\n",
        "    train_loss_hist = []\n",
        "    val_loss_hist = []\n",
        "    train_acc_hist = []\n",
        "    val_acc_hist = []\n",
        "\n",
        "    max_val_acc = 0.0\n",
        "    best_model_weights = copy.deepcopy(model.state_dict())\n",
        "\n",
        "    # Loop over epochs\n",
        "    for epoch in range(EPOCHS):\n",
        "        # Train\n",
        "        train_loss, train_accuracy = train_one_epoch(train_loader, model, criterion, optimizer, scheduler)\n",
        "\n",
        "        # Evaluate\n",
        "        val_loss, val_accuracy = evaluate_one_epoch(val_loader, model, criterion)\n",
        "\n",
        "        # Track metrics\n",
        "        train_loss_hist.append(train_loss)\n",
        "        val_loss_hist.append(val_loss)\n",
        "        train_acc_hist.append(train_accuracy)\n",
        "        val_acc_hist.append(val_accuracy)\n",
        "\n",
        "        # Print loss\n",
        "        if verbose:\n",
        "            if (epoch+1)%1==0:\n",
        "                print(f'Epoch {epoch+1}/{EPOCHS}, loss {train_loss:.5f}, val_loss {val_loss:.5f}, accuracy {train_accuracy:.5f}, val_accuracy {val_accuracy:.5f}')\n",
        "\n",
        "        # Save best weight\n",
        "        if val_accuracy > max_val_acc:\n",
        "          max_val_acc = val_accuracy\n",
        "          best_model_weights = copy.deepcopy(model.state_dict())\n",
        "\n",
        "    # Save best weight to file\n",
        "    torch.save(best_model_weights, BASE_DIR + best_weight_file_name)\n",
        "\n",
        "    return train_loss_hist, val_loss_hist, train_acc_hist, val_acc_hist"
      ],
      "metadata": {
        "id": "YVxVi-GFlguP"
      },
      "execution_count": 16,
      "outputs": []
    },
    {
      "cell_type": "code",
      "source": [
        "basic_transforms = transforms.Compose([\n",
        "    transforms.Resize((224,224)),\n",
        "    transforms.ToTensor(),\n",
        "    transforms.Normalize((0.485, 0.456, 0.406), (0.229, 0.224, 0.225)),\n",
        "])\n",
        "\n",
        "train_transforms = transforms.Compose([\n",
        "    transforms.RandomVerticalFlip(p = 0.5),\n",
        "    transforms.RandomHorizontalFlip(p = 0.5),\n",
        "    transforms.ColorJitter(brightness=0.1, saturation=0.1, contrast=0.1),\n",
        "    transforms.Resize((224,224)),\n",
        "    transforms.ToTensor(),\n",
        "    transforms.Normalize((0.485, 0.456, 0.406), (0.229, 0.224, 0.225)),\n",
        "])"
      ],
      "metadata": {
        "id": "oOzWZ5_Klh00"
      },
      "execution_count": 20,
      "outputs": []
    },
    {
      "cell_type": "code",
      "source": [
        "train_dataset = BananaLeafDiseaseDataset('./processed/train', transform=train_transforms)\n",
        "val_dataset = BananaLeafDiseaseDataset('./processed/val', transform=train_transforms)\n",
        "test_dataset = BananaLeafDiseaseDataset('./processed/test', transform=basic_transforms)"
      ],
      "metadata": {
        "id": "292vBk3DlkMZ"
      },
      "execution_count": 21,
      "outputs": []
    },
    {
      "cell_type": "code",
      "source": [
        "# Address class imbalance\n",
        "classes = sorted(entry.name for entry in os.scandir('./processed/train') if entry.is_dir())\n",
        "class_to_idx = {cls_name: i for i, cls_name in enumerate(classes)}\n",
        "\n",
        "def get_weights(images):\n",
        "    num_images = len(images)\n",
        "    count_per_class = [0] * len(classes)\n",
        "\n",
        "    for img in images:\n",
        "        img_class = img.parent.name\n",
        "        class_idx = class_to_idx[img_class]\n",
        "        count_per_class[class_idx] += 1\n",
        "\n",
        "    weight_per_class = [0.0] * len(classes)\n",
        "\n",
        "    for i in range(len(classes)):\n",
        "        weight_per_class[i] = float(num_images) / float(count_per_class[i])\n",
        "\n",
        "    weights = [0] * num_images\n",
        "\n",
        "    for i, img in enumerate(images):\n",
        "        img_class = img.parent.name\n",
        "        class_idx = class_to_idx[img_class]\n",
        "        weights[i] = weight_per_class[class_idx]\n",
        "\n",
        "    return weights"
      ],
      "metadata": {
        "id": "i0cKNSFy0UkL"
      },
      "execution_count": 22,
      "outputs": []
    },
    {
      "cell_type": "code",
      "source": [
        "weights = get_weights(train_dataset.image_paths)\n",
        "sampler = torch.utils.data.sampler.WeightedRandomSampler(weights, len(weights))"
      ],
      "metadata": {
        "id": "mkvFpf2h23gJ"
      },
      "execution_count": 23,
      "outputs": []
    },
    {
      "cell_type": "code",
      "source": [
        "train_loader = DataLoader(train_dataset, batch_size=20, sampler=sampler)\n",
        "val_loader = DataLoader(val_dataset, batch_size=20, shuffle=True)\n",
        "test_loader = DataLoader(test_dataset, batch_size=20, shuffle=True)"
      ],
      "metadata": {
        "id": "1KhSLsjYlk20"
      },
      "execution_count": 24,
      "outputs": []
    },
    {
      "cell_type": "markdown",
      "source": [
        "## Training: Baseline Model (ResNet50)"
      ],
      "metadata": {
        "id": "OueNaGDu_iX4"
      }
    },
    {
      "cell_type": "code",
      "source": [
        "model = torchvision.models.resnet50()\n",
        "model.fc = torch.nn.Sequential(\n",
        "    torch.nn.Linear(\n",
        "        in_features=2048,\n",
        "        out_features=3\n",
        "    ),\n",
        "    torch.nn.Sigmoid()\n",
        ")\n",
        "model.to(device)\n",
        "optimizer = torch.optim.AdamW(model.parameters(), lr=1e-6)\n",
        "criterion = torch.nn.CrossEntropyLoss(label_smoothing=0.1)\n",
        "scheduler = torch.optim.lr_scheduler.CyclicLR(\n",
        "            optimizer, base_lr=1e-6, max_lr=1e-4, cycle_momentum=False\n",
        "        )\n"
      ],
      "metadata": {
        "id": "URL6RNxJlljn"
      },
      "execution_count": 40,
      "outputs": []
    },
    {
      "cell_type": "code",
      "source": [
        "train_loss_hist, test_loss_hist, train_acc_hist, test_acc_hist = train_model(model, criterion, optimizer, scheduler, train_loader, test_loader, verbose=True, best_weight_file_name='Best-ResNet.h5')"
      ],
      "metadata": {
        "colab": {
          "base_uri": "https://localhost:8080/"
        },
        "id": "1IWJGZN3lqX_",
        "outputId": "72ac9b02-3088-48d3-89db-dab00f90890d"
      },
      "execution_count": 41,
      "outputs": [
        {
          "output_type": "stream",
          "name": "stdout",
          "text": [
            "Epoch 1/200, loss 1.09598, val_loss 1.08496, accuracy 0.35833, val_accuracy 0.42917\n",
            "Epoch 2/200, loss 1.07912, val_loss 1.06854, accuracy 0.41406, val_accuracy 0.49583\n",
            "Epoch 3/200, loss 1.06382, val_loss 1.05504, accuracy 0.42943, val_accuracy 0.48125\n",
            "Epoch 4/200, loss 1.06013, val_loss 1.04916, accuracy 0.44661, val_accuracy 0.51875\n",
            "Epoch 5/200, loss 1.04589, val_loss 1.03417, accuracy 0.48906, val_accuracy 0.52917\n",
            "Epoch 6/200, loss 1.04741, val_loss 1.03350, accuracy 0.49792, val_accuracy 0.57500\n",
            "Epoch 7/200, loss 1.04595, val_loss 1.02608, accuracy 0.48411, val_accuracy 0.57708\n",
            "Epoch 8/200, loss 1.03728, val_loss 1.02959, accuracy 0.49974, val_accuracy 0.55417\n",
            "Epoch 9/200, loss 1.03414, val_loss 1.02592, accuracy 0.50625, val_accuracy 0.58333\n",
            "Epoch 10/200, loss 1.03512, val_loss 1.02216, accuracy 0.48255, val_accuracy 0.58750\n",
            "Epoch 11/200, loss 1.03609, val_loss 1.02045, accuracy 0.48698, val_accuracy 0.56667\n",
            "Epoch 12/200, loss 1.02789, val_loss 1.00872, accuracy 0.51771, val_accuracy 0.60417\n",
            "Epoch 13/200, loss 1.03156, val_loss 1.00312, accuracy 0.51432, val_accuracy 0.62083\n",
            "Epoch 14/200, loss 1.02294, val_loss 0.99372, accuracy 0.50885, val_accuracy 0.64167\n",
            "Epoch 15/200, loss 1.01139, val_loss 1.00832, accuracy 0.54036, val_accuracy 0.59375\n",
            "Epoch 16/200, loss 1.01232, val_loss 0.97921, accuracy 0.53776, val_accuracy 0.61667\n",
            "Epoch 17/200, loss 1.01373, val_loss 1.00462, accuracy 0.52370, val_accuracy 0.52500\n",
            "Epoch 18/200, loss 1.01466, val_loss 0.96840, accuracy 0.54714, val_accuracy 0.63542\n",
            "Epoch 19/200, loss 1.00591, val_loss 0.97835, accuracy 0.55182, val_accuracy 0.62083\n",
            "Epoch 20/200, loss 0.99216, val_loss 0.97948, accuracy 0.56536, val_accuracy 0.60208\n",
            "Epoch 21/200, loss 0.98566, val_loss 0.95034, accuracy 0.58021, val_accuracy 0.66875\n",
            "Epoch 22/200, loss 0.97270, val_loss 0.95130, accuracy 0.60365, val_accuracy 0.61458\n",
            "Epoch 23/200, loss 0.96927, val_loss 0.95122, accuracy 0.59271, val_accuracy 0.63333\n",
            "Epoch 24/200, loss 0.96983, val_loss 0.95642, accuracy 0.58307, val_accuracy 0.61042\n",
            "Epoch 25/200, loss 0.96448, val_loss 0.94418, accuracy 0.59479, val_accuracy 0.62083\n",
            "Epoch 26/200, loss 0.95353, val_loss 0.92819, accuracy 0.59505, val_accuracy 0.69792\n",
            "Epoch 27/200, loss 0.95684, val_loss 0.91229, accuracy 0.59062, val_accuracy 0.70625\n",
            "Epoch 28/200, loss 0.95127, val_loss 0.92268, accuracy 0.58854, val_accuracy 0.65417\n",
            "Epoch 29/200, loss 0.93588, val_loss 0.91985, accuracy 0.62526, val_accuracy 0.65000\n",
            "Epoch 30/200, loss 0.93362, val_loss 0.89612, accuracy 0.61875, val_accuracy 0.70625\n",
            "Epoch 31/200, loss 0.93608, val_loss 0.91111, accuracy 0.62474, val_accuracy 0.69792\n",
            "Epoch 32/200, loss 0.91903, val_loss 0.92216, accuracy 0.64870, val_accuracy 0.63958\n",
            "Epoch 33/200, loss 0.92397, val_loss 0.88479, accuracy 0.63516, val_accuracy 0.75625\n",
            "Epoch 34/200, loss 0.92259, val_loss 0.89666, accuracy 0.63151, val_accuracy 0.70000\n",
            "Epoch 35/200, loss 0.90765, val_loss 0.87857, accuracy 0.65885, val_accuracy 0.73125\n",
            "Epoch 36/200, loss 0.92483, val_loss 0.87963, accuracy 0.63490, val_accuracy 0.70000\n",
            "Epoch 37/200, loss 0.90573, val_loss 0.87311, accuracy 0.67057, val_accuracy 0.72292\n",
            "Epoch 38/200, loss 0.90449, val_loss 0.88889, accuracy 0.67734, val_accuracy 0.71667\n",
            "Epoch 39/200, loss 0.91081, val_loss 0.87754, accuracy 0.66380, val_accuracy 0.71875\n",
            "Epoch 40/200, loss 0.90755, val_loss 0.86898, accuracy 0.66198, val_accuracy 0.70833\n",
            "Epoch 41/200, loss 0.88703, val_loss 0.86232, accuracy 0.68359, val_accuracy 0.74167\n",
            "Epoch 42/200, loss 0.88539, val_loss 0.86937, accuracy 0.68906, val_accuracy 0.73750\n",
            "Epoch 43/200, loss 0.88921, val_loss 0.85067, accuracy 0.68620, val_accuracy 0.73333\n",
            "Epoch 44/200, loss 0.89097, val_loss 0.86567, accuracy 0.67682, val_accuracy 0.71250\n",
            "Epoch 45/200, loss 0.89186, val_loss 0.84982, accuracy 0.67786, val_accuracy 0.73958\n",
            "Epoch 46/200, loss 0.88688, val_loss 0.83318, accuracy 0.67865, val_accuracy 0.78750\n",
            "Epoch 47/200, loss 0.87652, val_loss 0.83940, accuracy 0.69974, val_accuracy 0.76667\n",
            "Epoch 48/200, loss 0.87023, val_loss 0.84217, accuracy 0.71589, val_accuracy 0.74792\n",
            "Epoch 49/200, loss 0.88778, val_loss 0.83044, accuracy 0.68958, val_accuracy 0.76667\n",
            "Epoch 50/200, loss 0.87651, val_loss 0.83761, accuracy 0.69948, val_accuracy 0.77083\n",
            "Epoch 51/200, loss 0.86155, val_loss 0.81615, accuracy 0.73177, val_accuracy 0.79375\n",
            "Epoch 52/200, loss 0.86360, val_loss 0.83306, accuracy 0.71979, val_accuracy 0.72500\n",
            "Epoch 53/200, loss 0.87786, val_loss 0.81763, accuracy 0.69896, val_accuracy 0.76042\n",
            "Epoch 54/200, loss 0.85341, val_loss 0.80313, accuracy 0.71771, val_accuracy 0.79375\n",
            "Epoch 55/200, loss 0.87430, val_loss 0.79851, accuracy 0.69766, val_accuracy 0.79792\n",
            "Epoch 56/200, loss 0.85582, val_loss 0.82156, accuracy 0.72891, val_accuracy 0.74583\n",
            "Epoch 57/200, loss 0.84612, val_loss 0.79989, accuracy 0.72656, val_accuracy 0.78333\n",
            "Epoch 58/200, loss 0.85652, val_loss 0.78960, accuracy 0.71589, val_accuracy 0.77292\n",
            "Epoch 59/200, loss 0.85321, val_loss 0.80809, accuracy 0.72682, val_accuracy 0.77917\n",
            "Epoch 60/200, loss 0.86301, val_loss 0.78271, accuracy 0.70885, val_accuracy 0.81250\n",
            "Epoch 61/200, loss 0.83684, val_loss 0.80087, accuracy 0.74557, val_accuracy 0.75833\n",
            "Epoch 62/200, loss 0.84413, val_loss 0.78234, accuracy 0.73281, val_accuracy 0.79167\n",
            "Epoch 63/200, loss 0.84222, val_loss 0.79946, accuracy 0.73307, val_accuracy 0.78958\n",
            "Epoch 64/200, loss 0.81957, val_loss 0.77532, accuracy 0.77161, val_accuracy 0.82500\n",
            "Epoch 65/200, loss 0.82186, val_loss 0.80309, accuracy 0.76328, val_accuracy 0.75625\n",
            "Epoch 66/200, loss 0.85562, val_loss 0.80352, accuracy 0.70859, val_accuracy 0.79167\n",
            "Epoch 67/200, loss 0.84605, val_loss 0.77521, accuracy 0.73516, val_accuracy 0.78542\n",
            "Epoch 68/200, loss 0.82893, val_loss 0.78723, accuracy 0.75234, val_accuracy 0.78125\n",
            "Epoch 69/200, loss 0.83948, val_loss 0.77612, accuracy 0.73646, val_accuracy 0.79167\n",
            "Epoch 70/200, loss 0.84314, val_loss 0.79227, accuracy 0.73359, val_accuracy 0.80833\n",
            "Epoch 71/200, loss 0.82333, val_loss 0.78856, accuracy 0.76432, val_accuracy 0.76875\n",
            "Epoch 72/200, loss 0.82533, val_loss 0.77952, accuracy 0.74740, val_accuracy 0.80208\n",
            "Epoch 73/200, loss 0.82897, val_loss 0.78257, accuracy 0.75000, val_accuracy 0.78542\n",
            "Epoch 74/200, loss 0.82603, val_loss 0.77095, accuracy 0.75573, val_accuracy 0.82500\n",
            "Epoch 75/200, loss 0.82872, val_loss 0.79106, accuracy 0.74948, val_accuracy 0.78333\n",
            "Epoch 76/200, loss 0.83510, val_loss 0.79234, accuracy 0.74062, val_accuracy 0.78958\n",
            "Epoch 77/200, loss 0.81212, val_loss 0.77249, accuracy 0.76875, val_accuracy 0.82500\n",
            "Epoch 78/200, loss 0.81069, val_loss 0.78246, accuracy 0.77422, val_accuracy 0.79792\n",
            "Epoch 79/200, loss 0.82254, val_loss 0.78360, accuracy 0.76094, val_accuracy 0.79375\n",
            "Epoch 80/200, loss 0.82708, val_loss 0.75548, accuracy 0.75182, val_accuracy 0.85625\n",
            "Epoch 81/200, loss 0.81600, val_loss 0.79030, accuracy 0.76458, val_accuracy 0.78333\n",
            "Epoch 82/200, loss 0.81181, val_loss 0.78422, accuracy 0.76120, val_accuracy 0.80208\n",
            "Epoch 83/200, loss 0.82143, val_loss 0.75125, accuracy 0.75260, val_accuracy 0.84167\n",
            "Epoch 84/200, loss 0.81300, val_loss 0.75882, accuracy 0.77344, val_accuracy 0.84792\n",
            "Epoch 85/200, loss 0.79923, val_loss 0.79218, accuracy 0.79714, val_accuracy 0.80000\n",
            "Epoch 86/200, loss 0.80941, val_loss 0.75748, accuracy 0.77135, val_accuracy 0.84167\n",
            "Epoch 87/200, loss 0.81807, val_loss 0.76295, accuracy 0.77057, val_accuracy 0.82292\n",
            "Epoch 88/200, loss 0.80096, val_loss 0.75998, accuracy 0.79974, val_accuracy 0.81458\n",
            "Epoch 89/200, loss 0.80999, val_loss 0.76339, accuracy 0.77161, val_accuracy 0.82292\n",
            "Epoch 90/200, loss 0.79402, val_loss 0.76269, accuracy 0.79219, val_accuracy 0.82083\n",
            "Epoch 91/200, loss 0.79694, val_loss 0.76486, accuracy 0.79141, val_accuracy 0.81875\n",
            "Epoch 92/200, loss 0.79672, val_loss 0.77046, accuracy 0.78828, val_accuracy 0.82083\n",
            "Epoch 93/200, loss 0.80381, val_loss 0.75574, accuracy 0.77057, val_accuracy 0.84792\n",
            "Epoch 94/200, loss 0.80264, val_loss 0.76696, accuracy 0.77760, val_accuracy 0.82917\n",
            "Epoch 95/200, loss 0.80780, val_loss 0.75367, accuracy 0.76823, val_accuracy 0.81667\n",
            "Epoch 96/200, loss 0.80677, val_loss 0.74569, accuracy 0.77786, val_accuracy 0.85000\n",
            "Epoch 97/200, loss 0.79749, val_loss 0.75584, accuracy 0.77682, val_accuracy 0.81667\n",
            "Epoch 98/200, loss 0.80483, val_loss 0.75464, accuracy 0.77656, val_accuracy 0.83542\n",
            "Epoch 99/200, loss 0.81420, val_loss 0.74954, accuracy 0.77708, val_accuracy 0.82917\n",
            "Epoch 100/200, loss 0.79879, val_loss 0.75042, accuracy 0.78151, val_accuracy 0.82292\n",
            "Epoch 101/200, loss 0.79202, val_loss 0.75163, accuracy 0.79375, val_accuracy 0.81667\n",
            "Epoch 102/200, loss 0.79888, val_loss 0.74306, accuracy 0.78151, val_accuracy 0.84167\n",
            "Epoch 103/200, loss 0.78488, val_loss 0.73220, accuracy 0.80573, val_accuracy 0.88750\n",
            "Epoch 104/200, loss 0.80113, val_loss 0.76349, accuracy 0.79193, val_accuracy 0.82083\n",
            "Epoch 105/200, loss 0.78082, val_loss 0.76860, accuracy 0.81719, val_accuracy 0.80833\n",
            "Epoch 106/200, loss 0.78797, val_loss 0.72815, accuracy 0.80312, val_accuracy 0.87500\n",
            "Epoch 107/200, loss 0.79280, val_loss 0.72998, accuracy 0.79453, val_accuracy 0.86875\n",
            "Epoch 108/200, loss 0.79855, val_loss 0.73906, accuracy 0.78255, val_accuracy 0.84167\n",
            "Epoch 109/200, loss 0.78449, val_loss 0.73947, accuracy 0.80469, val_accuracy 0.87500\n",
            "Epoch 110/200, loss 0.78263, val_loss 0.74983, accuracy 0.80937, val_accuracy 0.84375\n",
            "Epoch 111/200, loss 0.78842, val_loss 0.76296, accuracy 0.79740, val_accuracy 0.82292\n",
            "Epoch 112/200, loss 0.77445, val_loss 0.74589, accuracy 0.81198, val_accuracy 0.87292\n",
            "Epoch 113/200, loss 0.78256, val_loss 0.72944, accuracy 0.81406, val_accuracy 0.87500\n",
            "Epoch 114/200, loss 0.77026, val_loss 0.74328, accuracy 0.81693, val_accuracy 0.84375\n",
            "Epoch 115/200, loss 0.79555, val_loss 0.76508, accuracy 0.78620, val_accuracy 0.82500\n",
            "Epoch 116/200, loss 0.76502, val_loss 0.74464, accuracy 0.83047, val_accuracy 0.84375\n",
            "Epoch 117/200, loss 0.79558, val_loss 0.75994, accuracy 0.79141, val_accuracy 0.85625\n",
            "Epoch 118/200, loss 0.78664, val_loss 0.75476, accuracy 0.80208, val_accuracy 0.82083\n",
            "Epoch 119/200, loss 0.78325, val_loss 0.74800, accuracy 0.80234, val_accuracy 0.84583\n",
            "Epoch 120/200, loss 0.79792, val_loss 0.74639, accuracy 0.78047, val_accuracy 0.86875\n",
            "Epoch 121/200, loss 0.79432, val_loss 0.78310, accuracy 0.79219, val_accuracy 0.80417\n",
            "Epoch 122/200, loss 0.78485, val_loss 0.75340, accuracy 0.80625, val_accuracy 0.82917\n",
            "Epoch 123/200, loss 0.78083, val_loss 0.75819, accuracy 0.81432, val_accuracy 0.83333\n",
            "Epoch 124/200, loss 0.77758, val_loss 0.77635, accuracy 0.80990, val_accuracy 0.82292\n",
            "Epoch 125/200, loss 0.76818, val_loss 0.74925, accuracy 0.82292, val_accuracy 0.81458\n",
            "Epoch 126/200, loss 0.77575, val_loss 0.74786, accuracy 0.81328, val_accuracy 0.86042\n",
            "Epoch 127/200, loss 0.77810, val_loss 0.74582, accuracy 0.81094, val_accuracy 0.83333\n",
            "Epoch 128/200, loss 0.78666, val_loss 0.74994, accuracy 0.80625, val_accuracy 0.84792\n",
            "Epoch 129/200, loss 0.77419, val_loss 0.74801, accuracy 0.81042, val_accuracy 0.83333\n",
            "Epoch 130/200, loss 0.77631, val_loss 0.73757, accuracy 0.81927, val_accuracy 0.86875\n",
            "Epoch 131/200, loss 0.77879, val_loss 0.74147, accuracy 0.81328, val_accuracy 0.86042\n",
            "Epoch 132/200, loss 0.76796, val_loss 0.73843, accuracy 0.83203, val_accuracy 0.83542\n",
            "Epoch 133/200, loss 0.78446, val_loss 0.75329, accuracy 0.80703, val_accuracy 0.83542\n",
            "Epoch 134/200, loss 0.76637, val_loss 0.74098, accuracy 0.82526, val_accuracy 0.84583\n",
            "Epoch 135/200, loss 0.77235, val_loss 0.74697, accuracy 0.82057, val_accuracy 0.83333\n",
            "Epoch 136/200, loss 0.77311, val_loss 0.74748, accuracy 0.81276, val_accuracy 0.83333\n",
            "Epoch 137/200, loss 0.76984, val_loss 0.73655, accuracy 0.82526, val_accuracy 0.85417\n",
            "Epoch 138/200, loss 0.76484, val_loss 0.73129, accuracy 0.82604, val_accuracy 0.86250\n",
            "Epoch 139/200, loss 0.76952, val_loss 0.73524, accuracy 0.82708, val_accuracy 0.86250\n",
            "Epoch 140/200, loss 0.76900, val_loss 0.72906, accuracy 0.82760, val_accuracy 0.88125\n",
            "Epoch 141/200, loss 0.77940, val_loss 0.74041, accuracy 0.80911, val_accuracy 0.84792\n",
            "Epoch 142/200, loss 0.77246, val_loss 0.74545, accuracy 0.81536, val_accuracy 0.82917\n",
            "Epoch 143/200, loss 0.76230, val_loss 0.73492, accuracy 0.83047, val_accuracy 0.84792\n",
            "Epoch 144/200, loss 0.75428, val_loss 0.75106, accuracy 0.84010, val_accuracy 0.83333\n",
            "Epoch 145/200, loss 0.75216, val_loss 0.73133, accuracy 0.84792, val_accuracy 0.87500\n",
            "Epoch 146/200, loss 0.75779, val_loss 0.74146, accuracy 0.83984, val_accuracy 0.86250\n",
            "Epoch 147/200, loss 0.76106, val_loss 0.75215, accuracy 0.82891, val_accuracy 0.83542\n",
            "Epoch 148/200, loss 0.77086, val_loss 0.74543, accuracy 0.81406, val_accuracy 0.85625\n",
            "Epoch 149/200, loss 0.76756, val_loss 0.73609, accuracy 0.82813, val_accuracy 0.86250\n",
            "Epoch 150/200, loss 0.78008, val_loss 0.77787, accuracy 0.81120, val_accuracy 0.75625\n",
            "Epoch 151/200, loss 0.75732, val_loss 0.75954, accuracy 0.84141, val_accuracy 0.81667\n",
            "Epoch 152/200, loss 0.76273, val_loss 0.78325, accuracy 0.82292, val_accuracy 0.81458\n",
            "Epoch 153/200, loss 0.77270, val_loss 0.76419, accuracy 0.81745, val_accuracy 0.81667\n",
            "Epoch 154/200, loss 0.76657, val_loss 0.76423, accuracy 0.82370, val_accuracy 0.81458\n",
            "Epoch 155/200, loss 0.77369, val_loss 0.72478, accuracy 0.82708, val_accuracy 0.86250\n",
            "Epoch 156/200, loss 0.76314, val_loss 0.77403, accuracy 0.83516, val_accuracy 0.81458\n",
            "Epoch 157/200, loss 0.76676, val_loss 0.72693, accuracy 0.82109, val_accuracy 0.86875\n",
            "Epoch 158/200, loss 0.73571, val_loss 0.72967, accuracy 0.86406, val_accuracy 0.87292\n",
            "Epoch 159/200, loss 0.76223, val_loss 0.73135, accuracy 0.82812, val_accuracy 0.87292\n",
            "Epoch 160/200, loss 0.75414, val_loss 0.73123, accuracy 0.83932, val_accuracy 0.88542\n",
            "Epoch 161/200, loss 0.74031, val_loss 0.77251, accuracy 0.85885, val_accuracy 0.81667\n",
            "Epoch 162/200, loss 0.77038, val_loss 0.74547, accuracy 0.82344, val_accuracy 0.86250\n",
            "Epoch 163/200, loss 0.76004, val_loss 0.73668, accuracy 0.83490, val_accuracy 0.86042\n",
            "Epoch 164/200, loss 0.76711, val_loss 0.73961, accuracy 0.82552, val_accuracy 0.86250\n",
            "Epoch 165/200, loss 0.74134, val_loss 0.73633, accuracy 0.85703, val_accuracy 0.86458\n",
            "Epoch 166/200, loss 0.74866, val_loss 0.71109, accuracy 0.84479, val_accuracy 0.89375\n",
            "Epoch 167/200, loss 0.75125, val_loss 0.71113, accuracy 0.83828, val_accuracy 0.88750\n",
            "Epoch 168/200, loss 0.75493, val_loss 0.72531, accuracy 0.83594, val_accuracy 0.87500\n",
            "Epoch 169/200, loss 0.74236, val_loss 0.74063, accuracy 0.84844, val_accuracy 0.83542\n",
            "Epoch 170/200, loss 0.76706, val_loss 0.73723, accuracy 0.82344, val_accuracy 0.86875\n",
            "Epoch 171/200, loss 0.74367, val_loss 0.74619, accuracy 0.85026, val_accuracy 0.82708\n",
            "Epoch 172/200, loss 0.74765, val_loss 0.77537, accuracy 0.84375, val_accuracy 0.79375\n",
            "Epoch 173/200, loss 0.75032, val_loss 0.71917, accuracy 0.84479, val_accuracy 0.87917\n",
            "Epoch 174/200, loss 0.73861, val_loss 0.75647, accuracy 0.85495, val_accuracy 0.83750\n",
            "Epoch 175/200, loss 0.74495, val_loss 0.71725, accuracy 0.84766, val_accuracy 0.89375\n",
            "Epoch 176/200, loss 0.75393, val_loss 0.72167, accuracy 0.83724, val_accuracy 0.84792\n",
            "Epoch 177/200, loss 0.73776, val_loss 0.71330, accuracy 0.86797, val_accuracy 0.90000\n",
            "Epoch 178/200, loss 0.74800, val_loss 0.76427, accuracy 0.84505, val_accuracy 0.82917\n",
            "Epoch 179/200, loss 0.74221, val_loss 0.71571, accuracy 0.85052, val_accuracy 0.86667\n",
            "Epoch 180/200, loss 0.75080, val_loss 0.71490, accuracy 0.84375, val_accuracy 0.86875\n",
            "Epoch 181/200, loss 0.73785, val_loss 0.71796, accuracy 0.85833, val_accuracy 0.90000\n",
            "Epoch 182/200, loss 0.73557, val_loss 0.72662, accuracy 0.86354, val_accuracy 0.87917\n",
            "Epoch 183/200, loss 0.74281, val_loss 0.72047, accuracy 0.85417, val_accuracy 0.85833\n",
            "Epoch 184/200, loss 0.74686, val_loss 0.70569, accuracy 0.85625, val_accuracy 0.89792\n",
            "Epoch 185/200, loss 0.73681, val_loss 0.73658, accuracy 0.85964, val_accuracy 0.85000\n",
            "Epoch 186/200, loss 0.73837, val_loss 0.70586, accuracy 0.85781, val_accuracy 0.91875\n",
            "Epoch 187/200, loss 0.74431, val_loss 0.71227, accuracy 0.85573, val_accuracy 0.88750\n",
            "Epoch 188/200, loss 0.74017, val_loss 0.70260, accuracy 0.86042, val_accuracy 0.91875\n",
            "Epoch 189/200, loss 0.72916, val_loss 0.70990, accuracy 0.87656, val_accuracy 0.88542\n",
            "Epoch 190/200, loss 0.75633, val_loss 0.71879, accuracy 0.83099, val_accuracy 0.87500\n",
            "Epoch 191/200, loss 0.74118, val_loss 0.72159, accuracy 0.85521, val_accuracy 0.88125\n",
            "Epoch 192/200, loss 0.73888, val_loss 0.72178, accuracy 0.86484, val_accuracy 0.89167\n",
            "Epoch 193/200, loss 0.73906, val_loss 0.72348, accuracy 0.85911, val_accuracy 0.86667\n",
            "Epoch 194/200, loss 0.72575, val_loss 0.72085, accuracy 0.86719, val_accuracy 0.88125\n",
            "Epoch 195/200, loss 0.74071, val_loss 0.71100, accuracy 0.85937, val_accuracy 0.90000\n",
            "Epoch 196/200, loss 0.74126, val_loss 0.74918, accuracy 0.85365, val_accuracy 0.84583\n",
            "Epoch 197/200, loss 0.73806, val_loss 0.74611, accuracy 0.86224, val_accuracy 0.85000\n",
            "Epoch 198/200, loss 0.73144, val_loss 0.71857, accuracy 0.86719, val_accuracy 0.86875\n",
            "Epoch 199/200, loss 0.73715, val_loss 0.75076, accuracy 0.86432, val_accuracy 0.85417\n",
            "Epoch 200/200, loss 0.71804, val_loss 0.70696, accuracy 0.88802, val_accuracy 0.91250\n"
          ]
        }
      ]
    },
    {
      "cell_type": "code",
      "source": [
        "plot_hist(train_loss_hist, test_loss_hist, train_acc_hist, test_acc_hist)"
      ],
      "metadata": {
        "id": "Sbn37GhFAU-D",
        "colab": {
          "base_uri": "https://localhost:8080/",
          "height": 350
        },
        "outputId": "72419924-1cce-46d6-be7e-3ffdb450b857"
      },
      "execution_count": 42,
      "outputs": [
        {
          "output_type": "display_data",
          "data": {
            "text/plain": [
              "<Figure size 1500x400 with 2 Axes>"
            ],
            "image/png": "[encoded data removed]"
          },
          "metadata": {}
        }
      ]
    },
    {
      "cell_type": "code",
      "source": [
        "# Define MLP Mixer"
      ],
      "metadata": {
        "id": "wQH2y0QMAVBP"
      },
      "execution_count": null,
      "outputs": []
    },
    {
      "cell_type": "code",
      "source": [
        "from torch import nn\n",
        "from einops.layers.torch import Rearrange\n",
        "\n",
        "class FeedForward(nn.Module):\n",
        "    def __init__(self, dim, hidden_dim, dropout = 0.):\n",
        "        super().__init__()\n",
        "        self.net = nn.Sequential(\n",
        "            nn.Linear(dim, hidden_dim),\n",
        "            nn.GELU(),\n",
        "            nn.Dropout(dropout),\n",
        "            nn.Linear(hidden_dim, dim),\n",
        "            nn.Dropout(dropout)\n",
        "        )\n",
        "    def forward(self, x):\n",
        "        return self.net(x)\n",
        "\n",
        "class MixerBlock(nn.Module):\n",
        "    def __init__(self, dim, num_patch, token_dim, channel_dim, dropout = 0.):\n",
        "        super().__init__()\n",
        "\n",
        "        self.token_mix = nn.Sequential(\n",
        "            nn.LayerNorm(dim),\n",
        "            Rearrange('b n d -> b d n'),\n",
        "            FeedForward(num_patch, token_dim, dropout),\n",
        "            Rearrange('b d n -> b n d')\n",
        "        )\n",
        "\n",
        "        self.channel_mix = nn.Sequential(\n",
        "            nn.LayerNorm(dim),\n",
        "            FeedForward(dim, channel_dim, dropout),\n",
        "        )\n",
        "\n",
        "    def forward(self, x):\n",
        "        x = x + self.token_mix(x)\n",
        "        x = x + self.channel_mix(x)\n",
        "        return x\n",
        "\n",
        "class MLPMixer(nn.Module):\n",
        "    def __init__(\n",
        "        self,\n",
        "        in_channels,\n",
        "        dim,\n",
        "        num_classes,\n",
        "        patch_size,\n",
        "        image_size,\n",
        "        depth,\n",
        "        token_dim,\n",
        "        channel_dim\n",
        "    ):\n",
        "        super().__init__()\n",
        "\n",
        "        assert image_size % patch_size == 0, 'Image dimensions must be divisible by the patch size.'\n",
        "        self.num_patch =  (image_size// patch_size) ** 2\n",
        "        self.to_patch_embedding = nn.Sequential(\n",
        "            nn.Conv2d(in_channels, dim, patch_size, patch_size),\n",
        "            Rearrange('b c h w -> b (h w) c'),\n",
        "        )\n",
        "\n",
        "        self.mixer_blocks = nn.ModuleList([])\n",
        "\n",
        "        for _ in range(depth):\n",
        "            self.mixer_blocks.append(MixerBlock(dim, self.num_patch, token_dim, channel_dim))\n",
        "\n",
        "        self.layer_norm = nn.LayerNorm(dim)\n",
        "\n",
        "        self.mlp_head = nn.Sequential(\n",
        "            nn.Linear(dim, num_classes)\n",
        "        )\n",
        "\n",
        "    def forward(self, x):\n",
        "        x = self.to_patch_embedding(x)\n",
        "        for mixer_block in self.mixer_blocks:\n",
        "            x = mixer_block(x)\n",
        "\n",
        "        x = self.layer_norm(x)\n",
        "        x = x.mean(dim=1)\n",
        "        return self.mlp_head(x)"
      ],
      "metadata": {
        "id": "qMuFuF2aAVES"
      },
      "execution_count": 25,
      "outputs": []
    },
    {
      "cell_type": "code",
      "source": [],
      "metadata": {
        "id": "V8B3sySsUspa"
      },
      "execution_count": 33,
      "outputs": []
    },
    {
      "cell_type": "markdown",
      "source": [
        "## Training: MLPMixer"
      ],
      "metadata": {
        "id": "R7XOgi6g_mJW"
      }
    },
    {
      "cell_type": "code",
      "source": [
        "model_mixer = MLPMixer(in_channels=3, image_size=224, patch_size=16, num_classes=3,\n",
        "                     dim=256, depth=4, token_dim=128, channel_dim=512)\n",
        "model_mixer.to(device)\n",
        "optimizer = torch.optim.AdamW(model_mixer.parameters(), lr=1e-6)\n",
        "criterion = torch.nn.CrossEntropyLoss(label_smoothing=0.1)\n",
        "scheduler = torch.optim.lr_scheduler.CyclicLR(\n",
        "            optimizer, base_lr=1e-6, max_lr=1e-4, cycle_momentum=False\n",
        "            )"
      ],
      "metadata": {
        "id": "LYAMMTNUUrOZ"
      },
      "execution_count": 43,
      "outputs": []
    },
    {
      "cell_type": "code",
      "source": [
        "train_loss_hist_mixer, test_loss_hist_mixer, train_acc_hist_mixer, test_acc_hist_mixer = train_model(model_mixer, criterion, optimizer, scheduler, train_loader, test_loader, verbose=True, best_weight_file_name='Best-Mixer-tiny.h5')"
      ],
      "metadata": {
        "colab": {
          "base_uri": "https://localhost:8080/"
        },
        "id": "Apgfg9HMWlbF",
        "outputId": "0b897dd6-4be2-41f9-a374-07d9005bbb20"
      },
      "execution_count": 44,
      "outputs": [
        {
          "output_type": "stream",
          "name": "stdout",
          "text": [
            "Epoch 1/200, loss 1.14597, val_loss 1.10310, accuracy 0.31042, val_accuracy 0.40625\n",
            "Epoch 2/200, loss 1.09677, val_loss 1.06470, accuracy 0.39870, val_accuracy 0.54167\n",
            "Epoch 3/200, loss 1.06122, val_loss 1.04646, accuracy 0.51432, val_accuracy 0.48125\n",
            "Epoch 4/200, loss 1.04041, val_loss 1.01214, accuracy 0.50859, val_accuracy 0.54167\n",
            "Epoch 5/200, loss 1.01694, val_loss 1.00420, accuracy 0.52839, val_accuracy 0.57292\n",
            "Epoch 6/200, loss 1.00060, val_loss 0.98149, accuracy 0.56380, val_accuracy 0.56250\n",
            "Epoch 7/200, loss 0.99123, val_loss 0.97132, accuracy 0.54896, val_accuracy 0.57708\n",
            "Epoch 8/200, loss 0.98632, val_loss 0.96688, accuracy 0.54401, val_accuracy 0.56250\n",
            "Epoch 9/200, loss 0.96079, val_loss 0.95156, accuracy 0.57865, val_accuracy 0.64792\n",
            "Epoch 10/200, loss 0.94546, val_loss 0.94874, accuracy 0.58958, val_accuracy 0.60000\n",
            "Epoch 11/200, loss 0.94492, val_loss 0.93635, accuracy 0.57161, val_accuracy 0.63125\n",
            "Epoch 12/200, loss 0.93603, val_loss 0.91792, accuracy 0.59844, val_accuracy 0.62500\n",
            "Epoch 13/200, loss 0.93814, val_loss 0.92278, accuracy 0.58854, val_accuracy 0.59375\n",
            "Epoch 14/200, loss 0.91471, val_loss 0.90592, accuracy 0.59245, val_accuracy 0.61875\n",
            "Epoch 15/200, loss 0.90922, val_loss 0.90473, accuracy 0.59010, val_accuracy 0.66042\n",
            "Epoch 16/200, loss 0.90448, val_loss 0.91612, accuracy 0.60000, val_accuracy 0.61667\n",
            "Epoch 17/200, loss 0.90623, val_loss 0.90233, accuracy 0.59010, val_accuracy 0.63333\n",
            "Epoch 18/200, loss 0.89052, val_loss 0.92247, accuracy 0.61797, val_accuracy 0.60625\n",
            "Epoch 19/200, loss 0.86652, val_loss 0.88914, accuracy 0.64479, val_accuracy 0.63333\n",
            "Epoch 20/200, loss 0.87889, val_loss 0.88713, accuracy 0.61797, val_accuracy 0.63333\n",
            "Epoch 21/200, loss 0.87825, val_loss 0.86645, accuracy 0.62109, val_accuracy 0.66458\n",
            "Epoch 22/200, loss 0.87472, val_loss 0.89641, accuracy 0.60990, val_accuracy 0.61875\n",
            "Epoch 23/200, loss 0.85520, val_loss 0.85950, accuracy 0.62500, val_accuracy 0.63958\n",
            "Epoch 24/200, loss 0.86521, val_loss 0.86933, accuracy 0.62656, val_accuracy 0.69167\n",
            "Epoch 25/200, loss 0.86286, val_loss 0.86955, accuracy 0.65156, val_accuracy 0.70417\n",
            "Epoch 26/200, loss 0.84512, val_loss 0.85307, accuracy 0.65130, val_accuracy 0.67083\n",
            "Epoch 27/200, loss 0.83675, val_loss 0.84215, accuracy 0.66823, val_accuracy 0.69167\n",
            "Epoch 28/200, loss 0.85603, val_loss 0.86008, accuracy 0.63932, val_accuracy 0.67083\n",
            "Epoch 29/200, loss 0.84297, val_loss 0.84656, accuracy 0.63802, val_accuracy 0.67500\n",
            "Epoch 30/200, loss 0.84012, val_loss 0.82681, accuracy 0.65495, val_accuracy 0.69792\n",
            "Epoch 31/200, loss 0.83522, val_loss 0.83049, accuracy 0.65339, val_accuracy 0.69792\n",
            "Epoch 32/200, loss 0.84738, val_loss 0.82152, accuracy 0.66094, val_accuracy 0.70417\n",
            "Epoch 33/200, loss 0.83120, val_loss 0.84523, accuracy 0.67135, val_accuracy 0.67292\n",
            "Epoch 34/200, loss 0.82836, val_loss 0.82765, accuracy 0.65755, val_accuracy 0.71042\n",
            "Epoch 35/200, loss 0.83548, val_loss 0.85037, accuracy 0.64479, val_accuracy 0.68333\n",
            "Epoch 36/200, loss 0.83014, val_loss 0.82472, accuracy 0.66432, val_accuracy 0.70417\n",
            "Epoch 37/200, loss 0.81705, val_loss 0.82094, accuracy 0.66406, val_accuracy 0.68333\n",
            "Epoch 38/200, loss 0.81184, val_loss 0.80044, accuracy 0.67214, val_accuracy 0.72292\n",
            "Epoch 39/200, loss 0.81367, val_loss 0.79079, accuracy 0.68646, val_accuracy 0.74167\n",
            "Epoch 40/200, loss 0.81001, val_loss 0.79952, accuracy 0.69193, val_accuracy 0.68125\n",
            "Epoch 41/200, loss 0.80944, val_loss 0.81813, accuracy 0.69557, val_accuracy 0.68125\n",
            "Epoch 42/200, loss 0.82221, val_loss 0.77492, accuracy 0.66615, val_accuracy 0.73542\n",
            "Epoch 43/200, loss 0.81235, val_loss 0.78948, accuracy 0.68047, val_accuracy 0.70625\n",
            "Epoch 44/200, loss 0.79776, val_loss 0.78279, accuracy 0.68646, val_accuracy 0.74167\n",
            "Epoch 45/200, loss 0.79360, val_loss 0.76414, accuracy 0.70104, val_accuracy 0.74375\n",
            "Epoch 46/200, loss 0.79542, val_loss 0.81370, accuracy 0.69792, val_accuracy 0.70417\n",
            "Epoch 47/200, loss 0.75578, val_loss 0.82522, accuracy 0.73750, val_accuracy 0.66042\n",
            "Epoch 48/200, loss 0.77561, val_loss 0.77745, accuracy 0.72057, val_accuracy 0.71458\n",
            "Epoch 49/200, loss 0.77701, val_loss 0.77628, accuracy 0.71849, val_accuracy 0.72083\n",
            "Epoch 50/200, loss 0.77953, val_loss 0.78188, accuracy 0.70859, val_accuracy 0.70625\n",
            "Epoch 51/200, loss 0.78237, val_loss 0.76285, accuracy 0.69714, val_accuracy 0.76042\n",
            "Epoch 52/200, loss 0.76466, val_loss 0.77151, accuracy 0.71250, val_accuracy 0.72708\n",
            "Epoch 53/200, loss 0.76027, val_loss 0.74836, accuracy 0.72656, val_accuracy 0.76250\n",
            "Epoch 54/200, loss 0.78258, val_loss 0.76046, accuracy 0.70625, val_accuracy 0.71458\n",
            "Epoch 55/200, loss 0.76606, val_loss 0.76914, accuracy 0.70937, val_accuracy 0.72500\n",
            "Epoch 56/200, loss 0.77748, val_loss 0.76653, accuracy 0.71562, val_accuracy 0.71250\n",
            "Epoch 57/200, loss 0.74065, val_loss 0.73908, accuracy 0.73594, val_accuracy 0.75417\n",
            "Epoch 58/200, loss 0.74896, val_loss 0.72834, accuracy 0.72396, val_accuracy 0.75417\n",
            "Epoch 59/200, loss 0.75688, val_loss 0.73334, accuracy 0.71510, val_accuracy 0.73542\n",
            "Epoch 60/200, loss 0.74517, val_loss 0.73948, accuracy 0.73255, val_accuracy 0.76042\n",
            "Epoch 61/200, loss 0.75119, val_loss 0.70335, accuracy 0.72656, val_accuracy 0.77500\n",
            "Epoch 62/200, loss 0.74760, val_loss 0.75454, accuracy 0.72240, val_accuracy 0.71875\n",
            "Epoch 63/200, loss 0.74462, val_loss 0.70240, accuracy 0.71927, val_accuracy 0.78750\n",
            "Epoch 64/200, loss 0.75595, val_loss 0.75434, accuracy 0.72135, val_accuracy 0.74583\n",
            "Epoch 65/200, loss 0.71935, val_loss 0.71805, accuracy 0.74974, val_accuracy 0.76667\n",
            "Epoch 66/200, loss 0.74229, val_loss 0.70564, accuracy 0.73099, val_accuracy 0.77292\n",
            "Epoch 67/200, loss 0.74014, val_loss 0.75683, accuracy 0.72682, val_accuracy 0.73750\n",
            "Epoch 68/200, loss 0.71134, val_loss 0.76643, accuracy 0.75365, val_accuracy 0.69583\n",
            "Epoch 69/200, loss 0.72468, val_loss 0.71227, accuracy 0.73255, val_accuracy 0.73333\n",
            "Epoch 70/200, loss 0.73508, val_loss 0.71058, accuracy 0.72187, val_accuracy 0.73958\n",
            "Epoch 71/200, loss 0.71858, val_loss 0.70069, accuracy 0.74115, val_accuracy 0.74792\n",
            "Epoch 72/200, loss 0.73452, val_loss 0.69304, accuracy 0.72448, val_accuracy 0.76042\n",
            "Epoch 73/200, loss 0.73372, val_loss 0.71269, accuracy 0.72578, val_accuracy 0.75833\n",
            "Epoch 74/200, loss 0.71267, val_loss 0.73343, accuracy 0.73984, val_accuracy 0.75000\n",
            "Epoch 75/200, loss 0.71583, val_loss 0.67531, accuracy 0.73229, val_accuracy 0.77500\n",
            "Epoch 76/200, loss 0.72268, val_loss 0.69833, accuracy 0.73568, val_accuracy 0.75208\n",
            "Epoch 77/200, loss 0.71493, val_loss 0.72186, accuracy 0.74141, val_accuracy 0.73750\n",
            "Epoch 78/200, loss 0.71691, val_loss 0.68991, accuracy 0.73047, val_accuracy 0.78750\n",
            "Epoch 79/200, loss 0.70943, val_loss 0.68555, accuracy 0.73880, val_accuracy 0.77292\n",
            "Epoch 80/200, loss 0.73267, val_loss 0.68721, accuracy 0.72135, val_accuracy 0.77917\n",
            "Epoch 81/200, loss 0.71573, val_loss 0.70452, accuracy 0.73932, val_accuracy 0.73750\n",
            "Epoch 82/200, loss 0.72231, val_loss 0.69544, accuracy 0.73073, val_accuracy 0.77083\n",
            "Epoch 83/200, loss 0.70484, val_loss 0.68581, accuracy 0.75859, val_accuracy 0.76667\n",
            "Epoch 84/200, loss 0.69788, val_loss 0.70443, accuracy 0.76224, val_accuracy 0.74375\n",
            "Epoch 85/200, loss 0.68977, val_loss 0.65858, accuracy 0.77161, val_accuracy 0.80625\n",
            "Epoch 86/200, loss 0.70546, val_loss 0.71810, accuracy 0.75859, val_accuracy 0.73125\n",
            "Epoch 87/200, loss 0.68715, val_loss 0.67852, accuracy 0.75937, val_accuracy 0.77292\n",
            "Epoch 88/200, loss 0.68742, val_loss 0.67014, accuracy 0.76172, val_accuracy 0.77917\n",
            "Epoch 89/200, loss 0.69021, val_loss 0.67506, accuracy 0.76094, val_accuracy 0.75833\n",
            "Epoch 90/200, loss 0.70403, val_loss 0.67612, accuracy 0.75443, val_accuracy 0.77292\n",
            "Epoch 91/200, loss 0.67545, val_loss 0.69347, accuracy 0.77292, val_accuracy 0.76458\n",
            "Epoch 92/200, loss 0.69017, val_loss 0.66901, accuracy 0.76120, val_accuracy 0.77917\n",
            "Epoch 93/200, loss 0.68026, val_loss 0.69059, accuracy 0.76719, val_accuracy 0.74375\n",
            "Epoch 94/200, loss 0.68686, val_loss 0.66987, accuracy 0.76979, val_accuracy 0.77917\n",
            "Epoch 95/200, loss 0.68250, val_loss 0.65098, accuracy 0.77109, val_accuracy 0.77917\n",
            "Epoch 96/200, loss 0.65447, val_loss 0.63462, accuracy 0.78958, val_accuracy 0.81875\n",
            "Epoch 97/200, loss 0.67570, val_loss 0.65861, accuracy 0.77422, val_accuracy 0.78750\n",
            "Epoch 98/200, loss 0.68589, val_loss 0.64369, accuracy 0.75859, val_accuracy 0.78542\n",
            "Epoch 99/200, loss 0.66666, val_loss 0.67706, accuracy 0.79271, val_accuracy 0.77708\n",
            "Epoch 100/200, loss 0.66073, val_loss 0.65704, accuracy 0.78229, val_accuracy 0.78542\n",
            "Epoch 101/200, loss 0.68019, val_loss 0.64763, accuracy 0.76719, val_accuracy 0.78542\n",
            "Epoch 102/200, loss 0.62906, val_loss 0.62925, accuracy 0.80781, val_accuracy 0.81250\n",
            "Epoch 103/200, loss 0.65924, val_loss 0.62863, accuracy 0.77708, val_accuracy 0.81250\n",
            "Epoch 104/200, loss 0.66993, val_loss 0.63592, accuracy 0.77474, val_accuracy 0.79167\n",
            "Epoch 105/200, loss 0.64142, val_loss 0.62859, accuracy 0.80911, val_accuracy 0.80000\n",
            "Epoch 106/200, loss 0.64754, val_loss 0.62615, accuracy 0.79557, val_accuracy 0.79792\n",
            "Epoch 107/200, loss 0.66548, val_loss 0.66164, accuracy 0.78932, val_accuracy 0.80833\n",
            "Epoch 108/200, loss 0.64605, val_loss 0.63178, accuracy 0.79167, val_accuracy 0.81042\n",
            "Epoch 109/200, loss 0.64175, val_loss 0.63532, accuracy 0.80312, val_accuracy 0.78333\n",
            "Epoch 110/200, loss 0.63109, val_loss 0.65884, accuracy 0.82839, val_accuracy 0.78958\n",
            "Epoch 111/200, loss 0.65752, val_loss 0.62798, accuracy 0.79271, val_accuracy 0.84375\n",
            "Epoch 112/200, loss 0.63737, val_loss 0.66589, accuracy 0.80625, val_accuracy 0.79583\n",
            "Epoch 113/200, loss 0.61828, val_loss 0.62476, accuracy 0.82422, val_accuracy 0.78750\n",
            "Epoch 114/200, loss 0.62341, val_loss 0.62934, accuracy 0.82708, val_accuracy 0.81042\n",
            "Epoch 115/200, loss 0.63160, val_loss 0.63855, accuracy 0.81354, val_accuracy 0.78750\n",
            "Epoch 116/200, loss 0.59526, val_loss 0.59416, accuracy 0.83620, val_accuracy 0.84375\n",
            "Epoch 117/200, loss 0.62408, val_loss 0.62828, accuracy 0.81667, val_accuracy 0.83333\n",
            "Epoch 118/200, loss 0.63176, val_loss 0.60737, accuracy 0.81250, val_accuracy 0.83542\n",
            "Epoch 119/200, loss 0.60892, val_loss 0.59862, accuracy 0.83333, val_accuracy 0.86250\n",
            "Epoch 120/200, loss 0.59261, val_loss 0.63317, accuracy 0.84401, val_accuracy 0.82708\n",
            "Epoch 121/200, loss 0.62072, val_loss 0.60575, accuracy 0.81797, val_accuracy 0.83542\n",
            "Epoch 122/200, loss 0.61025, val_loss 0.58872, accuracy 0.82760, val_accuracy 0.86250\n",
            "Epoch 123/200, loss 0.59782, val_loss 0.59470, accuracy 0.83854, val_accuracy 0.85208\n",
            "Epoch 124/200, loss 0.60189, val_loss 0.64923, accuracy 0.83151, val_accuracy 0.83750\n",
            "Epoch 125/200, loss 0.59140, val_loss 0.57512, accuracy 0.84531, val_accuracy 0.84792\n",
            "Epoch 126/200, loss 0.58032, val_loss 0.57961, accuracy 0.85625, val_accuracy 0.86042\n",
            "Epoch 127/200, loss 0.60757, val_loss 0.60345, accuracy 0.82474, val_accuracy 0.84583\n",
            "Epoch 128/200, loss 0.58900, val_loss 0.57698, accuracy 0.83932, val_accuracy 0.86250\n",
            "Epoch 129/200, loss 0.59517, val_loss 0.56591, accuracy 0.84479, val_accuracy 0.87500\n",
            "Epoch 130/200, loss 0.58029, val_loss 0.57778, accuracy 0.85521, val_accuracy 0.86667\n",
            "Epoch 131/200, loss 0.58205, val_loss 0.55692, accuracy 0.85052, val_accuracy 0.87500\n",
            "Epoch 132/200, loss 0.57986, val_loss 0.58586, accuracy 0.84740, val_accuracy 0.85208\n",
            "Epoch 133/200, loss 0.57298, val_loss 0.55903, accuracy 0.86042, val_accuracy 0.89375\n",
            "Epoch 134/200, loss 0.58527, val_loss 0.56731, accuracy 0.85078, val_accuracy 0.88125\n",
            "Epoch 135/200, loss 0.57174, val_loss 0.57253, accuracy 0.86589, val_accuracy 0.86667\n",
            "Epoch 136/200, loss 0.56451, val_loss 0.53669, accuracy 0.85573, val_accuracy 0.91250\n",
            "Epoch 137/200, loss 0.58779, val_loss 0.56903, accuracy 0.84010, val_accuracy 0.89167\n",
            "Epoch 138/200, loss 0.56265, val_loss 0.54034, accuracy 0.86589, val_accuracy 0.87500\n",
            "Epoch 139/200, loss 0.57052, val_loss 0.56019, accuracy 0.86641, val_accuracy 0.88542\n",
            "Epoch 140/200, loss 0.55001, val_loss 0.56578, accuracy 0.88047, val_accuracy 0.87292\n",
            "Epoch 141/200, loss 0.55476, val_loss 0.57752, accuracy 0.88073, val_accuracy 0.86042\n",
            "Epoch 142/200, loss 0.55589, val_loss 0.54007, accuracy 0.87083, val_accuracy 0.89375\n",
            "Epoch 143/200, loss 0.53571, val_loss 0.55746, accuracy 0.88724, val_accuracy 0.86667\n",
            "Epoch 144/200, loss 0.55280, val_loss 0.54481, accuracy 0.86406, val_accuracy 0.90625\n",
            "Epoch 145/200, loss 0.53759, val_loss 0.55455, accuracy 0.88411, val_accuracy 0.87292\n",
            "Epoch 146/200, loss 0.54072, val_loss 0.57953, accuracy 0.88802, val_accuracy 0.87917\n",
            "Epoch 147/200, loss 0.54045, val_loss 0.53419, accuracy 0.88568, val_accuracy 0.88750\n",
            "Epoch 148/200, loss 0.51340, val_loss 0.56144, accuracy 0.89740, val_accuracy 0.87292\n",
            "Epoch 149/200, loss 0.50129, val_loss 0.53818, accuracy 0.90833, val_accuracy 0.87917\n",
            "Epoch 150/200, loss 0.53849, val_loss 0.52497, accuracy 0.88333, val_accuracy 0.89375\n",
            "Epoch 151/200, loss 0.52794, val_loss 0.53344, accuracy 0.88542, val_accuracy 0.89375\n",
            "Epoch 152/200, loss 0.52087, val_loss 0.51263, accuracy 0.88385, val_accuracy 0.91250\n",
            "Epoch 153/200, loss 0.52782, val_loss 0.51851, accuracy 0.88229, val_accuracy 0.89375\n",
            "Epoch 154/200, loss 0.50016, val_loss 0.54334, accuracy 0.90443, val_accuracy 0.87500\n",
            "Epoch 155/200, loss 0.50759, val_loss 0.52189, accuracy 0.90234, val_accuracy 0.90000\n",
            "Epoch 156/200, loss 0.51664, val_loss 0.52331, accuracy 0.88802, val_accuracy 0.86458\n",
            "Epoch 157/200, loss 0.50080, val_loss 0.52123, accuracy 0.90911, val_accuracy 0.89375\n",
            "Epoch 158/200, loss 0.51670, val_loss 0.51130, accuracy 0.89245, val_accuracy 0.90625\n",
            "Epoch 159/200, loss 0.49073, val_loss 0.54909, accuracy 0.92161, val_accuracy 0.85208\n",
            "Epoch 160/200, loss 0.49569, val_loss 0.53453, accuracy 0.91146, val_accuracy 0.87292\n",
            "Epoch 161/200, loss 0.48276, val_loss 0.53240, accuracy 0.91771, val_accuracy 0.86042\n",
            "Epoch 162/200, loss 0.49187, val_loss 0.52377, accuracy 0.91615, val_accuracy 0.87917\n",
            "Epoch 163/200, loss 0.48362, val_loss 0.50426, accuracy 0.90703, val_accuracy 0.91250\n",
            "Epoch 164/200, loss 0.47642, val_loss 0.55178, accuracy 0.92057, val_accuracy 0.87917\n",
            "Epoch 165/200, loss 0.49395, val_loss 0.50707, accuracy 0.91380, val_accuracy 0.89792\n",
            "Epoch 166/200, loss 0.49110, val_loss 0.50278, accuracy 0.90755, val_accuracy 0.90625\n",
            "Epoch 167/200, loss 0.46195, val_loss 0.50977, accuracy 0.93047, val_accuracy 0.90000\n",
            "Epoch 168/200, loss 0.45588, val_loss 0.48270, accuracy 0.93516, val_accuracy 0.89792\n",
            "Epoch 169/200, loss 0.46364, val_loss 0.60373, accuracy 0.92708, val_accuracy 0.87083\n",
            "Epoch 170/200, loss 0.45974, val_loss 0.51723, accuracy 0.93047, val_accuracy 0.88542\n",
            "Epoch 171/200, loss 0.50418, val_loss 0.50336, accuracy 0.90104, val_accuracy 0.90625\n",
            "Epoch 172/200, loss 0.48246, val_loss 0.48977, accuracy 0.91875, val_accuracy 0.91875\n",
            "Epoch 173/200, loss 0.45579, val_loss 0.49110, accuracy 0.93255, val_accuracy 0.90000\n",
            "Epoch 174/200, loss 0.46199, val_loss 0.50464, accuracy 0.92865, val_accuracy 0.91250\n",
            "Epoch 175/200, loss 0.45071, val_loss 0.51186, accuracy 0.93203, val_accuracy 0.87292\n",
            "Epoch 176/200, loss 0.45818, val_loss 0.48051, accuracy 0.92865, val_accuracy 0.89375\n",
            "Epoch 177/200, loss 0.44117, val_loss 0.50859, accuracy 0.94583, val_accuracy 0.91875\n",
            "Epoch 178/200, loss 0.44316, val_loss 0.48545, accuracy 0.93724, val_accuracy 0.91250\n",
            "Epoch 179/200, loss 0.45368, val_loss 0.48342, accuracy 0.92969, val_accuracy 0.90000\n",
            "Epoch 180/200, loss 0.45097, val_loss 0.52419, accuracy 0.94063, val_accuracy 0.88750\n",
            "Epoch 181/200, loss 0.43698, val_loss 0.47509, accuracy 0.94375, val_accuracy 0.90000\n",
            "Epoch 182/200, loss 0.43802, val_loss 0.50303, accuracy 0.94661, val_accuracy 0.87083\n",
            "Epoch 183/200, loss 0.42987, val_loss 0.50044, accuracy 0.94271, val_accuracy 0.89792\n",
            "Epoch 184/200, loss 0.41290, val_loss 0.49282, accuracy 0.96250, val_accuracy 0.89792\n",
            "Epoch 185/200, loss 0.43514, val_loss 0.46736, accuracy 0.94583, val_accuracy 0.91250\n",
            "Epoch 186/200, loss 0.43049, val_loss 0.45791, accuracy 0.94401, val_accuracy 0.90625\n",
            "Epoch 187/200, loss 0.43616, val_loss 0.52100, accuracy 0.93333, val_accuracy 0.89167\n",
            "Epoch 188/200, loss 0.41836, val_loss 0.52405, accuracy 0.96354, val_accuracy 0.89792\n",
            "Epoch 189/200, loss 0.41586, val_loss 0.47822, accuracy 0.96068, val_accuracy 0.91875\n",
            "Epoch 190/200, loss 0.41538, val_loss 0.49051, accuracy 0.95365, val_accuracy 0.87917\n",
            "Epoch 191/200, loss 0.41063, val_loss 0.48085, accuracy 0.95859, val_accuracy 0.91250\n",
            "Epoch 192/200, loss 0.41288, val_loss 0.50881, accuracy 0.95599, val_accuracy 0.91875\n",
            "Epoch 193/200, loss 0.40129, val_loss 0.47890, accuracy 0.96094, val_accuracy 0.89167\n",
            "Epoch 194/200, loss 0.40884, val_loss 0.52246, accuracy 0.96641, val_accuracy 0.92500\n",
            "Epoch 195/200, loss 0.41372, val_loss 0.46746, accuracy 0.95755, val_accuracy 0.92500\n",
            "Epoch 196/200, loss 0.39925, val_loss 0.46656, accuracy 0.96719, val_accuracy 0.92500\n",
            "Epoch 197/200, loss 0.39327, val_loss 0.47380, accuracy 0.96484, val_accuracy 0.92500\n",
            "Epoch 198/200, loss 0.39117, val_loss 0.49009, accuracy 0.97109, val_accuracy 0.89792\n",
            "Epoch 199/200, loss 0.39740, val_loss 0.50165, accuracy 0.96224, val_accuracy 0.89792\n",
            "Epoch 200/200, loss 0.41145, val_loss 0.48530, accuracy 0.95677, val_accuracy 0.91250\n"
          ]
        }
      ]
    },
    {
      "cell_type": "code",
      "source": [
        "plot_hist(train_loss_hist_mixer, test_loss_hist_mixer, train_acc_hist_mixer, test_acc_hist_mixer)"
      ],
      "metadata": {
        "colab": {
          "base_uri": "https://localhost:8080/",
          "height": 352
        },
        "id": "OHnuOB_PyzMM",
        "outputId": "eab5999b-65dd-457b-ce28-57bb1560eef2"
      },
      "execution_count": 45,
      "outputs": [
        {
          "output_type": "display_data",
          "data": {
            "text/plain": [
              "<Figure size 1500x400 with 2 Axes>"
            ],
            "image/png": "[encoded data removed]"
          },
          "metadata": {}
        }
      ]
    },
    {
      "cell_type": "code",
      "source": [],
      "metadata": {
        "id": "qmADUe50UrS-"
      },
      "execution_count": null,
      "outputs": []
    },
    {
      "cell_type": "code",
      "source": [],
      "metadata": {
        "id": "9QDftDGu_fPW"
      },
      "execution_count": null,
      "outputs": []
    },
    {
      "cell_type": "markdown",
      "source": [
        "## Training: MLPMixer (2)"
      ],
      "metadata": {
        "id": "YF9c4gHxAHYt"
      }
    },
    {
      "cell_type": "code",
      "source": [
        "model_mixer_2 = MLPMixer(in_channels=3, image_size=224, patch_size=16, num_classes=3,\n",
        "                     dim=256, depth=6, token_dim=128, channel_dim=512)\n",
        "model_mixer_2.to(device)\n",
        "optimizer = torch.optim.AdamW(model_mixer_2.parameters(), lr=1e-6)\n",
        "criterion = torch.nn.CrossEntropyLoss(label_smoothing=0.1)\n",
        "scheduler = torch.optim.lr_scheduler.CyclicLR(\n",
        "            optimizer, base_lr=1e-6, max_lr=1e-4, cycle_momentum=False\n",
        "            )"
      ],
      "metadata": {
        "id": "FU3cv-VN_fRk"
      },
      "execution_count": null,
      "outputs": []
    },
    {
      "cell_type": "code",
      "source": [
        "train_loss_hist_mixer_2, test_loss_hist_mixer_2, train_acc_hist_mixer_2, test_acc_hist_mixer_2 = train_model(model_mixer_2, criterion, optimizer, scheduler, train_loader, test_loader, verbose=True, best_weight_file_name='Best-Mixer-mid.h5')"
      ],
      "metadata": {
        "id": "b7t5sQL4ABPF"
      },
      "execution_count": null,
      "outputs": []
    },
    {
      "cell_type": "code",
      "source": [
        "plot_hist(train_loss_hist_mixer_2, test_loss_hist_mixer_2, train_acc_hist_mixer_2, test_acc_hist_mixer_2)"
      ],
      "metadata": {
        "id": "lnYk5idgAB4_"
      },
      "execution_count": null,
      "outputs": []
    },
    {
      "cell_type": "markdown",
      "source": [
        "## Evaluation"
      ],
      "metadata": {
        "id": "s6le808G_flX"
      }
    },
    {
      "cell_type": "code",
      "source": [
        "from sklearn.metrics import f1_score, accuracy_score, precision_score, recall_score, roc_auc_score\n",
        "import numpy as np\n",
        "\n",
        "def get_metrics(test_loader, model):\n",
        "    # Eval mode\n",
        "    model.eval()\n",
        "\n",
        "    y_preds = []\n",
        "    y_true = []\n",
        "    y_proba = []\n",
        "    # Don't update weights\n",
        "    with torch.no_grad():\n",
        "        # Loop over minibatches\n",
        "        for inputs, labels in test_loader:\n",
        "            # Send to device\n",
        "            inputs = inputs.to(device)\n",
        "            labels = labels.to(device)\n",
        "\n",
        "            # Forward pass\n",
        "            outputs = model(inputs)\n",
        "            proba = nn.functional.softmax(outputs, dim=1)\n",
        "\n",
        "            # Accuracy\n",
        "            _, preds = torch.max(outputs, 1)\n",
        "\n",
        "            preds_cpu = preds.cpu().detach().numpy()\n",
        "            labels_cpu = labels.cpu().detach().numpy()\n",
        "            proba_cpu = proba.cpu().detach().numpy()\n",
        "\n",
        "            y_preds.extend(preds_cpu.tolist())\n",
        "            y_true.extend(labels_cpu.tolist())\n",
        "            y_proba.extend(proba_cpu.tolist())\n",
        "\n",
        "    y_preds = np.array(y_preds)\n",
        "    y_true = np.array(y_true)\n",
        "    y_proba = np.array(y_proba)\n",
        "    print('Accuracy:', accuracy_score(y_true, y_preds))\n",
        "    print('Precision:', precision_score(y_true, y_preds, average='macro'))\n",
        "    print('Recall:', recall_score(y_true, y_preds, average='macro'))\n",
        "    print('F1-score:', f1_score(y_true, y_preds, average='macro'))\n",
        "    print('AUC:', roc_auc_score(y_true, y_proba, multi_class='ovr'))\n"
      ],
      "metadata": {
        "id": "rpCTh2H7e5N3"
      },
      "execution_count": 49,
      "outputs": []
    },
    {
      "cell_type": "code",
      "source": [],
      "metadata": {
        "id": "BH4-tDYbwPar"
      },
      "execution_count": null,
      "outputs": []
    },
    {
      "cell_type": "code",
      "source": [],
      "metadata": {
        "id": "d925lnY8wPhq"
      },
      "execution_count": null,
      "outputs": []
    },
    {
      "cell_type": "code",
      "source": [
        "# Download baseline model\n",
        "!gdown 1-1VhcgQShzwL_DWFMAcahuqGEJtPUt8k"
      ],
      "metadata": {
        "colab": {
          "base_uri": "https://localhost:8080/"
        },
        "id": "g6wfJ2v8wPkr",
        "outputId": "7dfa3425-8a8c-4945-fa81-2172fa3f4ac6"
      },
      "execution_count": 46,
      "outputs": [
        {
          "output_type": "stream",
          "name": "stdout",
          "text": [
            "Downloading...\n",
            "From: https://drive.google.com/uc?id=1-1VhcgQShzwL_DWFMAcahuqGEJtPUt8k\n",
            "To: /content/Best-ResNet.h5\n",
            "100% 94.4M/94.4M [00:01<00:00, 63.4MB/s]\n"
          ]
        }
      ]
    },
    {
      "cell_type": "code",
      "source": [
        "baseline_model = torchvision.models.resnet50()\n",
        "baseline_model.fc = torch.nn.Sequential(\n",
        "    torch.nn.Linear(\n",
        "        in_features=2048,\n",
        "        out_features=3\n",
        "    ),\n",
        "    torch.nn.Sigmoid()\n",
        ")\n",
        "baseline_model.to(device)\n",
        "baseline_model.load_state_dict(torch.load('Best-ResNet.h5'))"
      ],
      "metadata": {
        "colab": {
          "base_uri": "https://localhost:8080/"
        },
        "id": "ffhc6kA9wVMH",
        "outputId": "4ac2eedf-643b-4319-ca4e-885495283a31"
      },
      "execution_count": 50,
      "outputs": [
        {
          "output_type": "execute_result",
          "data": {
            "text/plain": [
              "<All keys matched successfully>"
            ]
          },
          "metadata": {},
          "execution_count": 50
        }
      ]
    },
    {
      "cell_type": "code",
      "source": [
        "get_metrics(test_loader, baseline_model)"
      ],
      "metadata": {
        "colab": {
          "base_uri": "https://localhost:8080/"
        },
        "id": "Nfyr9CZnwh18",
        "outputId": "e0ecc26b-c49e-4ef7-a8b8-d42e9a4db1fd"
      },
      "execution_count": 51,
      "outputs": [
        {
          "output_type": "stream",
          "name": "stdout",
          "text": [
            "Accuracy: 0.910958904109589\n",
            "Precision: 0.9121384369350577\n",
            "Recall: 0.9113888888888888\n",
            "F1-score: 0.9117009727288519\n",
            "AUC: 0.9679591836734693\n"
          ]
        }
      ]
    },
    {
      "cell_type": "code",
      "source": [
        "# Download best model"
      ],
      "metadata": {
        "id": "DNEjqkJoiHXQ"
      },
      "execution_count": 83,
      "outputs": []
    },
    {
      "cell_type": "code",
      "source": [
        "!gdown 1-4eOiGqAVWT7m3LB6KLGF78Fy_v1ZpQf"
      ],
      "metadata": {
        "colab": {
          "base_uri": "https://localhost:8080/"
        },
        "id": "Le3k8Bz7iHZj",
        "outputId": "d468a871-ef78-435b-b504-4337e92d2a3f"
      },
      "execution_count": 52,
      "outputs": [
        {
          "output_type": "stream",
          "name": "stdout",
          "text": [
            "Downloading...\n",
            "From: https://drive.google.com/uc?id=1-4eOiGqAVWT7m3LB6KLGF78Fy_v1ZpQf\n",
            "To: /content/Best-Mixer-tiny.h5\n",
            "\r  0% 0.00/5.85M [00:00<?, ?B/s]\r100% 5.85M/5.85M [00:00<00:00, 83.1MB/s]\n"
          ]
        }
      ]
    },
    {
      "cell_type": "code",
      "source": [
        "best_model_mixer_4 = MLPMixer(in_channels=3, image_size=224, patch_size=16, num_classes=3,\n",
        "                     dim=256, depth=4, token_dim=128, channel_dim=512)\n",
        "best_model_mixer_4.to(device)\n",
        "best_model_mixer_4.load_state_dict(torch.load('Best-Mixer-tiny.h5'))"
      ],
      "metadata": {
        "colab": {
          "base_uri": "https://localhost:8080/"
        },
        "id": "HHWJiZWfiLc7",
        "outputId": "0fa6b9f5-b18f-4974-d7d7-615e6fa418ec"
      },
      "execution_count": 53,
      "outputs": [
        {
          "output_type": "execute_result",
          "data": {
            "text/plain": [
              "<All keys matched successfully>"
            ]
          },
          "metadata": {},
          "execution_count": 53
        }
      ]
    },
    {
      "cell_type": "code",
      "source": [
        "get_metrics(test_loader, best_model_mixer_4)"
      ],
      "metadata": {
        "colab": {
          "base_uri": "https://localhost:8080/"
        },
        "id": "hTWfl9TdfINg",
        "outputId": "f8ae90fc-64ac-4904-b455-28ecf149d5ee"
      },
      "execution_count": 54,
      "outputs": [
        {
          "output_type": "stream",
          "name": "stdout",
          "text": [
            "Accuracy: 0.9178082191780822\n",
            "Precision: 0.9195127623699052\n",
            "Recall: 0.9180555555555556\n",
            "F1-score: 0.9179406972955361\n",
            "AUC: 0.9826729024943311\n"
          ]
        }
      ]
    },
    {
      "cell_type": "code",
      "source": [],
      "metadata": {
        "id": "8D7_y2WUfV4I"
      },
      "execution_count": 54,
      "outputs": []
    },
    {
      "cell_type": "code",
      "source": [
        "from prettytable import PrettyTable\n",
        "\n",
        "def count_parameters(model):\n",
        "    table = PrettyTable([\"Modules\", \"Parameters\"])\n",
        "    total_params = 0\n",
        "    for name, parameter in model.named_parameters():\n",
        "        if not parameter.requires_grad:\n",
        "            continue\n",
        "        param = parameter.numel()\n",
        "        table.add_row([name, param])\n",
        "        total_params+=param\n",
        "    print(table)\n",
        "    print(f\"Total Trainable Params: {total_params}\")\n",
        "    return total_params\n"
      ],
      "metadata": {
        "id": "IzzF8SqTRsK7"
      },
      "execution_count": 55,
      "outputs": []
    },
    {
      "cell_type": "code",
      "source": [
        "count_parameters(baseline_model)"
      ],
      "metadata": {
        "colab": {
          "base_uri": "https://localhost:8080/"
        },
        "id": "CW5IWGPLR6qa",
        "outputId": "973e7cfd-1b8a-4101-8b02-8413c0f4d855"
      },
      "execution_count": 58,
      "outputs": [
        {
          "output_type": "stream",
          "name": "stdout",
          "text": [
            "+------------------------------+------------+\n",
            "|           Modules            | Parameters |\n",
            "+------------------------------+------------+\n",
            "|         conv1.weight         |    9408    |\n",
            "|          bn1.weight          |     64     |\n",
            "|           bn1.bias           |     64     |\n",
            "|    layer1.0.conv1.weight     |    4096    |\n",
            "|     layer1.0.bn1.weight      |     64     |\n",
            "|      layer1.0.bn1.bias       |     64     |\n",
            "|    layer1.0.conv2.weight     |   36864    |\n",
            "|     layer1.0.bn2.weight      |     64     |\n",
            "|      layer1.0.bn2.bias       |     64     |\n",
            "|    layer1.0.conv3.weight     |   16384    |\n",
            "|     layer1.0.bn3.weight      |    256     |\n",
            "|      layer1.0.bn3.bias       |    256     |\n",
            "| layer1.0.downsample.0.weight |   16384    |\n",
            "| layer1.0.downsample.1.weight |    256     |\n",
            "|  layer1.0.downsample.1.bias  |    256     |\n",
            "|    layer1.1.conv1.weight     |   16384    |\n",
            "|     layer1.1.bn1.weight      |     64     |\n",
            "|      layer1.1.bn1.bias       |     64     |\n",
            "|    layer1.1.conv2.weight     |   36864    |\n",
            "|     layer1.1.bn2.weight      |     64     |\n",
            "|      layer1.1.bn2.bias       |     64     |\n",
            "|    layer1.1.conv3.weight     |   16384    |\n",
            "|     layer1.1.bn3.weight      |    256     |\n",
            "|      layer1.1.bn3.bias       |    256     |\n",
            "|    layer1.2.conv1.weight     |   16384    |\n",
            "|     layer1.2.bn1.weight      |     64     |\n",
            "|      layer1.2.bn1.bias       |     64     |\n",
            "|    layer1.2.conv2.weight     |   36864    |\n",
            "|     layer1.2.bn2.weight      |     64     |\n",
            "|      layer1.2.bn2.bias       |     64     |\n",
            "|    layer1.2.conv3.weight     |   16384    |\n",
            "|     layer1.2.bn3.weight      |    256     |\n",
            "|      layer1.2.bn3.bias       |    256     |\n",
            "|    layer2.0.conv1.weight     |   32768    |\n",
            "|     layer2.0.bn1.weight      |    128     |\n",
            "|      layer2.0.bn1.bias       |    128     |\n",
            "|    layer2.0.conv2.weight     |   147456   |\n",
            "|     layer2.0.bn2.weight      |    128     |\n",
            "|      layer2.0.bn2.bias       |    128     |\n",
            "|    layer2.0.conv3.weight     |   65536    |\n",
            "|     layer2.0.bn3.weight      |    512     |\n",
            "|      layer2.0.bn3.bias       |    512     |\n",
            "| layer2.0.downsample.0.weight |   131072   |\n",
            "| layer2.0.downsample.1.weight |    512     |\n",
            "|  layer2.0.downsample.1.bias  |    512     |\n",
            "|    layer2.1.conv1.weight     |   65536    |\n",
            "|     layer2.1.bn1.weight      |    128     |\n",
            "|      layer2.1.bn1.bias       |    128     |\n",
            "|    layer2.1.conv2.weight     |   147456   |\n",
            "|     layer2.1.bn2.weight      |    128     |\n",
            "|      layer2.1.bn2.bias       |    128     |\n",
            "|    layer2.1.conv3.weight     |   65536    |\n",
            "|     layer2.1.bn3.weight      |    512     |\n",
            "|      layer2.1.bn3.bias       |    512     |\n",
            "|    layer2.2.conv1.weight     |   65536    |\n",
            "|     layer2.2.bn1.weight      |    128     |\n",
            "|      layer2.2.bn1.bias       |    128     |\n",
            "|    layer2.2.conv2.weight     |   147456   |\n",
            "|     layer2.2.bn2.weight      |    128     |\n",
            "|      layer2.2.bn2.bias       |    128     |\n",
            "|    layer2.2.conv3.weight     |   65536    |\n",
            "|     layer2.2.bn3.weight      |    512     |\n",
            "|      layer2.2.bn3.bias       |    512     |\n",
            "|    layer2.3.conv1.weight     |   65536    |\n",
            "|     layer2.3.bn1.weight      |    128     |\n",
            "|      layer2.3.bn1.bias       |    128     |\n",
            "|    layer2.3.conv2.weight     |   147456   |\n",
            "|     layer2.3.bn2.weight      |    128     |\n",
            "|      layer2.3.bn2.bias       |    128     |\n",
            "|    layer2.3.conv3.weight     |   65536    |\n",
            "|     layer2.3.bn3.weight      |    512     |\n",
            "|      layer2.3.bn3.bias       |    512     |\n",
            "|    layer3.0.conv1.weight     |   131072   |\n",
            "|     layer3.0.bn1.weight      |    256     |\n",
            "|      layer3.0.bn1.bias       |    256     |\n",
            "|    layer3.0.conv2.weight     |   589824   |\n",
            "|     layer3.0.bn2.weight      |    256     |\n",
            "|      layer3.0.bn2.bias       |    256     |\n",
            "|    layer3.0.conv3.weight     |   262144   |\n",
            "|     layer3.0.bn3.weight      |    1024    |\n",
            "|      layer3.0.bn3.bias       |    1024    |\n",
            "| layer3.0.downsample.0.weight |   524288   |\n",
            "| layer3.0.downsample.1.weight |    1024    |\n",
            "|  layer3.0.downsample.1.bias  |    1024    |\n",
            "|    layer3.1.conv1.weight     |   262144   |\n",
            "|     layer3.1.bn1.weight      |    256     |\n",
            "|      layer3.1.bn1.bias       |    256     |\n",
            "|    layer3.1.conv2.weight     |   589824   |\n",
            "|     layer3.1.bn2.weight      |    256     |\n",
            "|      layer3.1.bn2.bias       |    256     |\n",
            "|    layer3.1.conv3.weight     |   262144   |\n",
            "|     layer3.1.bn3.weight      |    1024    |\n",
            "|      layer3.1.bn3.bias       |    1024    |\n",
            "|    layer3.2.conv1.weight     |   262144   |\n",
            "|     layer3.2.bn1.weight      |    256     |\n",
            "|      layer3.2.bn1.bias       |    256     |\n",
            "|    layer3.2.conv2.weight     |   589824   |\n",
            "|     layer3.2.bn2.weight      |    256     |\n",
            "|      layer3.2.bn2.bias       |    256     |\n",
            "|    layer3.2.conv3.weight     |   262144   |\n",
            "|     layer3.2.bn3.weight      |    1024    |\n",
            "|      layer3.2.bn3.bias       |    1024    |\n",
            "|    layer3.3.conv1.weight     |   262144   |\n",
            "|     layer3.3.bn1.weight      |    256     |\n",
            "|      layer3.3.bn1.bias       |    256     |\n",
            "|    layer3.3.conv2.weight     |   589824   |\n",
            "|     layer3.3.bn2.weight      |    256     |\n",
            "|      layer3.3.bn2.bias       |    256     |\n",
            "|    layer3.3.conv3.weight     |   262144   |\n",
            "|     layer3.3.bn3.weight      |    1024    |\n",
            "|      layer3.3.bn3.bias       |    1024    |\n",
            "|    layer3.4.conv1.weight     |   262144   |\n",
            "|     layer3.4.bn1.weight      |    256     |\n",
            "|      layer3.4.bn1.bias       |    256     |\n",
            "|    layer3.4.conv2.weight     |   589824   |\n",
            "|     layer3.4.bn2.weight      |    256     |\n",
            "|      layer3.4.bn2.bias       |    256     |\n",
            "|    layer3.4.conv3.weight     |   262144   |\n",
            "|     layer3.4.bn3.weight      |    1024    |\n",
            "|      layer3.4.bn3.bias       |    1024    |\n",
            "|    layer3.5.conv1.weight     |   262144   |\n",
            "|     layer3.5.bn1.weight      |    256     |\n",
            "|      layer3.5.bn1.bias       |    256     |\n",
            "|    layer3.5.conv2.weight     |   589824   |\n",
            "|     layer3.5.bn2.weight      |    256     |\n",
            "|      layer3.5.bn2.bias       |    256     |\n",
            "|    layer3.5.conv3.weight     |   262144   |\n",
            "|     layer3.5.bn3.weight      |    1024    |\n",
            "|      layer3.5.bn3.bias       |    1024    |\n",
            "|    layer4.0.conv1.weight     |   524288   |\n",
            "|     layer4.0.bn1.weight      |    512     |\n",
            "|      layer4.0.bn1.bias       |    512     |\n",
            "|    layer4.0.conv2.weight     |  2359296   |\n",
            "|     layer4.0.bn2.weight      |    512     |\n",
            "|      layer4.0.bn2.bias       |    512     |\n",
            "|    layer4.0.conv3.weight     |  1048576   |\n",
            "|     layer4.0.bn3.weight      |    2048    |\n",
            "|      layer4.0.bn3.bias       |    2048    |\n",
            "| layer4.0.downsample.0.weight |  2097152   |\n",
            "| layer4.0.downsample.1.weight |    2048    |\n",
            "|  layer4.0.downsample.1.bias  |    2048    |\n",
            "|    layer4.1.conv1.weight     |  1048576   |\n",
            "|     layer4.1.bn1.weight      |    512     |\n",
            "|      layer4.1.bn1.bias       |    512     |\n",
            "|    layer4.1.conv2.weight     |  2359296   |\n",
            "|     layer4.1.bn2.weight      |    512     |\n",
            "|      layer4.1.bn2.bias       |    512     |\n",
            "|    layer4.1.conv3.weight     |  1048576   |\n",
            "|     layer4.1.bn3.weight      |    2048    |\n",
            "|      layer4.1.bn3.bias       |    2048    |\n",
            "|    layer4.2.conv1.weight     |  1048576   |\n",
            "|     layer4.2.bn1.weight      |    512     |\n",
            "|      layer4.2.bn1.bias       |    512     |\n",
            "|    layer4.2.conv2.weight     |  2359296   |\n",
            "|     layer4.2.bn2.weight      |    512     |\n",
            "|      layer4.2.bn2.bias       |    512     |\n",
            "|    layer4.2.conv3.weight     |  1048576   |\n",
            "|     layer4.2.bn3.weight      |    2048    |\n",
            "|      layer4.2.bn3.bias       |    2048    |\n",
            "|         fc.0.weight          |    6144    |\n",
            "|          fc.0.bias           |     3      |\n",
            "+------------------------------+------------+\n",
            "Total Trainable Params: 23514179\n"
          ]
        },
        {
          "output_type": "execute_result",
          "data": {
            "text/plain": [
              "23514179"
            ]
          },
          "metadata": {},
          "execution_count": 58
        }
      ]
    },
    {
      "cell_type": "code",
      "source": [
        "count_parameters(best_model_mixer_4)"
      ],
      "metadata": {
        "colab": {
          "base_uri": "https://localhost:8080/"
        },
        "id": "6S3ghkLLRsbz",
        "outputId": "5318741c-8467-4254-b33f-a07c38c95fb4"
      },
      "execution_count": 57,
      "outputs": [
        {
          "output_type": "stream",
          "name": "stdout",
          "text": [
            "+-------------------------------------------+------------+\n",
            "|                  Modules                  | Parameters |\n",
            "+-------------------------------------------+------------+\n",
            "|        to_patch_embedding.0.weight        |   196608   |\n",
            "|         to_patch_embedding.0.bias         |    256     |\n",
            "|     mixer_blocks.0.token_mix.0.weight     |    256     |\n",
            "|      mixer_blocks.0.token_mix.0.bias      |    256     |\n",
            "|  mixer_blocks.0.token_mix.2.net.0.weight  |   25088    |\n",
            "|   mixer_blocks.0.token_mix.2.net.0.bias   |    128     |\n",
            "|  mixer_blocks.0.token_mix.2.net.3.weight  |   25088    |\n",
            "|   mixer_blocks.0.token_mix.2.net.3.bias   |    196     |\n",
            "|    mixer_blocks.0.channel_mix.0.weight    |    256     |\n",
            "|     mixer_blocks.0.channel_mix.0.bias     |    256     |\n",
            "| mixer_blocks.0.channel_mix.1.net.0.weight |   131072   |\n",
            "|  mixer_blocks.0.channel_mix.1.net.0.bias  |    512     |\n",
            "| mixer_blocks.0.channel_mix.1.net.3.weight |   131072   |\n",
            "|  mixer_blocks.0.channel_mix.1.net.3.bias  |    256     |\n",
            "|     mixer_blocks.1.token_mix.0.weight     |    256     |\n",
            "|      mixer_blocks.1.token_mix.0.bias      |    256     |\n",
            "|  mixer_blocks.1.token_mix.2.net.0.weight  |   25088    |\n",
            "|   mixer_blocks.1.token_mix.2.net.0.bias   |    128     |\n",
            "|  mixer_blocks.1.token_mix.2.net.3.weight  |   25088    |\n",
            "|   mixer_blocks.1.token_mix.2.net.3.bias   |    196     |\n",
            "|    mixer_blocks.1.channel_mix.0.weight    |    256     |\n",
            "|     mixer_blocks.1.channel_mix.0.bias     |    256     |\n",
            "| mixer_blocks.1.channel_mix.1.net.0.weight |   131072   |\n",
            "|  mixer_blocks.1.channel_mix.1.net.0.bias  |    512     |\n",
            "| mixer_blocks.1.channel_mix.1.net.3.weight |   131072   |\n",
            "|  mixer_blocks.1.channel_mix.1.net.3.bias  |    256     |\n",
            "|     mixer_blocks.2.token_mix.0.weight     |    256     |\n",
            "|      mixer_blocks.2.token_mix.0.bias      |    256     |\n",
            "|  mixer_blocks.2.token_mix.2.net.0.weight  |   25088    |\n",
            "|   mixer_blocks.2.token_mix.2.net.0.bias   |    128     |\n",
            "|  mixer_blocks.2.token_mix.2.net.3.weight  |   25088    |\n",
            "|   mixer_blocks.2.token_mix.2.net.3.bias   |    196     |\n",
            "|    mixer_blocks.2.channel_mix.0.weight    |    256     |\n",
            "|     mixer_blocks.2.channel_mix.0.bias     |    256     |\n",
            "| mixer_blocks.2.channel_mix.1.net.0.weight |   131072   |\n",
            "|  mixer_blocks.2.channel_mix.1.net.0.bias  |    512     |\n",
            "| mixer_blocks.2.channel_mix.1.net.3.weight |   131072   |\n",
            "|  mixer_blocks.2.channel_mix.1.net.3.bias  |    256     |\n",
            "|     mixer_blocks.3.token_mix.0.weight     |    256     |\n",
            "|      mixer_blocks.3.token_mix.0.bias      |    256     |\n",
            "|  mixer_blocks.3.token_mix.2.net.0.weight  |   25088    |\n",
            "|   mixer_blocks.3.token_mix.2.net.0.bias   |    128     |\n",
            "|  mixer_blocks.3.token_mix.2.net.3.weight  |   25088    |\n",
            "|   mixer_blocks.3.token_mix.2.net.3.bias   |    196     |\n",
            "|    mixer_blocks.3.channel_mix.0.weight    |    256     |\n",
            "|     mixer_blocks.3.channel_mix.0.bias     |    256     |\n",
            "| mixer_blocks.3.channel_mix.1.net.0.weight |   131072   |\n",
            "|  mixer_blocks.3.channel_mix.1.net.0.bias  |    512     |\n",
            "| mixer_blocks.3.channel_mix.1.net.3.weight |   131072   |\n",
            "|  mixer_blocks.3.channel_mix.1.net.3.bias  |    256     |\n",
            "|             layer_norm.weight             |    256     |\n",
            "|              layer_norm.bias              |    256     |\n",
            "|             mlp_head.0.weight             |    768     |\n",
            "|              mlp_head.0.bias              |     3      |\n",
            "+-------------------------------------------+------------+\n",
            "Total Trainable Params: 1455891\n"
          ]
        },
        {
          "output_type": "execute_result",
          "data": {
            "text/plain": [
              "1455891"
            ]
          },
          "metadata": {},
          "execution_count": 57
        }
      ]
    },
    {
      "cell_type": "code",
      "source": [],
      "metadata": {
        "id": "tSW33frfRutN"
      },
      "execution_count": null,
      "outputs": []
    }
  ]
}