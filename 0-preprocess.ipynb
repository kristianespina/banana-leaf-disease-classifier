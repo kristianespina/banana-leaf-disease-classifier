{
 "cells": [
  {
   "cell_type": "code",
   "execution_count": 6,
   "id": "d8e087e4",
   "metadata": {},
   "outputs": [],
   "source": [
    "import glob\n",
    "from pathlib import Path"
   ]
  },
  {
   "cell_type": "code",
   "execution_count": 8,
   "id": "c8842572",
   "metadata": {},
   "outputs": [],
   "source": [
    "folders = glob.glob('./dataset/*')"
   ]
  },
  {
   "cell_type": "code",
   "execution_count": 10,
   "id": "9d156127",
   "metadata": {},
   "outputs": [
    {
     "data": {
      "text/plain": [
       "['./dataset/xamthomonas', './dataset/healthy', './dataset/segatoka']"
      ]
     },
     "execution_count": 10,
     "metadata": {},
     "output_type": "execute_result"
    }
   ],
   "source": [
    "folders"
   ]
  },
  {
   "cell_type": "code",
   "execution_count": 18,
   "id": "d9f4029f",
   "metadata": {},
   "outputs": [
    {
     "name": "stdout",
     "output_type": "stream",
     "text": [
      "./dataset/xamthomonas: 814 images\n",
      "./dataset/healthy: 155 images\n",
      "./dataset/segatoka: 320 images\n"
     ]
    }
   ],
   "source": [
    "# Load dataset\n",
    "full_dataset = {}\n",
    "for folder in folders:\n",
    "    images = glob.glob(folder + '/*.jpg')\n",
    "    print(folder + ': ' + str(len(images)) + ' images')\n",
    "    full_dataset[folder] = images"
   ]
  },
  {
   "cell_type": "code",
   "execution_count": 33,
   "id": "e7f48bac",
   "metadata": {},
   "outputs": [],
   "source": [
    "# Helper function\n",
    "def get_class_name(folder, prefix='./dataset/'):\n",
    "    return folder[len(prefix):]"
   ]
  },
  {
   "cell_type": "code",
   "execution_count": 23,
   "id": "58fdeb8b",
   "metadata": {},
   "outputs": [],
   "source": [
    "# Split dataset into train, val, and test"
   ]
  },
  {
   "cell_type": "code",
   "execution_count": 24,
   "id": "9a8c0571",
   "metadata": {},
   "outputs": [],
   "source": [
    "val_size = 20\n",
    "test_size = 30"
   ]
  },
  {
   "cell_type": "code",
   "execution_count": 44,
   "id": "7d4a3a90",
   "metadata": {},
   "outputs": [
    {
     "name": "stdout",
     "output_type": "stream",
     "text": [
      "xamthomonas 774 20 20\n",
      "healthy 115 20 20\n",
      "segatoka 280 20 20\n"
     ]
    }
   ],
   "source": [
    "import shutil\n",
    "import os\n",
    "import random\n",
    "random.seed(42)\n",
    "\n",
    "for y in full_dataset.keys():\n",
    "    X_raw = full_dataset[y]\n",
    "    # Shuffle\n",
    "    X = random.shuffle(X_raw)\n",
    "    label = get_class_name(y)\n",
    "    \n",
    "    # Create directories\n",
    "    Path(\"./processed/train/\"+label).mkdir(parents=True, exist_ok=True)\n",
    "    Path(\"./processed/val/\"+label).mkdir(parents=True, exist_ok=True)\n",
    "    Path(\"./processed/test/\"+label).mkdir(parents=True, exist_ok=True)\n",
    "    \n",
    "    \n",
    "    # Get splits\n",
    "    val_index = len(X) - val_size - test_size\n",
    "    test_index = val_index + val_size\n",
    "    train_set = X[:val_index]\n",
    "    val_set = X[val_index:test_index]\n",
    "    test_set = X[test_index:]\n",
    "    \n",
    "    # Print stats\n",
    "    print(label, len(train_set), len(val_set), len(test_set))\n",
    "    \n",
    "    # Copy files\n",
    "    for src_train in train_set:\n",
    "        shutil.copy(src_train, \"./processed/train/\"+label+'/'+os.path.basename(src_train))\n",
    "    for src_val in val_set:\n",
    "        shutil.copy(src_val, \"./processed/val/\"+label+'/'+os.path.basename(src_val))\n",
    "    for src_test in test_set:\n",
    "        shutil.copy(src_test, \"./processed/test/\"+label+'/'+os.path.basename(src_test))"
   ]
  },
  {
   "cell_type": "code",
   "execution_count": null,
   "id": "ac864a8c",
   "metadata": {},
   "outputs": [],
   "source": []
  }
 ],
 "metadata": {
  "kernelspec": {
   "display_name": "Python 3 (ipykernel)",
   "language": "python",
   "name": "python3"
  },
  "language_info": {
   "codemirror_mode": {
    "name": "ipython",
    "version": 3
   },
   "file_extension": ".py",
   "mimetype": "text/x-python",
   "name": "python",
   "nbconvert_exporter": "python",
   "pygments_lexer": "ipython3",
   "version": "3.9.13"
  }
 },
 "nbformat": 4,
 "nbformat_minor": 5
}
